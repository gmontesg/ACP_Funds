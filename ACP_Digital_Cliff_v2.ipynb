{
 "cells": [
  {
   "cell_type": "markdown",
   "id": "5af0296d",
   "metadata": {},
   "source": [
    "Data Source:https://www.usac.org/about/affordable-connectivity-program/acp-enrollment-and-claims-tracker/#enrollment-by-state\n",
    "\n",
    "Data Dictionary:https://www.usac.org/wp-content/uploads/about/documents/acp/Data-Dictionary.pdf\n",
    "\n",
    "ACP Tracker: https://docs.google.com/spreadsheets/d/10TXgJuorSMcl_v-OcbqgpkpsSia4SL_ErDXCML3iUbo/edit#gid=0\n",
    "\n"
   ]
  },
  {
   "cell_type": "code",
   "execution_count": 3,
   "id": "56cb214c",
   "metadata": {},
   "outputs": [],
   "source": [
    "import pandas as pd\n",
    "from matplotlib import pyplot as plt\n",
    "#import pylab\n",
    "import numpy as np\n",
    "from scipy import stats\n",
    "from datetime import date, timedelta\n",
    "import plotly.graph_objects as go\n",
    "from plotly.subplots import make_subplots"
   ]
  },
  {
   "cell_type": "code",
   "execution_count": 6,
   "id": "5b5b4ada",
   "metadata": {},
   "outputs": [],
   "source": [
    "def linear_plot(x,y,col_1,col_2):\n",
    "    \"\"\"Plot x,y including a linear regression\n",
    "    \n",
    "    Arguments:\n",
    "    x = x-axis variable\n",
    "    y = y-axis variable\n",
    "    col_1: x-axis label\n",
    "    col_2: y-axis label \n",
    "    \"\"\"\n",
    "    \n",
    "    d=0.1\n",
    "    slope, intercept, r, p, std_err = stats.linregress(x, y)\n",
    "    print('m = {} \\ny0 = {} \\nr = {}\\nstd = {} '.format(slope, intercept, r, p, std_err))\n",
    "    y_prep=list(map(lambda x0:(slope*x0+intercept),x))\n",
    "    fig, ax= plt.subplots()\n",
    "    fig.set_size_inches(8,4)\n",
    "    ax.plot(x,y,color='orange')\n",
    "    ax.plot(x,y_prep,color='green')\n",
    "    ax.set_xlabel(col_1)\n",
    "    ax.set_ylabel(col_2)\n",
    "    ax.set_ylim(y.min()*(1-d),y.max()*(1+d))\n",
    "    plt.show()\n",
    "    \n",
    "    return intercept,slope"
   ]
  },
  {
   "cell_type": "code",
   "execution_count": 5,
   "id": "d791c6e2",
   "metadata": {},
   "outputs": [
    {
     "name": "stdout",
     "output_type": "stream",
     "text": [
      "ACP-Claims-by-County-January-November-2022.xlsx\r\n",
      "ACP-Claims-by-County-January-October-2022.xlsx\r\n",
      "ACP-Enrollments-by-County-as-of-December-1-2022.xlsx\r\n",
      "ACP-Households-by-County-January-November-2022.xlsx\r\n",
      "ACP-Households-by-County-January-October-2022.xlsx\r\n"
     ]
    }
   ],
   "source": [
    "ls *xlsx"
   ]
  },
  {
   "cell_type": "markdown",
   "id": "63897644",
   "metadata": {},
   "source": [
    "# Claims vs Enrollments\n",
    "\n",
    "\n",
    "**Claims:** Providers begin certifying claims on the 1st of the month for the prior data month (i.e. for example, on May 1 providers can begin to certify claims for the April 2022 data month). To be reimbursed within the current month, providers must certify the claims by the 15th of that month.\n",
    "\n",
    "**Enrollment:** ACP providers must fully pass through ACP support to eligible households each month in the form of a discount regardless of when they file a claim for reimbursement. Each month, we will update the data to reflect claims certified during the six month window.\n",
    "\n",
    "Enrollments are already receiving the benefit from providers. We use enrollments to count the total subscribers that will eventually be claimed by providers\n",
    "\n"
   ]
  },
  {
   "cell_type": "markdown",
   "id": "d7c8d983",
   "metadata": {},
   "source": [
    "## Claims"
   ]
  },
  {
   "cell_type": "code",
   "execution_count": 7,
   "id": "f38ce61c",
   "metadata": {},
   "outputs": [
    {
     "data": {
      "text/html": [
       "<div>\n",
       "<style scoped>\n",
       "    .dataframe tbody tr th:only-of-type {\n",
       "        vertical-align: middle;\n",
       "    }\n",
       "\n",
       "    .dataframe tbody tr th {\n",
       "        vertical-align: top;\n",
       "    }\n",
       "\n",
       "    .dataframe thead th {\n",
       "        text-align: right;\n",
       "    }\n",
       "</style>\n",
       "<table border=\"1\" class=\"dataframe\">\n",
       "  <thead>\n",
       "    <tr style=\"text-align: right;\">\n",
       "      <th></th>\n",
       "      <th>data_month</th>\n",
       "      <th>total_claimed_subscribers</th>\n",
       "      <th>total_claimed_devices</th>\n",
       "      <th>service_support</th>\n",
       "      <th>device_support</th>\n",
       "      <th>total_support</th>\n",
       "    </tr>\n",
       "  </thead>\n",
       "  <tbody>\n",
       "    <tr>\n",
       "      <th>0</th>\n",
       "      <td>2022-01-01</td>\n",
       "      <td>8235728</td>\n",
       "      <td>413562</td>\n",
       "      <td>3.542841e+08</td>\n",
       "      <td>41335415.63</td>\n",
       "      <td>3.956195e+08</td>\n",
       "    </tr>\n",
       "    <tr>\n",
       "      <th>1</th>\n",
       "      <td>2022-02-01</td>\n",
       "      <td>8714543</td>\n",
       "      <td>278109</td>\n",
       "      <td>3.597353e+08</td>\n",
       "      <td>27796265.05</td>\n",
       "      <td>3.875316e+08</td>\n",
       "    </tr>\n",
       "    <tr>\n",
       "      <th>2</th>\n",
       "      <td>2022-03-01</td>\n",
       "      <td>9462909</td>\n",
       "      <td>223345</td>\n",
       "      <td>2.791492e+08</td>\n",
       "      <td>22238593.71</td>\n",
       "      <td>3.013877e+08</td>\n",
       "    </tr>\n",
       "    <tr>\n",
       "      <th>3</th>\n",
       "      <td>2022-04-01</td>\n",
       "      <td>9814091</td>\n",
       "      <td>184228</td>\n",
       "      <td>2.902180e+08</td>\n",
       "      <td>18326126.23</td>\n",
       "      <td>3.085441e+08</td>\n",
       "    </tr>\n",
       "    <tr>\n",
       "      <th>4</th>\n",
       "      <td>2022-05-01</td>\n",
       "      <td>10492334</td>\n",
       "      <td>217322</td>\n",
       "      <td>3.105463e+08</td>\n",
       "      <td>21665562.67</td>\n",
       "      <td>3.322118e+08</td>\n",
       "    </tr>\n",
       "    <tr>\n",
       "      <th>5</th>\n",
       "      <td>2022-06-01</td>\n",
       "      <td>11163104</td>\n",
       "      <td>236033</td>\n",
       "      <td>3.311573e+08</td>\n",
       "      <td>23507522.27</td>\n",
       "      <td>3.546648e+08</td>\n",
       "    </tr>\n",
       "    <tr>\n",
       "      <th>6</th>\n",
       "      <td>2022-07-01</td>\n",
       "      <td>11552438</td>\n",
       "      <td>246371</td>\n",
       "      <td>3.437182e+08</td>\n",
       "      <td>24564871.79</td>\n",
       "      <td>3.682830e+08</td>\n",
       "    </tr>\n",
       "    <tr>\n",
       "      <th>7</th>\n",
       "      <td>2022-08-01</td>\n",
       "      <td>12119733</td>\n",
       "      <td>320349</td>\n",
       "      <td>3.609515e+08</td>\n",
       "      <td>31946118.27</td>\n",
       "      <td>3.928976e+08</td>\n",
       "    </tr>\n",
       "    <tr>\n",
       "      <th>8</th>\n",
       "      <td>2022-09-01</td>\n",
       "      <td>10662298</td>\n",
       "      <td>306751</td>\n",
       "      <td>3.177272e+08</td>\n",
       "      <td>30615462.14</td>\n",
       "      <td>3.483427e+08</td>\n",
       "    </tr>\n",
       "    <tr>\n",
       "      <th>9</th>\n",
       "      <td>2022-10-01</td>\n",
       "      <td>11244496</td>\n",
       "      <td>316278</td>\n",
       "      <td>3.353980e+08</td>\n",
       "      <td>31576549.62</td>\n",
       "      <td>3.669746e+08</td>\n",
       "    </tr>\n",
       "    <tr>\n",
       "      <th>10</th>\n",
       "      <td>2022-11-01</td>\n",
       "      <td>9417839</td>\n",
       "      <td>288796</td>\n",
       "      <td>2.870551e+08</td>\n",
       "      <td>28789289.24</td>\n",
       "      <td>3.158444e+08</td>\n",
       "    </tr>\n",
       "  </tbody>\n",
       "</table>\n",
       "</div>"
      ],
      "text/plain": [
       "   data_month  total_claimed_subscribers  total_claimed_devices  \\\n",
       "0  2022-01-01                    8235728                 413562   \n",
       "1  2022-02-01                    8714543                 278109   \n",
       "2  2022-03-01                    9462909                 223345   \n",
       "3  2022-04-01                    9814091                 184228   \n",
       "4  2022-05-01                   10492334                 217322   \n",
       "5  2022-06-01                   11163104                 236033   \n",
       "6  2022-07-01                   11552438                 246371   \n",
       "7  2022-08-01                   12119733                 320349   \n",
       "8  2022-09-01                   10662298                 306751   \n",
       "9  2022-10-01                   11244496                 316278   \n",
       "10 2022-11-01                    9417839                 288796   \n",
       "\n",
       "    service_support  device_support  total_support  \n",
       "0      3.542841e+08     41335415.63   3.956195e+08  \n",
       "1      3.597353e+08     27796265.05   3.875316e+08  \n",
       "2      2.791492e+08     22238593.71   3.013877e+08  \n",
       "3      2.902180e+08     18326126.23   3.085441e+08  \n",
       "4      3.105463e+08     21665562.67   3.322118e+08  \n",
       "5      3.311573e+08     23507522.27   3.546648e+08  \n",
       "6      3.437182e+08     24564871.79   3.682830e+08  \n",
       "7      3.609515e+08     31946118.27   3.928976e+08  \n",
       "8      3.177272e+08     30615462.14   3.483427e+08  \n",
       "9      3.353980e+08     31576549.62   3.669746e+08  \n",
       "10     2.870551e+08     28789289.24   3.158444e+08  "
      ]
     },
     "execution_count": 7,
     "metadata": {},
     "output_type": "execute_result"
    }
   ],
   "source": [
    "infile_c='ACP-Claims-by-County-January-November-2022.xlsx'\n",
    "df_c=pd.read_excel(infile_c)\n",
    "\n",
    "df_c=df_c[['data_month','total_claimed_subscribers', 'total_claimed_devices','service_support', 'device_support', 'total_support']]\n",
    "df_c=df_c.groupby('data_month').sum()\n",
    "df_c.reset_index(inplace=True)\n",
    "df_c"
   ]
  },
  {
   "cell_type": "markdown",
   "id": "bff3d6f6",
   "metadata": {},
   "source": [
    "## Enrollments"
   ]
  },
  {
   "cell_type": "code",
   "execution_count": 9,
   "id": "68e80147",
   "metadata": {},
   "outputs": [
    {
     "data": {
      "text/html": [
       "<div>\n",
       "<style scoped>\n",
       "    .dataframe tbody tr th:only-of-type {\n",
       "        vertical-align: middle;\n",
       "    }\n",
       "\n",
       "    .dataframe tbody tr th {\n",
       "        vertical-align: top;\n",
       "    }\n",
       "\n",
       "    .dataframe thead th {\n",
       "        text-align: right;\n",
       "    }\n",
       "</style>\n",
       "<table border=\"1\" class=\"dataframe\">\n",
       "  <thead>\n",
       "    <tr style=\"text-align: right;\">\n",
       "      <th></th>\n",
       "      <th>Data Month</th>\n",
       "      <th>State</th>\n",
       "      <th>State Name</th>\n",
       "      <th>County Name</th>\n",
       "      <th>State FIPS</th>\n",
       "      <th>County FIPS</th>\n",
       "      <th>Net New Enrollments Alternative Verification Process</th>\n",
       "      <th>Net New Enrollments Verified by School</th>\n",
       "      <th>Net New Enrollments Lifeline</th>\n",
       "      <th>Net New Enrollments National Verifier Application</th>\n",
       "      <th>Net New Enrollments total</th>\n",
       "      <th>Total Alternative Verification Process</th>\n",
       "      <th>Total Verified by School</th>\n",
       "      <th>Total Lifeline</th>\n",
       "      <th>Total National Verifier Application</th>\n",
       "      <th>Total Subscribers</th>\n",
       "    </tr>\n",
       "  </thead>\n",
       "  <tbody>\n",
       "    <tr>\n",
       "      <th>0</th>\n",
       "      <td>2022-01-01</td>\n",
       "      <td>AL</td>\n",
       "      <td>ALABAMA</td>\n",
       "      <td>AUTAUGA COUNTY</td>\n",
       "      <td>1</td>\n",
       "      <td>001</td>\n",
       "      <td>46.0</td>\n",
       "      <td>-1.0</td>\n",
       "      <td>20.0</td>\n",
       "      <td>53.0</td>\n",
       "      <td>118.0</td>\n",
       "      <td>618.0</td>\n",
       "      <td>2.0</td>\n",
       "      <td>440.0</td>\n",
       "      <td>874.0</td>\n",
       "      <td>1934.0</td>\n",
       "    </tr>\n",
       "    <tr>\n",
       "      <th>1</th>\n",
       "      <td>2022-01-01</td>\n",
       "      <td>AL</td>\n",
       "      <td>ALABAMA</td>\n",
       "      <td>BALDWIN COUNTY</td>\n",
       "      <td>1</td>\n",
       "      <td>003</td>\n",
       "      <td>-13.0</td>\n",
       "      <td>0.0</td>\n",
       "      <td>78.0</td>\n",
       "      <td>114.0</td>\n",
       "      <td>179.0</td>\n",
       "      <td>521.0</td>\n",
       "      <td>5.0</td>\n",
       "      <td>959.0</td>\n",
       "      <td>1281.0</td>\n",
       "      <td>2766.0</td>\n",
       "    </tr>\n",
       "    <tr>\n",
       "      <th>2</th>\n",
       "      <td>2022-01-01</td>\n",
       "      <td>AL</td>\n",
       "      <td>ALABAMA</td>\n",
       "      <td>BARBOUR COUNTY</td>\n",
       "      <td>1</td>\n",
       "      <td>005</td>\n",
       "      <td>41.0</td>\n",
       "      <td>0.0</td>\n",
       "      <td>56.0</td>\n",
       "      <td>25.0</td>\n",
       "      <td>122.0</td>\n",
       "      <td>881.0</td>\n",
       "      <td>1.0</td>\n",
       "      <td>444.0</td>\n",
       "      <td>417.0</td>\n",
       "      <td>1743.0</td>\n",
       "    </tr>\n",
       "    <tr>\n",
       "      <th>3</th>\n",
       "      <td>2022-01-01</td>\n",
       "      <td>AL</td>\n",
       "      <td>ALABAMA</td>\n",
       "      <td>BIBB COUNTY</td>\n",
       "      <td>1</td>\n",
       "      <td>007</td>\n",
       "      <td>0.0</td>\n",
       "      <td>0.0</td>\n",
       "      <td>14.0</td>\n",
       "      <td>23.0</td>\n",
       "      <td>37.0</td>\n",
       "      <td>9.0</td>\n",
       "      <td>5.0</td>\n",
       "      <td>182.0</td>\n",
       "      <td>304.0</td>\n",
       "      <td>500.0</td>\n",
       "    </tr>\n",
       "    <tr>\n",
       "      <th>4</th>\n",
       "      <td>2022-01-01</td>\n",
       "      <td>AL</td>\n",
       "      <td>ALABAMA</td>\n",
       "      <td>BLOUNT COUNTY</td>\n",
       "      <td>1</td>\n",
       "      <td>009</td>\n",
       "      <td>12.0</td>\n",
       "      <td>-1.0</td>\n",
       "      <td>18.0</td>\n",
       "      <td>46.0</td>\n",
       "      <td>75.0</td>\n",
       "      <td>196.0</td>\n",
       "      <td>11.0</td>\n",
       "      <td>293.0</td>\n",
       "      <td>573.0</td>\n",
       "      <td>1073.0</td>\n",
       "    </tr>\n",
       "  </tbody>\n",
       "</table>\n",
       "</div>"
      ],
      "text/plain": [
       "  Data Month State State Name     County Name  State FIPS County FIPS  \\\n",
       "0 2022-01-01    AL    ALABAMA  AUTAUGA COUNTY           1         001   \n",
       "1 2022-01-01    AL    ALABAMA  BALDWIN COUNTY           1         003   \n",
       "2 2022-01-01    AL    ALABAMA  BARBOUR COUNTY           1         005   \n",
       "3 2022-01-01    AL    ALABAMA     BIBB COUNTY           1         007   \n",
       "4 2022-01-01    AL    ALABAMA   BLOUNT COUNTY           1         009   \n",
       "\n",
       "   Net New Enrollments Alternative Verification Process  \\\n",
       "0                                               46.0      \n",
       "1                                              -13.0      \n",
       "2                                               41.0      \n",
       "3                                                0.0      \n",
       "4                                               12.0      \n",
       "\n",
       "   Net New Enrollments Verified by School  Net New Enrollments Lifeline  \\\n",
       "0                                    -1.0                          20.0   \n",
       "1                                     0.0                          78.0   \n",
       "2                                     0.0                          56.0   \n",
       "3                                     0.0                          14.0   \n",
       "4                                    -1.0                          18.0   \n",
       "\n",
       "   Net New Enrollments National Verifier Application  \\\n",
       "0                                               53.0   \n",
       "1                                              114.0   \n",
       "2                                               25.0   \n",
       "3                                               23.0   \n",
       "4                                               46.0   \n",
       "\n",
       "   Net New Enrollments total  Total Alternative Verification Process  \\\n",
       "0                      118.0                                   618.0   \n",
       "1                      179.0                                   521.0   \n",
       "2                      122.0                                   881.0   \n",
       "3                       37.0                                     9.0   \n",
       "4                       75.0                                   196.0   \n",
       "\n",
       "   Total Verified by School  Total Lifeline  \\\n",
       "0                       2.0           440.0   \n",
       "1                       5.0           959.0   \n",
       "2                       1.0           444.0   \n",
       "3                       5.0           182.0   \n",
       "4                      11.0           293.0   \n",
       "\n",
       "   Total National Verifier Application  Total Subscribers  \n",
       "0                                874.0             1934.0  \n",
       "1                               1281.0             2766.0  \n",
       "2                                417.0             1743.0  \n",
       "3                                304.0              500.0  \n",
       "4                                573.0             1073.0  "
      ]
     },
     "execution_count": 9,
     "metadata": {},
     "output_type": "execute_result"
    }
   ],
   "source": [
    "infile_e='ACP-Households-by-County-January-November-2022.xlsx'\n",
    "df_e=pd.read_excel(infile_e)\n",
    "df_e.head()"
   ]
  },
  {
   "cell_type": "code",
   "execution_count": 10,
   "id": "90901507",
   "metadata": {},
   "outputs": [
    {
     "data": {
      "text/html": [
       "<div>\n",
       "<style scoped>\n",
       "    .dataframe tbody tr th:only-of-type {\n",
       "        vertical-align: middle;\n",
       "    }\n",
       "\n",
       "    .dataframe tbody tr th {\n",
       "        vertical-align: top;\n",
       "    }\n",
       "\n",
       "    .dataframe thead th {\n",
       "        text-align: right;\n",
       "    }\n",
       "</style>\n",
       "<table border=\"1\" class=\"dataframe\">\n",
       "  <thead>\n",
       "    <tr style=\"text-align: right;\">\n",
       "      <th></th>\n",
       "      <th>Data Month</th>\n",
       "      <th>Net New Enrollments Alternative Verification Process</th>\n",
       "      <th>Net New Enrollments Verified by School</th>\n",
       "      <th>Net New Enrollments Lifeline</th>\n",
       "      <th>Net New Enrollments National Verifier Application</th>\n",
       "      <th>Net New Enrollments total</th>\n",
       "      <th>Total Alternative Verification Process</th>\n",
       "      <th>Total Verified by School</th>\n",
       "      <th>Total Lifeline</th>\n",
       "      <th>Total National Verifier Application</th>\n",
       "      <th>Total Subscribers</th>\n",
       "    </tr>\n",
       "  </thead>\n",
       "  <tbody>\n",
       "    <tr>\n",
       "      <th>0</th>\n",
       "      <td>2022-01-01</td>\n",
       "      <td>177587.0</td>\n",
       "      <td>166.0</td>\n",
       "      <td>175850.0</td>\n",
       "      <td>297434.0</td>\n",
       "      <td>651037.0</td>\n",
       "      <td>2162716.0</td>\n",
       "      <td>7181.0</td>\n",
       "      <td>4592772.0</td>\n",
       "      <td>2934588.0</td>\n",
       "      <td>9697257.0</td>\n",
       "    </tr>\n",
       "    <tr>\n",
       "      <th>1</th>\n",
       "      <td>2022-02-01</td>\n",
       "      <td>190787.0</td>\n",
       "      <td>86.0</td>\n",
       "      <td>208375.0</td>\n",
       "      <td>168040.0</td>\n",
       "      <td>567288.0</td>\n",
       "      <td>2353503.0</td>\n",
       "      <td>7267.0</td>\n",
       "      <td>4801147.0</td>\n",
       "      <td>3102628.0</td>\n",
       "      <td>10264545.0</td>\n",
       "    </tr>\n",
       "    <tr>\n",
       "      <th>2</th>\n",
       "      <td>2022-03-01</td>\n",
       "      <td>197865.0</td>\n",
       "      <td>-9.0</td>\n",
       "      <td>327074.0</td>\n",
       "      <td>367012.0</td>\n",
       "      <td>891942.0</td>\n",
       "      <td>2551368.0</td>\n",
       "      <td>7258.0</td>\n",
       "      <td>5128221.0</td>\n",
       "      <td>3469640.0</td>\n",
       "      <td>11156487.0</td>\n",
       "    </tr>\n",
       "    <tr>\n",
       "      <th>3</th>\n",
       "      <td>2022-04-01</td>\n",
       "      <td>144234.0</td>\n",
       "      <td>-56.0</td>\n",
       "      <td>-33729.0</td>\n",
       "      <td>309115.0</td>\n",
       "      <td>419564.0</td>\n",
       "      <td>2695602.0</td>\n",
       "      <td>7202.0</td>\n",
       "      <td>5094492.0</td>\n",
       "      <td>3778755.0</td>\n",
       "      <td>11576051.0</td>\n",
       "    </tr>\n",
       "    <tr>\n",
       "      <th>4</th>\n",
       "      <td>2022-05-01</td>\n",
       "      <td>192531.0</td>\n",
       "      <td>64.0</td>\n",
       "      <td>57936.0</td>\n",
       "      <td>327978.0</td>\n",
       "      <td>578509.0</td>\n",
       "      <td>2888133.0</td>\n",
       "      <td>7266.0</td>\n",
       "      <td>5152428.0</td>\n",
       "      <td>4106733.0</td>\n",
       "      <td>12154560.0</td>\n",
       "    </tr>\n",
       "    <tr>\n",
       "      <th>5</th>\n",
       "      <td>2022-06-01</td>\n",
       "      <td>200525.0</td>\n",
       "      <td>-10.0</td>\n",
       "      <td>-7651.0</td>\n",
       "      <td>354273.0</td>\n",
       "      <td>547137.0</td>\n",
       "      <td>3088659.0</td>\n",
       "      <td>7256.0</td>\n",
       "      <td>5144776.0</td>\n",
       "      <td>4461003.0</td>\n",
       "      <td>12701694.0</td>\n",
       "    </tr>\n",
       "    <tr>\n",
       "      <th>6</th>\n",
       "      <td>2022-07-01</td>\n",
       "      <td>238668.0</td>\n",
       "      <td>-915.0</td>\n",
       "      <td>-152898.0</td>\n",
       "      <td>318686.0</td>\n",
       "      <td>403541.0</td>\n",
       "      <td>3327327.0</td>\n",
       "      <td>6341.0</td>\n",
       "      <td>4991878.0</td>\n",
       "      <td>4779689.0</td>\n",
       "      <td>13105235.0</td>\n",
       "    </tr>\n",
       "    <tr>\n",
       "      <th>7</th>\n",
       "      <td>2022-08-01</td>\n",
       "      <td>197208.0</td>\n",
       "      <td>-32.0</td>\n",
       "      <td>-146921.0</td>\n",
       "      <td>359346.0</td>\n",
       "      <td>409601.0</td>\n",
       "      <td>3524535.0</td>\n",
       "      <td>6309.0</td>\n",
       "      <td>4844957.0</td>\n",
       "      <td>5139035.0</td>\n",
       "      <td>13514836.0</td>\n",
       "    </tr>\n",
       "    <tr>\n",
       "      <th>8</th>\n",
       "      <td>2022-09-01</td>\n",
       "      <td>193807.0</td>\n",
       "      <td>-113.0</td>\n",
       "      <td>58644.0</td>\n",
       "      <td>337160.0</td>\n",
       "      <td>589498.0</td>\n",
       "      <td>3718342.0</td>\n",
       "      <td>6196.0</td>\n",
       "      <td>4903601.0</td>\n",
       "      <td>5476195.0</td>\n",
       "      <td>14104334.0</td>\n",
       "    </tr>\n",
       "    <tr>\n",
       "      <th>9</th>\n",
       "      <td>2022-10-01</td>\n",
       "      <td>147295.0</td>\n",
       "      <td>-68.0</td>\n",
       "      <td>100204.0</td>\n",
       "      <td>341311.0</td>\n",
       "      <td>588742.0</td>\n",
       "      <td>3865637.0</td>\n",
       "      <td>6128.0</td>\n",
       "      <td>5003805.0</td>\n",
       "      <td>5817506.0</td>\n",
       "      <td>14693076.0</td>\n",
       "    </tr>\n",
       "    <tr>\n",
       "      <th>10</th>\n",
       "      <td>2022-11-01</td>\n",
       "      <td>126847.0</td>\n",
       "      <td>-67.0</td>\n",
       "      <td>18777.0</td>\n",
       "      <td>260569.0</td>\n",
       "      <td>406126.0</td>\n",
       "      <td>3992484.0</td>\n",
       "      <td>6061.0</td>\n",
       "      <td>5022582.0</td>\n",
       "      <td>6078075.0</td>\n",
       "      <td>15099202.0</td>\n",
       "    </tr>\n",
       "  </tbody>\n",
       "</table>\n",
       "</div>"
      ],
      "text/plain": [
       "   Data Month  Net New Enrollments Alternative Verification Process  \\\n",
       "0  2022-01-01                                           177587.0      \n",
       "1  2022-02-01                                           190787.0      \n",
       "2  2022-03-01                                           197865.0      \n",
       "3  2022-04-01                                           144234.0      \n",
       "4  2022-05-01                                           192531.0      \n",
       "5  2022-06-01                                           200525.0      \n",
       "6  2022-07-01                                           238668.0      \n",
       "7  2022-08-01                                           197208.0      \n",
       "8  2022-09-01                                           193807.0      \n",
       "9  2022-10-01                                           147295.0      \n",
       "10 2022-11-01                                           126847.0      \n",
       "\n",
       "    Net New Enrollments Verified by School  Net New Enrollments Lifeline  \\\n",
       "0                                    166.0                      175850.0   \n",
       "1                                     86.0                      208375.0   \n",
       "2                                     -9.0                      327074.0   \n",
       "3                                    -56.0                      -33729.0   \n",
       "4                                     64.0                       57936.0   \n",
       "5                                    -10.0                       -7651.0   \n",
       "6                                   -915.0                     -152898.0   \n",
       "7                                    -32.0                     -146921.0   \n",
       "8                                   -113.0                       58644.0   \n",
       "9                                    -68.0                      100204.0   \n",
       "10                                   -67.0                       18777.0   \n",
       "\n",
       "    Net New Enrollments National Verifier Application  \\\n",
       "0                                            297434.0   \n",
       "1                                            168040.0   \n",
       "2                                            367012.0   \n",
       "3                                            309115.0   \n",
       "4                                            327978.0   \n",
       "5                                            354273.0   \n",
       "6                                            318686.0   \n",
       "7                                            359346.0   \n",
       "8                                            337160.0   \n",
       "9                                            341311.0   \n",
       "10                                           260569.0   \n",
       "\n",
       "    Net New Enrollments total  Total Alternative Verification Process  \\\n",
       "0                    651037.0                               2162716.0   \n",
       "1                    567288.0                               2353503.0   \n",
       "2                    891942.0                               2551368.0   \n",
       "3                    419564.0                               2695602.0   \n",
       "4                    578509.0                               2888133.0   \n",
       "5                    547137.0                               3088659.0   \n",
       "6                    403541.0                               3327327.0   \n",
       "7                    409601.0                               3524535.0   \n",
       "8                    589498.0                               3718342.0   \n",
       "9                    588742.0                               3865637.0   \n",
       "10                   406126.0                               3992484.0   \n",
       "\n",
       "    Total Verified by School  Total Lifeline  \\\n",
       "0                     7181.0       4592772.0   \n",
       "1                     7267.0       4801147.0   \n",
       "2                     7258.0       5128221.0   \n",
       "3                     7202.0       5094492.0   \n",
       "4                     7266.0       5152428.0   \n",
       "5                     7256.0       5144776.0   \n",
       "6                     6341.0       4991878.0   \n",
       "7                     6309.0       4844957.0   \n",
       "8                     6196.0       4903601.0   \n",
       "9                     6128.0       5003805.0   \n",
       "10                    6061.0       5022582.0   \n",
       "\n",
       "    Total National Verifier Application  Total Subscribers  \n",
       "0                             2934588.0          9697257.0  \n",
       "1                             3102628.0         10264545.0  \n",
       "2                             3469640.0         11156487.0  \n",
       "3                             3778755.0         11576051.0  \n",
       "4                             4106733.0         12154560.0  \n",
       "5                             4461003.0         12701694.0  \n",
       "6                             4779689.0         13105235.0  \n",
       "7                             5139035.0         13514836.0  \n",
       "8                             5476195.0         14104334.0  \n",
       "9                             5817506.0         14693076.0  \n",
       "10                            6078075.0         15099202.0  "
      ]
     },
     "execution_count": 10,
     "metadata": {},
     "output_type": "execute_result"
    }
   ],
   "source": [
    "infile_e='ACP-Households-by-County-January-November-2022.xlsx'\n",
    "df_e=pd.read_excel(infile_e)\n",
    "df_e=df_e[['Data Month','Net New Enrollments Alternative Verification Process',\n",
    "       'Net New Enrollments Verified by School',\n",
    "       'Net New Enrollments Lifeline',\n",
    "       'Net New Enrollments National Verifier Application',\n",
    "       'Net New Enrollments total', 'Total Alternative Verification Process',\n",
    "       'Total Verified by School', 'Total Lifeline',\n",
    "       'Total National Verifier Application', 'Total Subscribers']]\n",
    "df_e=df_e.groupby('Data Month').sum().reset_index()\n",
    "df_e"
   ]
  },
  {
   "cell_type": "markdown",
   "id": "f33a775a",
   "metadata": {},
   "source": [
    "## Claim ~ Enrollment\n",
    "\n",
    "Before 2022-08-01 there is linear dependence between enrollments and claims with a gap of $\\approx$ $1.74\\times 10^6$\n"
   ]
  },
  {
   "cell_type": "code",
   "execution_count": 32,
   "id": "de0b0c23",
   "metadata": {
    "scrolled": false
   },
   "outputs": [
    {
     "name": "stdout",
     "output_type": "stream",
     "text": [
      "m = 0.448950370963078 \n",
      "y0 = 4626741.615726177 \n",
      "r = 0.643846319651531\n",
      "std = 0.032534177161694856 \n"
     ]
    },
    {
     "data": {
      "image/png": "[encoded data removed]",
      "text/plain": [
       "<Figure size 800x400 with 1 Axes>"
      ]
     },
     "metadata": {},
     "output_type": "display_data"
    },
    {
     "data": {
      "text/plain": [
       "(4626741.615726177, 0.448950370963078)"
      ]
     },
     "execution_count": 32,
     "metadata": {},
     "output_type": "execute_result"
    }
   ],
   "source": [
    "#x=np.array(range(1,df_e.shape[0]+1))\n",
    "x=df_e['Total Subscribers']\n",
    "y=df_c['total_claimed_subscribers']\n",
    "col_1='Total Subscribers'\n",
    "col_2='total_claimed_subscribers'\n",
    "#x=x[0:8]\n",
    "#y=y[0:8]\n",
    "linear_plot(x,y,col_1,col_2)"
   ]
  },
  {
   "cell_type": "code",
   "execution_count": 12,
   "id": "042e6afd",
   "metadata": {},
   "outputs": [
    {
     "name": "stdout",
     "output_type": "stream",
     "text": [
      "m = 1.0140498434025285 \n",
      "y0 = -1742358.5120452456 \n",
      "r = 0.9961632062320463\n",
      "std = 1.407974577110122e-07 \n"
     ]
    },
    {
     "data": {
      "image/png": "[encoded data removed]",
      "text/plain": [
       "<Figure size 800x400 with 1 Axes>"
      ]
     },
     "metadata": {},
     "output_type": "display_data"
    },
    {
     "data": {
      "text/plain": [
       "(-1742358.5120452456, 1.0140498434025285)"
      ]
     },
     "execution_count": 12,
     "metadata": {},
     "output_type": "execute_result"
    }
   ],
   "source": [
    "#x=np.array(range(1,df_e.shape[0]+1))\n",
    "x=df_e['Total Subscribers']\n",
    "y=df_c['total_claimed_subscribers']\n",
    "col_1='Total Subscribers'\n",
    "col_2='total_claimed_subscribers'\n",
    "x=x[0:8]\n",
    "y=y[0:8]\n",
    "linear_plot(x,y,col_1,col_2)"
   ]
  },
  {
   "cell_type": "markdown",
   "id": "c791b8af",
   "metadata": {},
   "source": [
    "# Total Support\n",
    "\n",
    "For claims made after 2022-03-01, there is a flat relationship between total_claimed_subscribers and total_support. We use the mean of the ratio between this two quantities as a proxy for the amount of benefit per suscriber and later per enrollment\n",
    "\n",
    "\\begin{equation}\n",
    "x= \\frac{\\rm{total\\_claimed\\_support}}{\\rm{total\\_claimed\\_subscribers}} \n",
    "\\end{equation}\n",
    "\n",
    "\\begin{equation}\n",
    "\\bar{x}\\sim \\$34.72\n",
    "\\end{equation}\n",
    "\n",
    "This approximation takes into account the device one time support of \\$100 for devices"
   ]
  },
  {
   "cell_type": "code",
   "execution_count": 13,
   "id": "fdb2ffcf",
   "metadata": {},
   "outputs": [
    {
     "name": "stdout",
     "output_type": "stream",
     "text": [
      "m = -1.0472420712654509 \n",
      "y0 = 41.04425174339634 \n",
      "r = -0.6021302444574265\n",
      "std = 0.049970400247901094 \n"
     ]
    },
    {
     "data": {
      "image/png": "[encoded data removed]",
      "text/plain": [
       "<Figure size 800x400 with 1 Axes>"
      ]
     },
     "metadata": {},
     "output_type": "display_data"
    },
    {
     "data": {
      "text/plain": [
       "(41.04425174339634, -1.0472420712654509)"
      ]
     },
     "execution_count": 13,
     "metadata": {},
     "output_type": "execute_result"
    }
   ],
   "source": [
    "x=np.array(range(1,df_e.shape[0]+1))\n",
    "y=df_c['total_support']/df_c['total_claimed_subscribers']\n",
    "col_1='Month'\n",
    "col_2='total_support/total_claimed_subscribers'\n",
    "linear_plot(x,y,col_1,col_2)"
   ]
  },
  {
   "cell_type": "code",
   "execution_count": 14,
   "id": "b13f713f",
   "metadata": {},
   "outputs": [
    {
     "name": "stdout",
     "output_type": "stream",
     "text": [
      "m = 0.1656618567949997 \n",
      "y0 = 30.9616761830557 \n",
      "r = 0.8249897131023135\n",
      "std = 0.022342477806664485 \n"
     ]
    },
    {
     "data": {
      "image/png": "[encoded data removed]",
      "text/plain": [
       "<Figure size 800x400 with 1 Axes>"
      ]
     },
     "metadata": {},
     "output_type": "display_data"
    },
    {
     "data": {
      "text/plain": [
       "(30.9616761830557, 0.1656618567949997)"
      ]
     },
     "execution_count": 14,
     "metadata": {},
     "output_type": "execute_result"
    }
   ],
   "source": [
    "#=np.array(range(1,df_e.shape[0]+1))\n",
    "\n",
    "x=np.array(range(1,df_e.shape[0]+1))\n",
    "y=df_c['total_support']/df_c['total_claimed_subscribers']\n",
    "col_1='Month'\n",
    "col_2='total_support/total_claimed_subscribers'\n",
    "x=x[2:9]\n",
    "y=y[2:9]\n",
    "label='x'\n",
    "linear_plot(x,y,col_1,col_2)"
   ]
  },
  {
   "cell_type": "code",
   "execution_count": 15,
   "id": "dea35ee0",
   "metadata": {},
   "outputs": [
    {
     "data": {
      "text/plain": [
       "31.955647323825698"
      ]
     },
     "execution_count": 15,
     "metadata": {},
     "output_type": "execute_result"
    }
   ],
   "source": [
    "monthly_ben=y.mean()\n",
    "monthly_ben"
   ]
  },
  {
   "cell_type": "markdown",
   "id": "e0a6f5fb",
   "metadata": {},
   "source": [
    "# Enrollment Rate\n",
    "\n",
    "New enrollments/month: there is not \"strong\" correlation with time\n",
    "\n",
    "Theh new monthly enrollments is approximated by the mean of pass values: `df_e['Net New Enrollments total'].mean() = 550271.36`\n",
    "\n",
    "Note: Time series analysis for weekly enrollments does not show any trends. The Peak of enrollments in March representd in the followin plot can also be seen in the weekly enrollment data."
   ]
  },
  {
   "cell_type": "code",
   "execution_count": 35,
   "id": "afcdc34f",
   "metadata": {
    "scrolled": false
   },
   "outputs": [
    {
     "name": "stdout",
     "output_type": "stream",
     "text": [
      "m = -20372.409090909096 \n",
      "y0 = 672505.8181818182 \n",
      "r = -0.4660521347444675\n",
      "std = 0.14850250644644097 \n"
     ]
    },
    {
     "data": {
      "image/png": "[encoded data removed]",
      "text/plain": [
       "<Figure size 800x400 with 1 Axes>"
      ]
     },
     "metadata": {},
     "output_type": "display_data"
    }
   ],
   "source": [
    "x=np.array(range(1,df_e.shape[0]+1))\n",
    "y=df_e['Net New Enrollments total']\n",
    "col_1='Month'\n",
    "col_2='Net New Enrollments total'\n",
    "y0,m=linear_plot(x,y,col_1,col_2)\n"
   ]
  },
  {
   "cell_type": "code",
   "execution_count": 17,
   "id": "21cf5b1c",
   "metadata": {},
   "outputs": [
    {
     "data": {
      "text/plain": [
       "550271.3636363636"
      ]
     },
     "execution_count": 17,
     "metadata": {},
     "output_type": "execute_result"
    }
   ],
   "source": [
    "monthly_enroll=df_e['Net New Enrollments total'].mean()\n",
    "monthly_enroll"
   ]
  },
  {
   "cell_type": "markdown",
   "id": "059df6ae",
   "metadata": {},
   "source": [
    "# ACP Digital Cliff\n",
    "\n",
    "Parameters\n",
    "Total Eligible HH from ESH estimation: 52514583"
   ]
  },
  {
   "cell_type": "code",
   "execution_count": 26,
   "id": "e1cb99a3",
   "metadata": {},
   "outputs": [
    {
     "name": "stdout",
     "output_type": "stream",
     "text": [
      "Parameters:\n",
      "Monthly Enrollments Average=  550271.3636363636\n",
      "Monthly Benefit per Enrollment=  31.955647323825698\n",
      "Total Funds=  16400000000.0\n",
      "Total Eligible HH =  52514583\n"
     ]
    }
   ],
   "source": [
    "total_elig=52514583\n",
    "ebb_enrol=9046220.0\n",
    "ebb_f=2.2e9\n",
    "funds=14.2e9+ebb_f\n",
    "print('Parameters:')\n",
    "print('Monthly Enrollments Average= ', monthly_enroll)\n",
    "print('Monthly Benefit per Enrollment= ',monthly_ben)\n",
    "print('Total Funds= ',funds)\n",
    "print('Total Eligible HH = ',total_elig)"
   ]
  },
  {
   "cell_type": "markdown",
   "id": "ab8c7525",
   "metadata": {},
   "source": [
    "## The model with constant monthly new enrollments "
   ]
  },
  {
   "cell_type": "code",
   "execution_count": 28,
   "id": "df7df655",
   "metadata": {},
   "outputs": [
    {
     "name": "stdout",
     "output_type": "stream",
     "text": [
      "<class 'pandas.core.frame.DataFrame'>\n",
      "RangeIndex: 48 entries, 0 to 47\n",
      "Data columns (total 7 columns):\n",
      " #   Column                     Non-Null Count  Dtype         \n",
      "---  ------                     --------------  -----         \n",
      " 0   Data Month                 48 non-null     datetime64[ns]\n",
      " 1   Net New Enrollments total  48 non-null     float64       \n",
      " 2   Total Subscribers          48 non-null     float64       \n",
      " 3   Totat Support              48 non-null     float64       \n",
      " 4   Totat Support cum          48 non-null     float64       \n",
      " 5   Total Support cum norm     48 non-null     float64       \n",
      " 6   Enrollment Pct             48 non-null     float64       \n",
      "dtypes: datetime64[ns](1), float64(6)\n",
      "memory usage: 2.8 KB\n"
     ]
    },
    {
     "name": "stderr",
     "output_type": "stream",
     "text": [
      "/var/folders/rh/4xd1337512l1025llqtt0d2h0000gn/T/ipykernel_1817/2912271035.py:15: FutureWarning:\n",
      "\n",
      "The frame.append method is deprecated and will be removed from pandas in a future version. Use pandas.concat instead.\n",
      "\n"
     ]
    },
    {
     "data": {
      "text/html": [
       "<div>\n",
       "<style scoped>\n",
       "    .dataframe tbody tr th:only-of-type {\n",
       "        vertical-align: middle;\n",
       "    }\n",
       "\n",
       "    .dataframe tbody tr th {\n",
       "        vertical-align: top;\n",
       "    }\n",
       "\n",
       "    .dataframe thead th {\n",
       "        text-align: right;\n",
       "    }\n",
       "</style>\n",
       "<table border=\"1\" class=\"dataframe\">\n",
       "  <thead>\n",
       "    <tr style=\"text-align: right;\">\n",
       "      <th></th>\n",
       "      <th>Data Month</th>\n",
       "      <th>Net New Enrollments total</th>\n",
       "      <th>Total Subscribers</th>\n",
       "      <th>Totat Support</th>\n",
       "      <th>Totat Support cum</th>\n",
       "      <th>Total Support cum norm</th>\n",
       "      <th>Enrollment Pct</th>\n",
       "    </tr>\n",
       "  </thead>\n",
       "  <tbody>\n",
       "    <tr>\n",
       "      <th>0</th>\n",
       "      <td>2022-01-01</td>\n",
       "      <td>651037.000000</td>\n",
       "      <td>9.697257e+06</td>\n",
       "      <td>3.098821e+08</td>\n",
       "      <td>3.098821e+08</td>\n",
       "      <td>1.889525</td>\n",
       "      <td>18.465836</td>\n",
       "    </tr>\n",
       "    <tr>\n",
       "      <th>1</th>\n",
       "      <td>2022-02-01</td>\n",
       "      <td>567288.000000</td>\n",
       "      <td>1.026454e+07</td>\n",
       "      <td>3.280102e+08</td>\n",
       "      <td>6.378923e+08</td>\n",
       "      <td>3.889587</td>\n",
       "      <td>19.546085</td>\n",
       "    </tr>\n",
       "    <tr>\n",
       "      <th>2</th>\n",
       "      <td>2022-03-01</td>\n",
       "      <td>891942.000000</td>\n",
       "      <td>1.115649e+07</td>\n",
       "      <td>3.565128e+08</td>\n",
       "      <td>9.944051e+08</td>\n",
       "      <td>6.063446</td>\n",
       "      <td>21.244550</td>\n",
       "    </tr>\n",
       "    <tr>\n",
       "      <th>3</th>\n",
       "      <td>2022-04-01</td>\n",
       "      <td>419564.000000</td>\n",
       "      <td>1.157605e+07</td>\n",
       "      <td>3.699202e+08</td>\n",
       "      <td>1.364325e+09</td>\n",
       "      <td>8.319057</td>\n",
       "      <td>22.043498</td>\n",
       "    </tr>\n",
       "    <tr>\n",
       "      <th>4</th>\n",
       "      <td>2022-05-01</td>\n",
       "      <td>578509.000000</td>\n",
       "      <td>1.215456e+07</td>\n",
       "      <td>3.884068e+08</td>\n",
       "      <td>1.752732e+09</td>\n",
       "      <td>10.687391</td>\n",
       "      <td>23.145114</td>\n",
       "    </tr>\n",
       "    <tr>\n",
       "      <th>5</th>\n",
       "      <td>2022-06-01</td>\n",
       "      <td>547137.000000</td>\n",
       "      <td>1.270170e+07</td>\n",
       "      <td>4.058909e+08</td>\n",
       "      <td>2.158623e+09</td>\n",
       "      <td>13.162336</td>\n",
       "      <td>24.186990</td>\n",
       "    </tr>\n",
       "    <tr>\n",
       "      <th>6</th>\n",
       "      <td>2022-07-01</td>\n",
       "      <td>403541.000000</td>\n",
       "      <td>1.310524e+07</td>\n",
       "      <td>4.187864e+08</td>\n",
       "      <td>2.577409e+09</td>\n",
       "      <td>15.715911</td>\n",
       "      <td>24.955426</td>\n",
       "    </tr>\n",
       "    <tr>\n",
       "      <th>7</th>\n",
       "      <td>2022-08-01</td>\n",
       "      <td>409601.000000</td>\n",
       "      <td>1.351484e+07</td>\n",
       "      <td>4.318754e+08</td>\n",
       "      <td>3.009285e+09</td>\n",
       "      <td>18.349298</td>\n",
       "      <td>25.735402</td>\n",
       "    </tr>\n",
       "    <tr>\n",
       "      <th>8</th>\n",
       "      <td>2022-09-01</td>\n",
       "      <td>589498.000000</td>\n",
       "      <td>1.410434e+07</td>\n",
       "      <td>4.507132e+08</td>\n",
       "      <td>3.459998e+09</td>\n",
       "      <td>21.097549</td>\n",
       "      <td>26.857943</td>\n",
       "    </tr>\n",
       "    <tr>\n",
       "      <th>9</th>\n",
       "      <td>2022-10-01</td>\n",
       "      <td>588742.000000</td>\n",
       "      <td>1.469308e+07</td>\n",
       "      <td>4.695269e+08</td>\n",
       "      <td>3.929525e+09</td>\n",
       "      <td>23.960518</td>\n",
       "      <td>27.979045</td>\n",
       "    </tr>\n",
       "    <tr>\n",
       "      <th>10</th>\n",
       "      <td>2022-11-01</td>\n",
       "      <td>406126.000000</td>\n",
       "      <td>1.509920e+07</td>\n",
       "      <td>4.825049e+08</td>\n",
       "      <td>4.412030e+09</td>\n",
       "      <td>26.902621</td>\n",
       "      <td>28.752404</td>\n",
       "    </tr>\n",
       "    <tr>\n",
       "      <th>11</th>\n",
       "      <td>2022-12-01</td>\n",
       "      <td>550271.363636</td>\n",
       "      <td>1.564948e+07</td>\n",
       "      <td>5.000891e+08</td>\n",
       "      <td>4.912119e+09</td>\n",
       "      <td>29.951945</td>\n",
       "      <td>29.800249</td>\n",
       "    </tr>\n",
       "    <tr>\n",
       "      <th>12</th>\n",
       "      <td>2023-01-01</td>\n",
       "      <td>550271.363636</td>\n",
       "      <td>1.619975e+07</td>\n",
       "      <td>5.176734e+08</td>\n",
       "      <td>5.429792e+09</td>\n",
       "      <td>33.108490</td>\n",
       "      <td>30.848094</td>\n",
       "    </tr>\n",
       "    <tr>\n",
       "      <th>13</th>\n",
       "      <td>2023-02-01</td>\n",
       "      <td>550271.363636</td>\n",
       "      <td>1.675002e+07</td>\n",
       "      <td>5.352577e+08</td>\n",
       "      <td>5.965050e+09</td>\n",
       "      <td>36.372256</td>\n",
       "      <td>31.895938</td>\n",
       "    </tr>\n",
       "    <tr>\n",
       "      <th>14</th>\n",
       "      <td>2023-03-01</td>\n",
       "      <td>550271.363636</td>\n",
       "      <td>1.730029e+07</td>\n",
       "      <td>5.528420e+08</td>\n",
       "      <td>6.517892e+09</td>\n",
       "      <td>39.743244</td>\n",
       "      <td>32.943783</td>\n",
       "    </tr>\n",
       "    <tr>\n",
       "      <th>15</th>\n",
       "      <td>2023-04-01</td>\n",
       "      <td>550271.363636</td>\n",
       "      <td>1.785056e+07</td>\n",
       "      <td>5.704263e+08</td>\n",
       "      <td>7.088318e+09</td>\n",
       "      <td>43.221453</td>\n",
       "      <td>33.991628</td>\n",
       "    </tr>\n",
       "    <tr>\n",
       "      <th>16</th>\n",
       "      <td>2023-05-01</td>\n",
       "      <td>550271.363636</td>\n",
       "      <td>1.840083e+07</td>\n",
       "      <td>5.880105e+08</td>\n",
       "      <td>7.676329e+09</td>\n",
       "      <td>46.806883</td>\n",
       "      <td>35.039473</td>\n",
       "    </tr>\n",
       "    <tr>\n",
       "      <th>17</th>\n",
       "      <td>2023-06-01</td>\n",
       "      <td>550271.363636</td>\n",
       "      <td>1.895110e+07</td>\n",
       "      <td>6.055948e+08</td>\n",
       "      <td>8.281924e+09</td>\n",
       "      <td>50.499534</td>\n",
       "      <td>36.087318</td>\n",
       "    </tr>\n",
       "    <tr>\n",
       "      <th>18</th>\n",
       "      <td>2023-07-01</td>\n",
       "      <td>550271.363636</td>\n",
       "      <td>1.950138e+07</td>\n",
       "      <td>6.231791e+08</td>\n",
       "      <td>8.905103e+09</td>\n",
       "      <td>54.299407</td>\n",
       "      <td>37.135163</td>\n",
       "    </tr>\n",
       "    <tr>\n",
       "      <th>19</th>\n",
       "      <td>2023-08-01</td>\n",
       "      <td>550271.363636</td>\n",
       "      <td>2.005165e+07</td>\n",
       "      <td>6.407634e+08</td>\n",
       "      <td>9.545866e+09</td>\n",
       "      <td>58.206501</td>\n",
       "      <td>38.183008</td>\n",
       "    </tr>\n",
       "  </tbody>\n",
       "</table>\n",
       "</div>"
      ],
      "text/plain": [
       "   Data Month  Net New Enrollments total  Total Subscribers  Totat Support  \\\n",
       "0  2022-01-01              651037.000000       9.697257e+06   3.098821e+08   \n",
       "1  2022-02-01              567288.000000       1.026454e+07   3.280102e+08   \n",
       "2  2022-03-01              891942.000000       1.115649e+07   3.565128e+08   \n",
       "3  2022-04-01              419564.000000       1.157605e+07   3.699202e+08   \n",
       "4  2022-05-01              578509.000000       1.215456e+07   3.884068e+08   \n",
       "5  2022-06-01              547137.000000       1.270170e+07   4.058909e+08   \n",
       "6  2022-07-01              403541.000000       1.310524e+07   4.187864e+08   \n",
       "7  2022-08-01              409601.000000       1.351484e+07   4.318754e+08   \n",
       "8  2022-09-01              589498.000000       1.410434e+07   4.507132e+08   \n",
       "9  2022-10-01              588742.000000       1.469308e+07   4.695269e+08   \n",
       "10 2022-11-01              406126.000000       1.509920e+07   4.825049e+08   \n",
       "11 2022-12-01              550271.363636       1.564948e+07   5.000891e+08   \n",
       "12 2023-01-01              550271.363636       1.619975e+07   5.176734e+08   \n",
       "13 2023-02-01              550271.363636       1.675002e+07   5.352577e+08   \n",
       "14 2023-03-01              550271.363636       1.730029e+07   5.528420e+08   \n",
       "15 2023-04-01              550271.363636       1.785056e+07   5.704263e+08   \n",
       "16 2023-05-01              550271.363636       1.840083e+07   5.880105e+08   \n",
       "17 2023-06-01              550271.363636       1.895110e+07   6.055948e+08   \n",
       "18 2023-07-01              550271.363636       1.950138e+07   6.231791e+08   \n",
       "19 2023-08-01              550271.363636       2.005165e+07   6.407634e+08   \n",
       "\n",
       "    Totat Support cum  Total Support cum norm  Enrollment Pct  \n",
       "0        3.098821e+08                1.889525       18.465836  \n",
       "1        6.378923e+08                3.889587       19.546085  \n",
       "2        9.944051e+08                6.063446       21.244550  \n",
       "3        1.364325e+09                8.319057       22.043498  \n",
       "4        1.752732e+09               10.687391       23.145114  \n",
       "5        2.158623e+09               13.162336       24.186990  \n",
       "6        2.577409e+09               15.715911       24.955426  \n",
       "7        3.009285e+09               18.349298       25.735402  \n",
       "8        3.459998e+09               21.097549       26.857943  \n",
       "9        3.929525e+09               23.960518       27.979045  \n",
       "10       4.412030e+09               26.902621       28.752404  \n",
       "11       4.912119e+09               29.951945       29.800249  \n",
       "12       5.429792e+09               33.108490       30.848094  \n",
       "13       5.965050e+09               36.372256       31.895938  \n",
       "14       6.517892e+09               39.743244       32.943783  \n",
       "15       7.088318e+09               43.221453       33.991628  \n",
       "16       7.676329e+09               46.806883       35.039473  \n",
       "17       8.281924e+09               50.499534       36.087318  \n",
       "18       8.905103e+09               54.299407       37.135163  \n",
       "19       9.545866e+09               58.206501       38.183008  "
      ]
     },
     "execution_count": 28,
     "metadata": {},
     "output_type": "execute_result"
    }
   ],
   "source": [
    "df_p=pd.DataFrame()\n",
    "df_p['Data Month']=df_e['Data Month']\n",
    "df_p['Net New Enrollments total']=df_e['Net New Enrollments total']\n",
    "df_p.reset_index()\n",
    "\n",
    "sdate = date(2022,12,1)   # start date\n",
    "edate = date(2026,1,1)\n",
    "months= pd.date_range(sdate,edate , freq='1M')-pd.offsets.MonthBegin(1)\n",
    "new_enroll=months.shape[0]*[monthly_enroll]\n",
    "\n",
    "df_a=pd.DataFrame()\n",
    "df_a['Data Month']=months\n",
    "df_a['Net New Enrollments total']=new_enroll\n",
    "\n",
    "df_p=df_p.append(df_a).reset_index(drop=True)\n",
    "\n",
    "\n",
    "\n",
    "df_p['Total Subscribers']=df_p['Net New Enrollments total'].cumsum()+ebb_enrol\n",
    "df_p['Totat Support']=df_p['Total Subscribers']*monthly_ben\n",
    "df_p['Totat Support cum']=df_p['Totat Support'].cumsum()\n",
    "df_p['Total Support cum norm']=df_p['Totat Support cum']/funds*100\n",
    "df_p['Enrollment Pct']=df_p['Total Subscribers']/total_elig*100\n",
    "\n",
    "outfile='acp_digital_cliff_mean.csv'\n",
    "df_p.to_csv(outfile,index=False)\n",
    "\n",
    "df_p.info()\n",
    "df_p.head(20)"
   ]
  },
  {
   "cell_type": "markdown",
   "id": "0ceda852",
   "metadata": {},
   "source": [
    "### Results"
   ]
  },
  {
   "cell_type": "code",
   "execution_count": 29,
   "id": "6e63c80c",
   "metadata": {},
   "outputs": [
    {
     "data": {
      "text/plain": [
       "Data Month                   2024-05-01 00:00:00\n",
       "Net New Enrollments total          550271.363636\n",
       "Total Subscribers                25004089.545455\n",
       "Totat Support                   799021867.167902\n",
       "Totat Support cum             16104028917.795916\n",
       "Total Support cum norm                 98.195298\n",
       "Enrollment Pct                         47.613612\n",
       "Name: 28, dtype: object"
      ]
     },
     "execution_count": 29,
     "metadata": {},
     "output_type": "execute_result"
    }
   ],
   "source": [
    "\n",
    "ro=df_p[df_p['Total Support cum norm']<=100]\n",
    "p=df_p.iloc[ro.shape[0]-1]\n",
    "p"
   ]
  },
  {
   "cell_type": "code",
   "execution_count": 30,
   "id": "60e3b2a9",
   "metadata": {},
   "outputs": [
    {
     "data": {
      "application/vnd.plotly.v1+json": {
       "config": {
        "plotlyServerURL": "https://plot.ly"
       },
       "data": [
        {
         "name": "% Total Funds",
         "type": "scatter",
         "x": [
          "2022-01-01T00:00:00",
          "2022-02-01T00:00:00",
          "2022-03-01T00:00:00",
          "2022-04-01T00:00:00",
          "2022-05-01T00:00:00",
          "2022-06-01T00:00:00",
          "2022-07-01T00:00:00",
          "2022-08-01T00:00:00",
          "2022-09-01T00:00:00",
          "2022-10-01T00:00:00",
          "2022-11-01T00:00:00",
          "2022-12-01T00:00:00",
          "2023-01-01T00:00:00",
          "2023-02-01T00:00:00",
          "2023-03-01T00:00:00",
          "2023-04-01T00:00:00",
          "2023-05-01T00:00:00",
          "2023-06-01T00:00:00",
          "2023-07-01T00:00:00",
          "2023-08-01T00:00:00",
          "2023-09-01T00:00:00",
          "2023-10-01T00:00:00",
          "2023-11-01T00:00:00",
          "2023-12-01T00:00:00",
          "2024-01-01T00:00:00",
          "2024-02-01T00:00:00",
          "2024-03-01T00:00:00",
          "2024-04-01T00:00:00",
          "2024-05-01T00:00:00",
          "2024-06-01T00:00:00",
          "2024-07-01T00:00:00",
          "2024-08-01T00:00:00",
          "2024-09-01T00:00:00",
          "2024-10-01T00:00:00",
          "2024-11-01T00:00:00",
          "2024-12-01T00:00:00",
          "2025-01-01T00:00:00",
          "2025-02-01T00:00:00",
          "2025-03-01T00:00:00",
          "2025-04-01T00:00:00",
          "2025-05-01T00:00:00",
          "2025-06-01T00:00:00",
          "2025-07-01T00:00:00",
          "2025-08-01T00:00:00",
          "2025-09-01T00:00:00",
          "2025-10-01T00:00:00",
          "2025-11-01T00:00:00",
          "2025-12-01T00:00:00"
         ],
         "xaxis": "x",
         "y": [
          1.889525150612805,
          3.8895872235368203,
          6.063445540273687,
          8.31905653514332,
          10.687390881096242,
          13.162335696621208,
          15.715911084565104,
          18.349297845066843,
          21.097549179874076,
          23.960517781246693,
          26.90262064618661,
          29.951944716179955,
          33.108489991226755,
          36.37225647132699,
          39.743244156480664,
          43.221453046687785,
          46.80688314194834,
          50.49953444226234,
          54.29940694762978,
          58.20650065805065,
          62.22081557352498,
          66.34235169405272,
          70.57110901963394,
          74.90708755026857,
          79.35028728595665,
          83.90070822669817,
          88.55835037249314,
          93.32321372334155,
          98.19529827924339,
          103.17460404019867,
          108.2611310062074,
          113.45487917726958,
          118.75584855338516,
          124.16403913455423,
          129.6794509207767,
          135.30208391205264,
          141.031938108382,
          146.8690135097648,
          152.81331011620108,
          158.86482792769075,
          165.0235669442339,
          171.2895271658305,
          177.6627085924805,
          184.14311122418394,
          190.73073506094082,
          197.42558010275118,
          204.22764634961496,
          211.13693380153217
         ],
         "yaxis": "y"
        },
        {
         "name": "Date for Funds Running Out",
         "type": "scatter",
         "x": [
          "2024-05-01T00:00:00",
          "2024-05-01T00:00:00"
         ],
         "xaxis": "x",
         "y": [
          0,
          200
         ],
         "yaxis": "y"
        },
        {
         "name": "% Enrollment",
         "type": "scatter",
         "x": [
          "2022-01-01T00:00:00",
          "2022-02-01T00:00:00",
          "2022-03-01T00:00:00",
          "2022-04-01T00:00:00",
          "2022-05-01T00:00:00",
          "2022-06-01T00:00:00",
          "2022-07-01T00:00:00",
          "2022-08-01T00:00:00",
          "2022-09-01T00:00:00",
          "2022-10-01T00:00:00",
          "2022-11-01T00:00:00",
          "2022-12-01T00:00:00",
          "2023-01-01T00:00:00",
          "2023-02-01T00:00:00",
          "2023-03-01T00:00:00",
          "2023-04-01T00:00:00",
          "2023-05-01T00:00:00",
          "2023-06-01T00:00:00",
          "2023-07-01T00:00:00",
          "2023-08-01T00:00:00",
          "2023-09-01T00:00:00",
          "2023-10-01T00:00:00",
          "2023-11-01T00:00:00",
          "2023-12-01T00:00:00",
          "2024-01-01T00:00:00",
          "2024-02-01T00:00:00",
          "2024-03-01T00:00:00",
          "2024-04-01T00:00:00",
          "2024-05-01T00:00:00",
          "2024-06-01T00:00:00",
          "2024-07-01T00:00:00",
          "2024-08-01T00:00:00",
          "2024-09-01T00:00:00",
          "2024-10-01T00:00:00",
          "2024-11-01T00:00:00",
          "2024-12-01T00:00:00",
          "2025-01-01T00:00:00",
          "2025-02-01T00:00:00",
          "2025-03-01T00:00:00",
          "2025-04-01T00:00:00",
          "2025-05-01T00:00:00",
          "2025-06-01T00:00:00",
          "2025-07-01T00:00:00",
          "2025-08-01T00:00:00",
          "2025-09-01T00:00:00",
          "2025-10-01T00:00:00",
          "2025-11-01T00:00:00",
          "2025-12-01T00:00:00"
         ],
         "xaxis": "x",
         "y": [
          18.465836432520085,
          19.546084941777032,
          21.244550299485383,
          22.043497898478982,
          23.145113805816568,
          24.186990116631033,
          24.955426190854453,
          25.735401916835176,
          26.857943440205933,
          27.97904536345647,
          28.752403879889897,
          29.800248749259538,
          30.848093618629186,
          31.895938487998826,
          32.943783357368474,
          33.99162822673812,
          35.03947309610776,
          36.0873179654774,
          37.135162834847044,
          38.18300770421669,
          39.23085257358634,
          40.27869744295598,
          41.32654231232563,
          42.37438718169527,
          43.42223205106491,
          44.47007692043456,
          45.5179217898042,
          46.565766659173846,
          47.61361152854349,
          48.661456397913135,
          49.70930126728278,
          50.75714613665242,
          51.804991006022064,
          52.85283587539171,
          53.90068074476135,
          54.94852561413099,
          55.99637048350065,
          57.04421535287029,
          58.09206022223993,
          59.13990509160958,
          60.18774996097922,
          61.23559483034886,
          62.2834396997185,
          63.331284569088155,
          64.3791294384578,
          65.42697430782745,
          66.47481917719709,
          67.52266404656672
         ],
         "yaxis": "y2"
        }
       ],
       "layout": {
        "template": {
         "data": {
          "bar": [
           {
            "error_x": {
             "color": "#2a3f5f"
            },
            "error_y": {
             "color": "#2a3f5f"
            },
            "marker": {
             "line": {
              "color": "#E5ECF6",
              "width": 0.5
             },
             "pattern": {
              "fillmode": "overlay",
              "size": 10,
              "solidity": 0.2
             }
            },
            "type": "bar"
           }
          ],
          "barpolar": [
           {
            "marker": {
             "line": {
              "color": "#E5ECF6",
              "width": 0.5
             },
             "pattern": {
              "fillmode": "overlay",
              "size": 10,
              "solidity": 0.2
             }
            },
            "type": "barpolar"
           }
          ],
          "carpet": [
           {
            "aaxis": {
             "endlinecolor": "#2a3f5f",
             "gridcolor": "white",
             "linecolor": "white",
             "minorgridcolor": "white",
             "startlinecolor": "#2a3f5f"
            },
            "baxis": {
             "endlinecolor": "#2a3f5f",
             "gridcolor": "white",
             "linecolor": "white",
             "minorgridcolor": "white",
             "startlinecolor": "#2a3f5f"
            },
            "type": "carpet"
           }
          ],
          "choropleth": [
           {
            "colorbar": {
             "outlinewidth": 0,
             "ticks": ""
            },
            "type": "choropleth"
           }
          ],
          "contour": [
           {
            "colorbar": {
             "outlinewidth": 0,
             "ticks": ""
            },
            "colorscale": [
             [
              0,
              "#0d0887"
             ],
             [
              0.1111111111111111,
              "#46039f"
             ],
             [
              0.2222222222222222,
              "#7201a8"
             ],
             [
              0.3333333333333333,
              "#9c179e"
             ],
             [
              0.4444444444444444,
              "#bd3786"
             ],
             [
              0.5555555555555556,
              "#d8576b"
             ],
             [
              0.6666666666666666,
              "#ed7953"
             ],
             [
              0.7777777777777778,
              "#fb9f3a"
             ],
             [
              0.8888888888888888,
              "#fdca26"
             ],
             [
              1,
              "#f0f921"
             ]
            ],
            "type": "contour"
           }
          ],
          "contourcarpet": [
           {
            "colorbar": {
             "outlinewidth": 0,
             "ticks": ""
            },
            "type": "contourcarpet"
           }
          ],
          "heatmap": [
           {
            "colorbar": {
             "outlinewidth": 0,
             "ticks": ""
            },
            "colorscale": [
             [
              0,
              "#0d0887"
             ],
             [
              0.1111111111111111,
              "#46039f"
             ],
             [
              0.2222222222222222,
              "#7201a8"
             ],
             [
              0.3333333333333333,
              "#9c179e"
             ],
             [
              0.4444444444444444,
              "#bd3786"
             ],
             [
              0.5555555555555556,
              "#d8576b"
             ],
             [
              0.6666666666666666,
              "#ed7953"
             ],
             [
              0.7777777777777778,
              "#fb9f3a"
             ],
             [
              0.8888888888888888,
              "#fdca26"
             ],
             [
              1,
              "#f0f921"
             ]
            ],
            "type": "heatmap"
           }
          ],
          "heatmapgl": [
           {
            "colorbar": {
             "outlinewidth": 0,
             "ticks": ""
            },
            "colorscale": [
             [
              0,
              "#0d0887"
             ],
             [
              0.1111111111111111,
              "#46039f"
             ],
             [
              0.2222222222222222,
              "#7201a8"
             ],
             [
              0.3333333333333333,
              "#9c179e"
             ],
             [
              0.4444444444444444,
              "#bd3786"
             ],
             [
              0.5555555555555556,
              "#d8576b"
             ],
             [
              0.6666666666666666,
              "#ed7953"
             ],
             [
              0.7777777777777778,
              "#fb9f3a"
             ],
             [
              0.8888888888888888,
              "#fdca26"
             ],
             [
              1,
              "#f0f921"
             ]
            ],
            "type": "heatmapgl"
           }
          ],
          "histogram": [
           {
            "marker": {
             "pattern": {
              "fillmode": "overlay",
              "size": 10,
              "solidity": 0.2
             }
            },
            "type": "histogram"
           }
          ],
          "histogram2d": [
           {
            "colorbar": {
             "outlinewidth": 0,
             "ticks": ""
            },
            "colorscale": [
             [
              0,
              "#0d0887"
             ],
             [
              0.1111111111111111,
              "#46039f"
             ],
             [
              0.2222222222222222,
              "#7201a8"
             ],
             [
              0.3333333333333333,
              "#9c179e"
             ],
             [
              0.4444444444444444,
              "#bd3786"
             ],
             [
              0.5555555555555556,
              "#d8576b"
             ],
             [
              0.6666666666666666,
              "#ed7953"
             ],
             [
              0.7777777777777778,
              "#fb9f3a"
             ],
             [
              0.8888888888888888,
              "#fdca26"
             ],
             [
              1,
              "#f0f921"
             ]
            ],
            "type": "histogram2d"
           }
          ],
          "histogram2dcontour": [
           {
            "colorbar": {
             "outlinewidth": 0,
             "ticks": ""
            },
            "colorscale": [
             [
              0,
              "#0d0887"
             ],
             [
              0.1111111111111111,
              "#46039f"
             ],
             [
              0.2222222222222222,
              "#7201a8"
             ],
             [
              0.3333333333333333,
              "#9c179e"
             ],
             [
              0.4444444444444444,
              "#bd3786"
             ],
             [
              0.5555555555555556,
              "#d8576b"
             ],
             [
              0.6666666666666666,
              "#ed7953"
             ],
             [
              0.7777777777777778,
              "#fb9f3a"
             ],
             [
              0.8888888888888888,
              "#fdca26"
             ],
             [
              1,
              "#f0f921"
             ]
            ],
            "type": "histogram2dcontour"
           }
          ],
          "mesh3d": [
           {
            "colorbar": {
             "outlinewidth": 0,
             "ticks": ""
            },
            "type": "mesh3d"
           }
          ],
          "parcoords": [
           {
            "line": {
             "colorbar": {
              "outlinewidth": 0,
              "ticks": ""
             }
            },
            "type": "parcoords"
           }
          ],
          "pie": [
           {
            "automargin": true,
            "type": "pie"
           }
          ],
          "scatter": [
           {
            "fillpattern": {
             "fillmode": "overlay",
             "size": 10,
             "solidity": 0.2
            },
            "type": "scatter"
           }
          ],
          "scatter3d": [
           {
            "line": {
             "colorbar": {
              "outlinewidth": 0,
              "ticks": ""
             }
            },
            "marker": {
             "colorbar": {
              "outlinewidth": 0,
              "ticks": ""
             }
            },
            "type": "scatter3d"
           }
          ],
          "scattercarpet": [
           {
            "marker": {
             "colorbar": {
              "outlinewidth": 0,
              "ticks": ""
             }
            },
            "type": "scattercarpet"
           }
          ],
          "scattergeo": [
           {
            "marker": {
             "colorbar": {
              "outlinewidth": 0,
              "ticks": ""
             }
            },
            "type": "scattergeo"
           }
          ],
          "scattergl": [
           {
            "marker": {
             "colorbar": {
              "outlinewidth": 0,
              "ticks": ""
             }
            },
            "type": "scattergl"
           }
          ],
          "scattermapbox": [
           {
            "marker": {
             "colorbar": {
              "outlinewidth": 0,
              "ticks": ""
             }
            },
            "type": "scattermapbox"
           }
          ],
          "scatterpolar": [
           {
            "marker": {
             "colorbar": {
              "outlinewidth": 0,
              "ticks": ""
             }
            },
            "type": "scatterpolar"
           }
          ],
          "scatterpolargl": [
           {
            "marker": {
             "colorbar": {
              "outlinewidth": 0,
              "ticks": ""
             }
            },
            "type": "scatterpolargl"
           }
          ],
          "scatterternary": [
           {
            "marker": {
             "colorbar": {
              "outlinewidth": 0,
              "ticks": ""
             }
            },
            "type": "scatterternary"
           }
          ],
          "surface": [
           {
            "colorbar": {
             "outlinewidth": 0,
             "ticks": ""
            },
            "colorscale": [
             [
              0,
              "#0d0887"
             ],
             [
              0.1111111111111111,
              "#46039f"
             ],
             [
              0.2222222222222222,
              "#7201a8"
             ],
             [
              0.3333333333333333,
              "#9c179e"
             ],
             [
              0.4444444444444444,
              "#bd3786"
             ],
             [
              0.5555555555555556,
              "#d8576b"
             ],
             [
              0.6666666666666666,
              "#ed7953"
             ],
             [
              0.7777777777777778,
              "#fb9f3a"
             ],
             [
              0.8888888888888888,
              "#fdca26"
             ],
             [
              1,
              "#f0f921"
             ]
            ],
            "type": "surface"
           }
          ],
          "table": [
           {
            "cells": {
             "fill": {
              "color": "#EBF0F8"
             },
             "line": {
              "color": "white"
             }
            },
            "header": {
             "fill": {
              "color": "#C8D4E3"
             },
             "line": {
              "color": "white"
             }
            },
            "type": "table"
           }
          ]
         },
         "layout": {
          "annotationdefaults": {
           "arrowcolor": "#2a3f5f",
           "arrowhead": 0,
           "arrowwidth": 1
          },
          "autotypenumbers": "strict",
          "coloraxis": {
           "colorbar": {
            "outlinewidth": 0,
            "ticks": ""
           }
          },
          "colorscale": {
           "diverging": [
            [
             0,
             "#8e0152"
            ],
            [
             0.1,
             "#c51b7d"
            ],
            [
             0.2,
             "#de77ae"
            ],
            [
             0.3,
             "#f1b6da"
            ],
            [
             0.4,
             "#fde0ef"
            ],
            [
             0.5,
             "#f7f7f7"
            ],
            [
             0.6,
             "#e6f5d0"
            ],
            [
             0.7,
             "#b8e186"
            ],
            [
             0.8,
             "#7fbc41"
            ],
            [
             0.9,
             "#4d9221"
            ],
            [
             1,
             "#276419"
            ]
           ],
           "sequential": [
            [
             0,
             "#0d0887"
            ],
            [
             0.1111111111111111,
             "#46039f"
            ],
            [
             0.2222222222222222,
             "#7201a8"
            ],
            [
             0.3333333333333333,
             "#9c179e"
            ],
            [
             0.4444444444444444,
             "#bd3786"
            ],
            [
             0.5555555555555556,
             "#d8576b"
            ],
            [
             0.6666666666666666,
             "#ed7953"
            ],
            [
             0.7777777777777778,
             "#fb9f3a"
            ],
            [
             0.8888888888888888,
             "#fdca26"
            ],
            [
             1,
             "#f0f921"
            ]
           ],
           "sequentialminus": [
            [
             0,
             "#0d0887"
            ],
            [
             0.1111111111111111,
             "#46039f"
            ],
            [
             0.2222222222222222,
             "#7201a8"
            ],
            [
             0.3333333333333333,
             "#9c179e"
            ],
            [
             0.4444444444444444,
             "#bd3786"
            ],
            [
             0.5555555555555556,
             "#d8576b"
            ],
            [
             0.6666666666666666,
             "#ed7953"
            ],
            [
             0.7777777777777778,
             "#fb9f3a"
            ],
            [
             0.8888888888888888,
             "#fdca26"
            ],
            [
             1,
             "#f0f921"
            ]
           ]
          },
          "colorway": [
           "#636efa",
           "#EF553B",
           "#00cc96",
           "#ab63fa",
           "#FFA15A",
           "#19d3f3",
           "#FF6692",
           "#B6E880",
           "#FF97FF",
           "#FECB52"
          ],
          "font": {
           "color": "#2a3f5f"
          },
          "geo": {
           "bgcolor": "white",
           "lakecolor": "white",
           "landcolor": "#E5ECF6",
           "showlakes": true,
           "showland": true,
           "subunitcolor": "white"
          },
          "hoverlabel": {
           "align": "left"
          },
          "hovermode": "closest",
          "mapbox": {
           "style": "light"
          },
          "paper_bgcolor": "white",
          "plot_bgcolor": "#E5ECF6",
          "polar": {
           "angularaxis": {
            "gridcolor": "white",
            "linecolor": "white",
            "ticks": ""
           },
           "bgcolor": "#E5ECF6",
           "radialaxis": {
            "gridcolor": "white",
            "linecolor": "white",
            "ticks": ""
           }
          },
          "scene": {
           "xaxis": {
            "backgroundcolor": "#E5ECF6",
            "gridcolor": "white",
            "gridwidth": 2,
            "linecolor": "white",
            "showbackground": true,
            "ticks": "",
            "zerolinecolor": "white"
           },
           "yaxis": {
            "backgroundcolor": "#E5ECF6",
            "gridcolor": "white",
            "gridwidth": 2,
            "linecolor": "white",
            "showbackground": true,
            "ticks": "",
            "zerolinecolor": "white"
           },
           "zaxis": {
            "backgroundcolor": "#E5ECF6",
            "gridcolor": "white",
            "gridwidth": 2,
            "linecolor": "white",
            "showbackground": true,
            "ticks": "",
            "zerolinecolor": "white"
           }
          },
          "shapedefaults": {
           "line": {
            "color": "#2a3f5f"
           }
          },
          "ternary": {
           "aaxis": {
            "gridcolor": "white",
            "linecolor": "white",
            "ticks": ""
           },
           "baxis": {
            "gridcolor": "white",
            "linecolor": "white",
            "ticks": ""
           },
           "bgcolor": "#E5ECF6",
           "caxis": {
            "gridcolor": "white",
            "linecolor": "white",
            "ticks": ""
           }
          },
          "title": {
           "x": 0.05
          },
          "xaxis": {
           "automargin": true,
           "gridcolor": "white",
           "linecolor": "white",
           "ticks": "",
           "title": {
            "standoff": 15
           },
           "zerolinecolor": "white",
           "zerolinewidth": 2
          },
          "yaxis": {
           "automargin": true,
           "gridcolor": "white",
           "linecolor": "white",
           "ticks": "",
           "title": {
            "standoff": 15
           },
           "zerolinecolor": "white",
           "zerolinewidth": 2
          }
         }
        },
        "title": {
         "text": "ACP Digital Cliff"
        },
        "xaxis": {
         "anchor": "y",
         "domain": [
          0,
          0.94
         ],
         "range": [
          "2022-01-01",
          "2025-01-01"
         ]
        },
        "yaxis": {
         "anchor": "x",
         "domain": [
          0,
          1
         ],
         "range": [
          0,
          120
         ],
         "title": {
          "text": "% Total Funds"
         }
        },
        "yaxis2": {
         "anchor": "x",
         "overlaying": "y",
         "side": "right",
         "title": {
          "text": "% Enrollment"
         }
        }
       }
      },
      "text/html": [
       "<div>                            <div id=\"87bfcfba-9e22-46a4-9649-8f7d67f77bc0\" class=\"plotly-graph-div\" style=\"height:525px; width:100%;\"></div>            <script type=\"text/javascript\">                require([\"plotly\"], function(Plotly) {                    window.PLOTLYENV=window.PLOTLYENV || {};                                    if (document.getElementById(\"87bfcfba-9e22-46a4-9649-8f7d67f77bc0\")) {                    Plotly.newPlot(                        \"87bfcfba-9e22-46a4-9649-8f7d67f77bc0\",                        [{\"name\":\"% Total Funds\",\"x\":[\"2022-01-01T00:00:00\",\"2022-02-01T00:00:00\",\"2022-03-01T00:00:00\",\"2022-04-01T00:00:00\",\"2022-05-01T00:00:00\",\"2022-06-01T00:00:00\",\"2022-07-01T00:00:00\",\"2022-08-01T00:00:00\",\"2022-09-01T00:00:00\",\"2022-10-01T00:00:00\",\"2022-11-01T00:00:00\",\"2022-12-01T00:00:00\",\"2023-01-01T00:00:00\",\"2023-02-01T00:00:00\",\"2023-03-01T00:00:00\",\"2023-04-01T00:00:00\",\"2023-05-01T00:00:00\",\"2023-06-01T00:00:00\",\"2023-07-01T00:00:00\",\"2023-08-01T00:00:00\",\"2023-09-01T00:00:00\",\"2023-10-01T00:00:00\",\"2023-11-01T00:00:00\",\"2023-12-01T00:00:00\",\"2024-01-01T00:00:00\",\"2024-02-01T00:00:00\",\"2024-03-01T00:00:00\",\"2024-04-01T00:00:00\",\"2024-05-01T00:00:00\",\"2024-06-01T00:00:00\",\"2024-07-01T00:00:00\",\"2024-08-01T00:00:00\",\"2024-09-01T00:00:00\",\"2024-10-01T00:00:00\",\"2024-11-01T00:00:00\",\"2024-12-01T00:00:00\",\"2025-01-01T00:00:00\",\"2025-02-01T00:00:00\",\"2025-03-01T00:00:00\",\"2025-04-01T00:00:00\",\"2025-05-01T00:00:00\",\"2025-06-01T00:00:00\",\"2025-07-01T00:00:00\",\"2025-08-01T00:00:00\",\"2025-09-01T00:00:00\",\"2025-10-01T00:00:00\",\"2025-11-01T00:00:00\",\"2025-12-01T00:00:00\"],\"y\":[1.889525150612805,3.8895872235368203,6.063445540273687,8.31905653514332,10.687390881096242,13.162335696621208,15.715911084565104,18.349297845066843,21.097549179874076,23.960517781246693,26.90262064618661,29.951944716179955,33.108489991226755,36.37225647132699,39.743244156480664,43.221453046687785,46.80688314194834,50.49953444226234,54.29940694762978,58.20650065805065,62.22081557352498,66.34235169405272,70.57110901963394,74.90708755026857,79.35028728595665,83.90070822669817,88.55835037249314,93.32321372334155,98.19529827924339,103.17460404019867,108.2611310062074,113.45487917726958,118.75584855338516,124.16403913455423,129.6794509207767,135.30208391205264,141.031938108382,146.8690135097648,152.81331011620108,158.86482792769075,165.0235669442339,171.2895271658305,177.6627085924805,184.14311122418394,190.73073506094082,197.42558010275118,204.22764634961496,211.13693380153217],\"type\":\"scatter\",\"xaxis\":\"x\",\"yaxis\":\"y\"},{\"name\":\"Date for Funds Running Out\",\"x\":[\"2024-05-01T00:00:00\",\"2024-05-01T00:00:00\"],\"y\":[0,200],\"type\":\"scatter\",\"xaxis\":\"x\",\"yaxis\":\"y\"},{\"name\":\"% Enrollment\",\"x\":[\"2022-01-01T00:00:00\",\"2022-02-01T00:00:00\",\"2022-03-01T00:00:00\",\"2022-04-01T00:00:00\",\"2022-05-01T00:00:00\",\"2022-06-01T00:00:00\",\"2022-07-01T00:00:00\",\"2022-08-01T00:00:00\",\"2022-09-01T00:00:00\",\"2022-10-01T00:00:00\",\"2022-11-01T00:00:00\",\"2022-12-01T00:00:00\",\"2023-01-01T00:00:00\",\"2023-02-01T00:00:00\",\"2023-03-01T00:00:00\",\"2023-04-01T00:00:00\",\"2023-05-01T00:00:00\",\"2023-06-01T00:00:00\",\"2023-07-01T00:00:00\",\"2023-08-01T00:00:00\",\"2023-09-01T00:00:00\",\"2023-10-01T00:00:00\",\"2023-11-01T00:00:00\",\"2023-12-01T00:00:00\",\"2024-01-01T00:00:00\",\"2024-02-01T00:00:00\",\"2024-03-01T00:00:00\",\"2024-04-01T00:00:00\",\"2024-05-01T00:00:00\",\"2024-06-01T00:00:00\",\"2024-07-01T00:00:00\",\"2024-08-01T00:00:00\",\"2024-09-01T00:00:00\",\"2024-10-01T00:00:00\",\"2024-11-01T00:00:00\",\"2024-12-01T00:00:00\",\"2025-01-01T00:00:00\",\"2025-02-01T00:00:00\",\"2025-03-01T00:00:00\",\"2025-04-01T00:00:00\",\"2025-05-01T00:00:00\",\"2025-06-01T00:00:00\",\"2025-07-01T00:00:00\",\"2025-08-01T00:00:00\",\"2025-09-01T00:00:00\",\"2025-10-01T00:00:00\",\"2025-11-01T00:00:00\",\"2025-12-01T00:00:00\"],\"y\":[18.465836432520085,19.546084941777032,21.244550299485383,22.043497898478982,23.145113805816568,24.186990116631033,24.955426190854453,25.735401916835176,26.857943440205933,27.97904536345647,28.752403879889897,29.800248749259538,30.848093618629186,31.895938487998826,32.943783357368474,33.99162822673812,35.03947309610776,36.0873179654774,37.135162834847044,38.18300770421669,39.23085257358634,40.27869744295598,41.32654231232563,42.37438718169527,43.42223205106491,44.47007692043456,45.5179217898042,46.565766659173846,47.61361152854349,48.661456397913135,49.70930126728278,50.75714613665242,51.804991006022064,52.85283587539171,53.90068074476135,54.94852561413099,55.99637048350065,57.04421535287029,58.09206022223993,59.13990509160958,60.18774996097922,61.23559483034886,62.2834396997185,63.331284569088155,64.3791294384578,65.42697430782745,66.47481917719709,67.52266404656672],\"type\":\"scatter\",\"xaxis\":\"x\",\"yaxis\":\"y2\"}],                        {\"template\":{\"data\":{\"histogram2dcontour\":[{\"type\":\"histogram2dcontour\",\"colorbar\":{\"outlinewidth\":0,\"ticks\":\"\"},\"colorscale\":[[0.0,\"#0d0887\"],[0.1111111111111111,\"#46039f\"],[0.2222222222222222,\"#7201a8\"],[0.3333333333333333,\"#9c179e\"],[0.4444444444444444,\"#bd3786\"],[0.5555555555555556,\"#d8576b\"],[0.6666666666666666,\"#ed7953\"],[0.7777777777777778,\"#fb9f3a\"],[0.8888888888888888,\"#fdca26\"],[1.0,\"#f0f921\"]]}],\"choropleth\":[{\"type\":\"choropleth\",\"colorbar\":{\"outlinewidth\":0,\"ticks\":\"\"}}],\"histogram2d\":[{\"type\":\"histogram2d\",\"colorbar\":{\"outlinewidth\":0,\"ticks\":\"\"},\"colorscale\":[[0.0,\"#0d0887\"],[0.1111111111111111,\"#46039f\"],[0.2222222222222222,\"#7201a8\"],[0.3333333333333333,\"#9c179e\"],[0.4444444444444444,\"#bd3786\"],[0.5555555555555556,\"#d8576b\"],[0.6666666666666666,\"#ed7953\"],[0.7777777777777778,\"#fb9f3a\"],[0.8888888888888888,\"#fdca26\"],[1.0,\"#f0f921\"]]}],\"heatmap\":[{\"type\":\"heatmap\",\"colorbar\":{\"outlinewidth\":0,\"ticks\":\"\"},\"colorscale\":[[0.0,\"#0d0887\"],[0.1111111111111111,\"#46039f\"],[0.2222222222222222,\"#7201a8\"],[0.3333333333333333,\"#9c179e\"],[0.4444444444444444,\"#bd3786\"],[0.5555555555555556,\"#d8576b\"],[0.6666666666666666,\"#ed7953\"],[0.7777777777777778,\"#fb9f3a\"],[0.8888888888888888,\"#fdca26\"],[1.0,\"#f0f921\"]]}],\"heatmapgl\":[{\"type\":\"heatmapgl\",\"colorbar\":{\"outlinewidth\":0,\"ticks\":\"\"},\"colorscale\":[[0.0,\"#0d0887\"],[0.1111111111111111,\"#46039f\"],[0.2222222222222222,\"#7201a8\"],[0.3333333333333333,\"#9c179e\"],[0.4444444444444444,\"#bd3786\"],[0.5555555555555556,\"#d8576b\"],[0.6666666666666666,\"#ed7953\"],[0.7777777777777778,\"#fb9f3a\"],[0.8888888888888888,\"#fdca26\"],[1.0,\"#f0f921\"]]}],\"contourcarpet\":[{\"type\":\"contourcarpet\",\"colorbar\":{\"outlinewidth\":0,\"ticks\":\"\"}}],\"contour\":[{\"type\":\"contour\",\"colorbar\":{\"outlinewidth\":0,\"ticks\":\"\"},\"colorscale\":[[0.0,\"#0d0887\"],[0.1111111111111111,\"#46039f\"],[0.2222222222222222,\"#7201a8\"],[0.3333333333333333,\"#9c179e\"],[0.4444444444444444,\"#bd3786\"],[0.5555555555555556,\"#d8576b\"],[0.6666666666666666,\"#ed7953\"],[0.7777777777777778,\"#fb9f3a\"],[0.8888888888888888,\"#fdca26\"],[1.0,\"#f0f921\"]]}],\"surface\":[{\"type\":\"surface\",\"colorbar\":{\"outlinewidth\":0,\"ticks\":\"\"},\"colorscale\":[[0.0,\"#0d0887\"],[0.1111111111111111,\"#46039f\"],[0.2222222222222222,\"#7201a8\"],[0.3333333333333333,\"#9c179e\"],[0.4444444444444444,\"#bd3786\"],[0.5555555555555556,\"#d8576b\"],[0.6666666666666666,\"#ed7953\"],[0.7777777777777778,\"#fb9f3a\"],[0.8888888888888888,\"#fdca26\"],[1.0,\"#f0f921\"]]}],\"mesh3d\":[{\"type\":\"mesh3d\",\"colorbar\":{\"outlinewidth\":0,\"ticks\":\"\"}}],\"scatter\":[{\"fillpattern\":{\"fillmode\":\"overlay\",\"size\":10,\"solidity\":0.2},\"type\":\"scatter\"}],\"parcoords\":[{\"type\":\"parcoords\",\"line\":{\"colorbar\":{\"outlinewidth\":0,\"ticks\":\"\"}}}],\"scatterpolargl\":[{\"type\":\"scatterpolargl\",\"marker\":{\"colorbar\":{\"outlinewidth\":0,\"ticks\":\"\"}}}],\"bar\":[{\"error_x\":{\"color\":\"#2a3f5f\"},\"error_y\":{\"color\":\"#2a3f5f\"},\"marker\":{\"line\":{\"color\":\"#E5ECF6\",\"width\":0.5},\"pattern\":{\"fillmode\":\"overlay\",\"size\":10,\"solidity\":0.2}},\"type\":\"bar\"}],\"scattergeo\":[{\"type\":\"scattergeo\",\"marker\":{\"colorbar\":{\"outlinewidth\":0,\"ticks\":\"\"}}}],\"scatterpolar\":[{\"type\":\"scatterpolar\",\"marker\":{\"colorbar\":{\"outlinewidth\":0,\"ticks\":\"\"}}}],\"histogram\":[{\"marker\":{\"pattern\":{\"fillmode\":\"overlay\",\"size\":10,\"solidity\":0.2}},\"type\":\"histogram\"}],\"scattergl\":[{\"type\":\"scattergl\",\"marker\":{\"colorbar\":{\"outlinewidth\":0,\"ticks\":\"\"}}}],\"scatter3d\":[{\"type\":\"scatter3d\",\"line\":{\"colorbar\":{\"outlinewidth\":0,\"ticks\":\"\"}},\"marker\":{\"colorbar\":{\"outlinewidth\":0,\"ticks\":\"\"}}}],\"scattermapbox\":[{\"type\":\"scattermapbox\",\"marker\":{\"colorbar\":{\"outlinewidth\":0,\"ticks\":\"\"}}}],\"scatterternary\":[{\"type\":\"scatterternary\",\"marker\":{\"colorbar\":{\"outlinewidth\":0,\"ticks\":\"\"}}}],\"scattercarpet\":[{\"type\":\"scattercarpet\",\"marker\":{\"colorbar\":{\"outlinewidth\":0,\"ticks\":\"\"}}}],\"carpet\":[{\"aaxis\":{\"endlinecolor\":\"#2a3f5f\",\"gridcolor\":\"white\",\"linecolor\":\"white\",\"minorgridcolor\":\"white\",\"startlinecolor\":\"#2a3f5f\"},\"baxis\":{\"endlinecolor\":\"#2a3f5f\",\"gridcolor\":\"white\",\"linecolor\":\"white\",\"minorgridcolor\":\"white\",\"startlinecolor\":\"#2a3f5f\"},\"type\":\"carpet\"}],\"table\":[{\"cells\":{\"fill\":{\"color\":\"#EBF0F8\"},\"line\":{\"color\":\"white\"}},\"header\":{\"fill\":{\"color\":\"#C8D4E3\"},\"line\":{\"color\":\"white\"}},\"type\":\"table\"}],\"barpolar\":[{\"marker\":{\"line\":{\"color\":\"#E5ECF6\",\"width\":0.5},\"pattern\":{\"fillmode\":\"overlay\",\"size\":10,\"solidity\":0.2}},\"type\":\"barpolar\"}],\"pie\":[{\"automargin\":true,\"type\":\"pie\"}]},\"layout\":{\"autotypenumbers\":\"strict\",\"colorway\":[\"#636efa\",\"#EF553B\",\"#00cc96\",\"#ab63fa\",\"#FFA15A\",\"#19d3f3\",\"#FF6692\",\"#B6E880\",\"#FF97FF\",\"#FECB52\"],\"font\":{\"color\":\"#2a3f5f\"},\"hovermode\":\"closest\",\"hoverlabel\":{\"align\":\"left\"},\"paper_bgcolor\":\"white\",\"plot_bgcolor\":\"#E5ECF6\",\"polar\":{\"bgcolor\":\"#E5ECF6\",\"angularaxis\":{\"gridcolor\":\"white\",\"linecolor\":\"white\",\"ticks\":\"\"},\"radialaxis\":{\"gridcolor\":\"white\",\"linecolor\":\"white\",\"ticks\":\"\"}},\"ternary\":{\"bgcolor\":\"#E5ECF6\",\"aaxis\":{\"gridcolor\":\"white\",\"linecolor\":\"white\",\"ticks\":\"\"},\"baxis\":{\"gridcolor\":\"white\",\"linecolor\":\"white\",\"ticks\":\"\"},\"caxis\":{\"gridcolor\":\"white\",\"linecolor\":\"white\",\"ticks\":\"\"}},\"coloraxis\":{\"colorbar\":{\"outlinewidth\":0,\"ticks\":\"\"}},\"colorscale\":{\"sequential\":[[0.0,\"#0d0887\"],[0.1111111111111111,\"#46039f\"],[0.2222222222222222,\"#7201a8\"],[0.3333333333333333,\"#9c179e\"],[0.4444444444444444,\"#bd3786\"],[0.5555555555555556,\"#d8576b\"],[0.6666666666666666,\"#ed7953\"],[0.7777777777777778,\"#fb9f3a\"],[0.8888888888888888,\"#fdca26\"],[1.0,\"#f0f921\"]],\"sequentialminus\":[[0.0,\"#0d0887\"],[0.1111111111111111,\"#46039f\"],[0.2222222222222222,\"#7201a8\"],[0.3333333333333333,\"#9c179e\"],[0.4444444444444444,\"#bd3786\"],[0.5555555555555556,\"#d8576b\"],[0.6666666666666666,\"#ed7953\"],[0.7777777777777778,\"#fb9f3a\"],[0.8888888888888888,\"#fdca26\"],[1.0,\"#f0f921\"]],\"diverging\":[[0,\"#8e0152\"],[0.1,\"#c51b7d\"],[0.2,\"#de77ae\"],[0.3,\"#f1b6da\"],[0.4,\"#fde0ef\"],[0.5,\"#f7f7f7\"],[0.6,\"#e6f5d0\"],[0.7,\"#b8e186\"],[0.8,\"#7fbc41\"],[0.9,\"#4d9221\"],[1,\"#276419\"]]},\"xaxis\":{\"gridcolor\":\"white\",\"linecolor\":\"white\",\"ticks\":\"\",\"title\":{\"standoff\":15},\"zerolinecolor\":\"white\",\"automargin\":true,\"zerolinewidth\":2},\"yaxis\":{\"gridcolor\":\"white\",\"linecolor\":\"white\",\"ticks\":\"\",\"title\":{\"standoff\":15},\"zerolinecolor\":\"white\",\"automargin\":true,\"zerolinewidth\":2},\"scene\":{\"xaxis\":{\"backgroundcolor\":\"#E5ECF6\",\"gridcolor\":\"white\",\"linecolor\":\"white\",\"showbackground\":true,\"ticks\":\"\",\"zerolinecolor\":\"white\",\"gridwidth\":2},\"yaxis\":{\"backgroundcolor\":\"#E5ECF6\",\"gridcolor\":\"white\",\"linecolor\":\"white\",\"showbackground\":true,\"ticks\":\"\",\"zerolinecolor\":\"white\",\"gridwidth\":2},\"zaxis\":{\"backgroundcolor\":\"#E5ECF6\",\"gridcolor\":\"white\",\"linecolor\":\"white\",\"showbackground\":true,\"ticks\":\"\",\"zerolinecolor\":\"white\",\"gridwidth\":2}},\"shapedefaults\":{\"line\":{\"color\":\"#2a3f5f\"}},\"annotationdefaults\":{\"arrowcolor\":\"#2a3f5f\",\"arrowhead\":0,\"arrowwidth\":1},\"geo\":{\"bgcolor\":\"white\",\"landcolor\":\"#E5ECF6\",\"subunitcolor\":\"white\",\"showland\":true,\"showlakes\":true,\"lakecolor\":\"white\"},\"title\":{\"x\":0.05},\"mapbox\":{\"style\":\"light\"}}},\"xaxis\":{\"anchor\":\"y\",\"domain\":[0.0,0.94],\"range\":[\"2022-01-01\",\"2025-01-01\"]},\"yaxis\":{\"anchor\":\"x\",\"domain\":[0.0,1.0],\"range\":[0,120],\"title\":{\"text\":\"% Total Funds\"}},\"yaxis2\":{\"anchor\":\"x\",\"overlaying\":\"y\",\"side\":\"right\",\"title\":{\"text\":\"% Enrollment\"}},\"title\":{\"text\":\"ACP Digital Cliff\"}},                        {\"responsive\": true}                    ).then(function(){\n",
       "                            \n",
       "var gd = document.getElementById('87bfcfba-9e22-46a4-9649-8f7d67f77bc0');\n",
       "var x = new MutationObserver(function (mutations, observer) {{\n",
       "        var display = window.getComputedStyle(gd).display;\n",
       "        if (!display || display === 'none') {{\n",
       "            console.log([gd, 'removed!']);\n",
       "            Plotly.purge(gd);\n",
       "            observer.disconnect();\n",
       "        }}\n",
       "}});\n",
       "\n",
       "// Listen for the removal of the full notebook cells\n",
       "var notebookContainer = gd.closest('#notebook-container');\n",
       "if (notebookContainer) {{\n",
       "    x.observe(notebookContainer, {childList: true});\n",
       "}}\n",
       "\n",
       "// Listen for the clearing of the current output cell\n",
       "var outputEl = gd.closest('.output');\n",
       "if (outputEl) {{\n",
       "    x.observe(outputEl, {childList: true});\n",
       "}}\n",
       "\n",
       "                        })                };                });            </script>        </div>"
      ]
     },
     "metadata": {},
     "output_type": "display_data"
    }
   ],
   "source": [
    "primary=\"% Total Funds\"\n",
    "secondary=\"% Enrollment\"\n",
    "\n",
    "fig = make_subplots(specs=[[{\"secondary_y\": True}]])\n",
    "col_1='Total Support cum norm'\n",
    "fig.add_trace(\n",
    "    go.Scatter(x=df_p['Data Month'],y=df_p[col_1],name=primary),\n",
    "    secondary_y=False,\n",
    ")\n",
    "fig.add_trace(\n",
    "    go.Scatter(x=[p[0],p[0]],y=[0,200],name=\"Date for Funds Running Out\"),\n",
    "    secondary_y=False,\n",
    ")\n",
    "col_2='Enrollment Pct'\n",
    "fig.add_trace(\n",
    "    go.Scatter(x=df_p['Data Month'],y=df_p[col_2], name=secondary),\n",
    "    secondary_y=True,\n",
    ")\n",
    "fig.update_layout(xaxis_range=['2022-01-01','2025-01-01'],yaxis_range=[0,120],title_text=\"ACP Digital Cliff\")\n",
    "\n",
    "fig.update_yaxes(\n",
    "        title_text=primary, \n",
    "        secondary_y=False)\n",
    "fig.update_yaxes(\n",
    "        title_text=secondary, \n",
    "        secondary_y=True)\n"
   ]
  },
  {
   "cell_type": "markdown",
   "id": "9c3a591b",
   "metadata": {},
   "source": [
    "## The model with monthly new enrollments as linear extrapolation\n",
    "\n",
    "... of the current data as of November 2022 \n",
    "\n",
    "\n"
   ]
  },
  {
   "cell_type": "code",
   "execution_count": 36,
   "id": "03b9cbfb",
   "metadata": {},
   "outputs": [
    {
     "name": "stdout",
     "output_type": "stream",
     "text": [
      "<class 'pandas.core.frame.DataFrame'>\n",
      "RangeIndex: 48 entries, 0 to 47\n",
      "Data columns (total 7 columns):\n",
      " #   Column                     Non-Null Count  Dtype         \n",
      "---  ------                     --------------  -----         \n",
      " 0   Data Month                 48 non-null     datetime64[ns]\n",
      " 1   Net New Enrollments total  48 non-null     float64       \n",
      " 2   Total Subscribers          48 non-null     float64       \n",
      " 3   Totat Support              48 non-null     float64       \n",
      " 4   Totat Support cum          48 non-null     float64       \n",
      " 5   Total Support cum norm     48 non-null     float64       \n",
      " 6   Enrollment Pct             48 non-null     float64       \n",
      "dtypes: datetime64[ns](1), float64(6)\n",
      "memory usage: 2.8 KB\n"
     ]
    },
    {
     "name": "stderr",
     "output_type": "stream",
     "text": [
      "/var/folders/rh/4xd1337512l1025llqtt0d2h0000gn/T/ipykernel_1817/1274825866.py:17: FutureWarning:\n",
      "\n",
      "The frame.append method is deprecated and will be removed from pandas in a future version. Use pandas.concat instead.\n",
      "\n"
     ]
    },
    {
     "data": {
      "text/html": [
       "<div>\n",
       "<style scoped>\n",
       "    .dataframe tbody tr th:only-of-type {\n",
       "        vertical-align: middle;\n",
       "    }\n",
       "\n",
       "    .dataframe tbody tr th {\n",
       "        vertical-align: top;\n",
       "    }\n",
       "\n",
       "    .dataframe thead th {\n",
       "        text-align: right;\n",
       "    }\n",
       "</style>\n",
       "<table border=\"1\" class=\"dataframe\">\n",
       "  <thead>\n",
       "    <tr style=\"text-align: right;\">\n",
       "      <th></th>\n",
       "      <th>Data Month</th>\n",
       "      <th>Net New Enrollments total</th>\n",
       "      <th>Total Subscribers</th>\n",
       "      <th>Totat Support</th>\n",
       "      <th>Totat Support cum</th>\n",
       "      <th>Total Support cum norm</th>\n",
       "      <th>Enrollment Pct</th>\n",
       "    </tr>\n",
       "  </thead>\n",
       "  <tbody>\n",
       "    <tr>\n",
       "      <th>0</th>\n",
       "      <td>2022-01-01</td>\n",
       "      <td>651037.000000</td>\n",
       "      <td>9.697257e+06</td>\n",
       "      <td>3.098821e+08</td>\n",
       "      <td>3.098821e+08</td>\n",
       "      <td>1.889525</td>\n",
       "      <td>18.465836</td>\n",
       "    </tr>\n",
       "    <tr>\n",
       "      <th>1</th>\n",
       "      <td>2022-02-01</td>\n",
       "      <td>567288.000000</td>\n",
       "      <td>1.026454e+07</td>\n",
       "      <td>3.280102e+08</td>\n",
       "      <td>6.378923e+08</td>\n",
       "      <td>3.889587</td>\n",
       "      <td>19.546085</td>\n",
       "    </tr>\n",
       "    <tr>\n",
       "      <th>2</th>\n",
       "      <td>2022-03-01</td>\n",
       "      <td>891942.000000</td>\n",
       "      <td>1.115649e+07</td>\n",
       "      <td>3.565128e+08</td>\n",
       "      <td>9.944051e+08</td>\n",
       "      <td>6.063446</td>\n",
       "      <td>21.244550</td>\n",
       "    </tr>\n",
       "    <tr>\n",
       "      <th>3</th>\n",
       "      <td>2022-04-01</td>\n",
       "      <td>419564.000000</td>\n",
       "      <td>1.157605e+07</td>\n",
       "      <td>3.699202e+08</td>\n",
       "      <td>1.364325e+09</td>\n",
       "      <td>8.319057</td>\n",
       "      <td>22.043498</td>\n",
       "    </tr>\n",
       "    <tr>\n",
       "      <th>4</th>\n",
       "      <td>2022-05-01</td>\n",
       "      <td>578509.000000</td>\n",
       "      <td>1.215456e+07</td>\n",
       "      <td>3.884068e+08</td>\n",
       "      <td>1.752732e+09</td>\n",
       "      <td>10.687391</td>\n",
       "      <td>23.145114</td>\n",
       "    </tr>\n",
       "    <tr>\n",
       "      <th>5</th>\n",
       "      <td>2022-06-01</td>\n",
       "      <td>547137.000000</td>\n",
       "      <td>1.270170e+07</td>\n",
       "      <td>4.058909e+08</td>\n",
       "      <td>2.158623e+09</td>\n",
       "      <td>13.162336</td>\n",
       "      <td>24.186990</td>\n",
       "    </tr>\n",
       "    <tr>\n",
       "      <th>6</th>\n",
       "      <td>2022-07-01</td>\n",
       "      <td>403541.000000</td>\n",
       "      <td>1.310524e+07</td>\n",
       "      <td>4.187864e+08</td>\n",
       "      <td>2.577409e+09</td>\n",
       "      <td>15.715911</td>\n",
       "      <td>24.955426</td>\n",
       "    </tr>\n",
       "    <tr>\n",
       "      <th>7</th>\n",
       "      <td>2022-08-01</td>\n",
       "      <td>409601.000000</td>\n",
       "      <td>1.351484e+07</td>\n",
       "      <td>4.318754e+08</td>\n",
       "      <td>3.009285e+09</td>\n",
       "      <td>18.349298</td>\n",
       "      <td>25.735402</td>\n",
       "    </tr>\n",
       "    <tr>\n",
       "      <th>8</th>\n",
       "      <td>2022-09-01</td>\n",
       "      <td>589498.000000</td>\n",
       "      <td>1.410434e+07</td>\n",
       "      <td>4.507132e+08</td>\n",
       "      <td>3.459998e+09</td>\n",
       "      <td>21.097549</td>\n",
       "      <td>26.857943</td>\n",
       "    </tr>\n",
       "    <tr>\n",
       "      <th>9</th>\n",
       "      <td>2022-10-01</td>\n",
       "      <td>588742.000000</td>\n",
       "      <td>1.469308e+07</td>\n",
       "      <td>4.695269e+08</td>\n",
       "      <td>3.929525e+09</td>\n",
       "      <td>23.960518</td>\n",
       "      <td>27.979045</td>\n",
       "    </tr>\n",
       "    <tr>\n",
       "      <th>10</th>\n",
       "      <td>2022-11-01</td>\n",
       "      <td>406126.000000</td>\n",
       "      <td>1.509920e+07</td>\n",
       "      <td>4.825049e+08</td>\n",
       "      <td>4.412030e+09</td>\n",
       "      <td>26.902621</td>\n",
       "      <td>28.752404</td>\n",
       "    </tr>\n",
       "    <tr>\n",
       "      <th>11</th>\n",
       "      <td>2022-12-01</td>\n",
       "      <td>672505.818182</td>\n",
       "      <td>1.577171e+07</td>\n",
       "      <td>5.039952e+08</td>\n",
       "      <td>4.916025e+09</td>\n",
       "      <td>29.975762</td>\n",
       "      <td>30.033012</td>\n",
       "    </tr>\n",
       "    <tr>\n",
       "      <th>12</th>\n",
       "      <td>2023-01-01</td>\n",
       "      <td>652133.409091</td>\n",
       "      <td>1.642384e+07</td>\n",
       "      <td>5.248346e+08</td>\n",
       "      <td>5.440860e+09</td>\n",
       "      <td>33.175973</td>\n",
       "      <td>31.274826</td>\n",
       "    </tr>\n",
       "    <tr>\n",
       "      <th>13</th>\n",
       "      <td>2023-02-01</td>\n",
       "      <td>631761.000000</td>\n",
       "      <td>1.705561e+07</td>\n",
       "      <td>5.450229e+08</td>\n",
       "      <td>5.985882e+09</td>\n",
       "      <td>36.499283</td>\n",
       "      <td>32.477846</td>\n",
       "    </tr>\n",
       "    <tr>\n",
       "      <th>14</th>\n",
       "      <td>2023-03-01</td>\n",
       "      <td>611388.590909</td>\n",
       "      <td>1.766699e+07</td>\n",
       "      <td>5.645602e+08</td>\n",
       "      <td>6.550443e+09</td>\n",
       "      <td>39.941724</td>\n",
       "      <td>33.642072</td>\n",
       "    </tr>\n",
       "    <tr>\n",
       "      <th>15</th>\n",
       "      <td>2023-04-01</td>\n",
       "      <td>591016.181818</td>\n",
       "      <td>1.825801e+07</td>\n",
       "      <td>5.834465e+08</td>\n",
       "      <td>7.133889e+09</td>\n",
       "      <td>43.499325</td>\n",
       "      <td>34.767504</td>\n",
       "    </tr>\n",
       "    <tr>\n",
       "      <th>16</th>\n",
       "      <td>2023-05-01</td>\n",
       "      <td>570643.772727</td>\n",
       "      <td>1.882865e+07</td>\n",
       "      <td>6.016818e+08</td>\n",
       "      <td>7.735571e+09</td>\n",
       "      <td>47.168116</td>\n",
       "      <td>35.854143</td>\n",
       "    </tr>\n",
       "    <tr>\n",
       "      <th>17</th>\n",
       "      <td>2023-06-01</td>\n",
       "      <td>550271.363636</td>\n",
       "      <td>1.937893e+07</td>\n",
       "      <td>6.192661e+08</td>\n",
       "      <td>8.354837e+09</td>\n",
       "      <td>50.944129</td>\n",
       "      <td>36.901988</td>\n",
       "    </tr>\n",
       "    <tr>\n",
       "      <th>18</th>\n",
       "      <td>2023-07-01</td>\n",
       "      <td>529898.954545</td>\n",
       "      <td>1.990882e+07</td>\n",
       "      <td>6.361994e+08</td>\n",
       "      <td>8.991037e+09</td>\n",
       "      <td>54.823393</td>\n",
       "      <td>37.911039</td>\n",
       "    </tr>\n",
       "    <tr>\n",
       "      <th>19</th>\n",
       "      <td>2023-08-01</td>\n",
       "      <td>509526.545455</td>\n",
       "      <td>2.041835e+07</td>\n",
       "      <td>6.524816e+08</td>\n",
       "      <td>9.643518e+09</td>\n",
       "      <td>58.801940</td>\n",
       "      <td>38.881296</td>\n",
       "    </tr>\n",
       "  </tbody>\n",
       "</table>\n",
       "</div>"
      ],
      "text/plain": [
       "   Data Month  Net New Enrollments total  Total Subscribers  Totat Support  \\\n",
       "0  2022-01-01              651037.000000       9.697257e+06   3.098821e+08   \n",
       "1  2022-02-01              567288.000000       1.026454e+07   3.280102e+08   \n",
       "2  2022-03-01              891942.000000       1.115649e+07   3.565128e+08   \n",
       "3  2022-04-01              419564.000000       1.157605e+07   3.699202e+08   \n",
       "4  2022-05-01              578509.000000       1.215456e+07   3.884068e+08   \n",
       "5  2022-06-01              547137.000000       1.270170e+07   4.058909e+08   \n",
       "6  2022-07-01              403541.000000       1.310524e+07   4.187864e+08   \n",
       "7  2022-08-01              409601.000000       1.351484e+07   4.318754e+08   \n",
       "8  2022-09-01              589498.000000       1.410434e+07   4.507132e+08   \n",
       "9  2022-10-01              588742.000000       1.469308e+07   4.695269e+08   \n",
       "10 2022-11-01              406126.000000       1.509920e+07   4.825049e+08   \n",
       "11 2022-12-01              672505.818182       1.577171e+07   5.039952e+08   \n",
       "12 2023-01-01              652133.409091       1.642384e+07   5.248346e+08   \n",
       "13 2023-02-01              631761.000000       1.705561e+07   5.450229e+08   \n",
       "14 2023-03-01              611388.590909       1.766699e+07   5.645602e+08   \n",
       "15 2023-04-01              591016.181818       1.825801e+07   5.834465e+08   \n",
       "16 2023-05-01              570643.772727       1.882865e+07   6.016818e+08   \n",
       "17 2023-06-01              550271.363636       1.937893e+07   6.192661e+08   \n",
       "18 2023-07-01              529898.954545       1.990882e+07   6.361994e+08   \n",
       "19 2023-08-01              509526.545455       2.041835e+07   6.524816e+08   \n",
       "\n",
       "    Totat Support cum  Total Support cum norm  Enrollment Pct  \n",
       "0        3.098821e+08                1.889525       18.465836  \n",
       "1        6.378923e+08                3.889587       19.546085  \n",
       "2        9.944051e+08                6.063446       21.244550  \n",
       "3        1.364325e+09                8.319057       22.043498  \n",
       "4        1.752732e+09               10.687391       23.145114  \n",
       "5        2.158623e+09               13.162336       24.186990  \n",
       "6        2.577409e+09               15.715911       24.955426  \n",
       "7        3.009285e+09               18.349298       25.735402  \n",
       "8        3.459998e+09               21.097549       26.857943  \n",
       "9        3.929525e+09               23.960518       27.979045  \n",
       "10       4.412030e+09               26.902621       28.752404  \n",
       "11       4.916025e+09               29.975762       30.033012  \n",
       "12       5.440860e+09               33.175973       31.274826  \n",
       "13       5.985882e+09               36.499283       32.477846  \n",
       "14       6.550443e+09               39.941724       33.642072  \n",
       "15       7.133889e+09               43.499325       34.767504  \n",
       "16       7.735571e+09               47.168116       35.854143  \n",
       "17       8.354837e+09               50.944129       36.901988  \n",
       "18       8.991037e+09               54.823393       37.911039  \n",
       "19       9.643518e+09               58.801940       38.881296  "
      ]
     },
     "execution_count": 36,
     "metadata": {},
     "output_type": "execute_result"
    }
   ],
   "source": [
    "df_p=pd.DataFrame()\n",
    "df_p['Data Month']=df_e['Data Month']\n",
    "df_p['Net New Enrollments total']=df_e['Net New Enrollments total']\n",
    "df_p.reset_index()\n",
    "\n",
    "sdate = date(2022,12,1)   # start date\n",
    "edate = date(2026,1,1)\n",
    "months= pd.date_range(sdate,edate , freq='1M')-pd.offsets.MonthBegin(1)\n",
    "\n",
    "#new_enroll=months.shape[0]*[monthly_enroll]\n",
    "new_enroll=y0+m*np.array(list(range(0,months.shape[0])))\n",
    "\n",
    "df_a=pd.DataFrame()\n",
    "df_a['Data Month']=months\n",
    "df_a['Net New Enrollments total']=new_enroll\n",
    "\n",
    "df_p=df_p.append(df_a).reset_index(drop=True)\n",
    "\n",
    "\n",
    "\n",
    "df_p['Total Subscribers']=df_p['Net New Enrollments total'].cumsum()+ebb_enrol\n",
    "df_p['Totat Support']=df_p['Total Subscribers']*monthly_ben\n",
    "df_p['Totat Support cum']=df_p['Totat Support'].cumsum()\n",
    "df_p['Total Support cum norm']=df_p['Totat Support cum']/funds*100\n",
    "df_p['Enrollment Pct']=df_p['Total Subscribers']/total_elig*100\n",
    "\n",
    "outfile='acp_digital_cliff_linear.csv'\n",
    "df_p.to_csv(outfile,index=False)\n",
    "\n",
    "df_p.info()\n",
    "df_p.head(20)"
   ]
  },
  {
   "cell_type": "markdown",
   "id": "be6b79ed",
   "metadata": {},
   "source": [
    "### Results"
   ]
  },
  {
   "cell_type": "code",
   "execution_count": 37,
   "id": "4f65e707",
   "metadata": {},
   "outputs": [
    {
     "data": {
      "text/plain": [
       "Data Month                   2024-05-01 00:00:00\n",
       "Net New Enrollments total          326174.863636\n",
       "Total Subscribers                24087331.136364\n",
       "Totat Support                   769726258.765842\n",
       "Totat Support cum             16141136688.438528\n",
       "Total Support cum norm                 98.421565\n",
       "Enrollment Pct                          45.86789\n",
       "Name: 28, dtype: object"
      ]
     },
     "execution_count": 37,
     "metadata": {},
     "output_type": "execute_result"
    }
   ],
   "source": [
    "ro=df_p[df_p['Total Support cum norm']<=100]\n",
    "p=df_p.iloc[ro.shape[0]-1]\n",
    "p"
   ]
  },
  {
   "cell_type": "code",
   "execution_count": 38,
   "id": "8d54760b",
   "metadata": {},
   "outputs": [
    {
     "data": {
      "application/vnd.plotly.v1+json": {
       "config": {
        "plotlyServerURL": "https://plot.ly"
       },
       "data": [
        {
         "name": "% Total Funds",
         "type": "scatter",
         "x": [
          "2022-01-01T00:00:00",
          "2022-02-01T00:00:00",
          "2022-03-01T00:00:00",
          "2022-04-01T00:00:00",
          "2022-05-01T00:00:00",
          "2022-06-01T00:00:00",
          "2022-07-01T00:00:00",
          "2022-08-01T00:00:00",
          "2022-09-01T00:00:00",
          "2022-10-01T00:00:00",
          "2022-11-01T00:00:00",
          "2022-12-01T00:00:00",
          "2023-01-01T00:00:00",
          "2023-02-01T00:00:00",
          "2023-03-01T00:00:00",
          "2023-04-01T00:00:00",
          "2023-05-01T00:00:00",
          "2023-06-01T00:00:00",
          "2023-07-01T00:00:00",
          "2023-08-01T00:00:00",
          "2023-09-01T00:00:00",
          "2023-10-01T00:00:00",
          "2023-11-01T00:00:00",
          "2023-12-01T00:00:00",
          "2024-01-01T00:00:00",
          "2024-02-01T00:00:00",
          "2024-03-01T00:00:00",
          "2024-04-01T00:00:00",
          "2024-05-01T00:00:00",
          "2024-06-01T00:00:00",
          "2024-07-01T00:00:00",
          "2024-08-01T00:00:00",
          "2024-09-01T00:00:00",
          "2024-10-01T00:00:00",
          "2024-11-01T00:00:00",
          "2024-12-01T00:00:00",
          "2025-01-01T00:00:00",
          "2025-02-01T00:00:00",
          "2025-03-01T00:00:00",
          "2025-04-01T00:00:00",
          "2025-05-01T00:00:00",
          "2025-06-01T00:00:00",
          "2025-07-01T00:00:00",
          "2025-08-01T00:00:00",
          "2025-09-01T00:00:00",
          "2025-10-01T00:00:00",
          "2025-11-01T00:00:00",
          "2025-12-01T00:00:00"
         ],
         "xaxis": "x",
         "y": [
          1.889525150612805,
          3.8895872235368203,
          6.063445540273687,
          8.31905653514332,
          10.687390881096242,
          13.162335696621208,
          15.715911084565104,
          18.349297845066843,
          21.097549179874076,
          23.960517781246693,
          26.90262064618661,
          29.97576228398652,
          33.17597310001199,
          36.49928349962861,
          39.94172388820195,
          43.499324671097575,
          47.16811625368106,
          50.944129041318,
          54.823393439373945,
          58.80193985321448,
          62.87579868820519,
          67.04100034971164,
          71.29357524309938,
          75.62955377373403,
          80.04496634698113,
          84.53584336820626,
          89.09821524277503,
          93.72811237605296,
          98.42156517340565,
          103.17460404019869,
          107.98325938179762,
          112.84356160356805,
          117.75154111087554,
          122.70322830908565,
          127.69465360356395,
          132.72184739967608,
          137.78084010278752,
          142.86766211826392,
          147.9783438514708,
          153.10891570777378,
          158.2554080925384,
          163.41385141113022,
          168.58027606891488,
          173.7507124712579,
          178.9211910235249,
          184.0877421310814,
          189.246396199293,
          194.39318363352527
         ],
         "yaxis": "y"
        },
        {
         "name": "Date for Funds Running Out",
         "type": "scatter",
         "x": [
          "2024-05-01T00:00:00",
          "2024-05-01T00:00:00"
         ],
         "xaxis": "x",
         "y": [
          0,
          200
         ],
         "yaxis": "y"
        },
        {
         "name": "% Enrollment",
         "type": "scatter",
         "x": [
          "2022-01-01T00:00:00",
          "2022-02-01T00:00:00",
          "2022-03-01T00:00:00",
          "2022-04-01T00:00:00",
          "2022-05-01T00:00:00",
          "2022-06-01T00:00:00",
          "2022-07-01T00:00:00",
          "2022-08-01T00:00:00",
          "2022-09-01T00:00:00",
          "2022-10-01T00:00:00",
          "2022-11-01T00:00:00",
          "2022-12-01T00:00:00",
          "2023-01-01T00:00:00",
          "2023-02-01T00:00:00",
          "2023-03-01T00:00:00",
          "2023-04-01T00:00:00",
          "2023-05-01T00:00:00",
          "2023-06-01T00:00:00",
          "2023-07-01T00:00:00",
          "2023-08-01T00:00:00",
          "2023-09-01T00:00:00",
          "2023-10-01T00:00:00",
          "2023-11-01T00:00:00",
          "2023-12-01T00:00:00",
          "2024-01-01T00:00:00",
          "2024-02-01T00:00:00",
          "2024-03-01T00:00:00",
          "2024-04-01T00:00:00",
          "2024-05-01T00:00:00",
          "2024-06-01T00:00:00",
          "2024-07-01T00:00:00",
          "2024-08-01T00:00:00",
          "2024-09-01T00:00:00",
          "2024-10-01T00:00:00",
          "2024-11-01T00:00:00",
          "2024-12-01T00:00:00",
          "2025-01-01T00:00:00",
          "2025-02-01T00:00:00",
          "2025-03-01T00:00:00",
          "2025-04-01T00:00:00",
          "2025-05-01T00:00:00",
          "2025-06-01T00:00:00",
          "2025-07-01T00:00:00",
          "2025-08-01T00:00:00",
          "2025-09-01T00:00:00",
          "2025-10-01T00:00:00",
          "2025-11-01T00:00:00",
          "2025-12-01T00:00:00"
         ],
         "xaxis": "x",
         "y": [
          18.465836432520085,
          19.546084941777032,
          21.244550299485383,
          22.043497898478982,
          23.145113805816568,
          24.186990116631033,
          24.955426190854453,
          25.735401916835176,
          26.857943440205933,
          27.97904536345647,
          28.752403879889897,
          30.033011626850048,
          31.274825560878444,
          32.47784568197509,
          33.642071990139996,
          34.76750448537314,
          35.854143167674536,
          36.901988037044184,
          37.91103909348208,
          38.88129633698822,
          39.81275976756261,
          40.70542938520525,
          41.55930518991614,
          42.374387181695276,
          43.150675360542664,
          43.8881697264583,
          44.58687027944219,
          45.246777019494324,
          45.86788994661471,
          46.450209060803346,
          46.99373436206022,
          47.49846585038536,
          47.964403525778735,
          48.39154738824037,
          48.779897437770245,
          49.12945367436837,
          49.440216098034746,
          49.71218470876937,
          49.945359506572245,
          50.139740491443376,
          50.295327663382736,
          50.412121022390366,
          50.49012056846623,
          50.529326301610354,
          50.52973822182272,
          50.49135632910334,
          50.41418062345221,
          50.29821110486932
         ],
         "yaxis": "y2"
        }
       ],
       "layout": {
        "template": {
         "data": {
          "bar": [
           {
            "error_x": {
             "color": "#2a3f5f"
            },
            "error_y": {
             "color": "#2a3f5f"
            },
            "marker": {
             "line": {
              "color": "#E5ECF6",
              "width": 0.5
             },
             "pattern": {
              "fillmode": "overlay",
              "size": 10,
              "solidity": 0.2
             }
            },
            "type": "bar"
           }
          ],
          "barpolar": [
           {
            "marker": {
             "line": {
              "color": "#E5ECF6",
              "width": 0.5
             },
             "pattern": {
              "fillmode": "overlay",
              "size": 10,
              "solidity": 0.2
             }
            },
            "type": "barpolar"
           }
          ],
          "carpet": [
           {
            "aaxis": {
             "endlinecolor": "#2a3f5f",
             "gridcolor": "white",
             "linecolor": "white",
             "minorgridcolor": "white",
             "startlinecolor": "#2a3f5f"
            },
            "baxis": {
             "endlinecolor": "#2a3f5f",
             "gridcolor": "white",
             "linecolor": "white",
             "minorgridcolor": "white",
             "startlinecolor": "#2a3f5f"
            },
            "type": "carpet"
           }
          ],
          "choropleth": [
           {
            "colorbar": {
             "outlinewidth": 0,
             "ticks": ""
            },
            "type": "choropleth"
           }
          ],
          "contour": [
           {
            "colorbar": {
             "outlinewidth": 0,
             "ticks": ""
            },
            "colorscale": [
             [
              0,
              "#0d0887"
             ],
             [
              0.1111111111111111,
              "#46039f"
             ],
             [
              0.2222222222222222,
              "#7201a8"
             ],
             [
              0.3333333333333333,
              "#9c179e"
             ],
             [
              0.4444444444444444,
              "#bd3786"
             ],
             [
              0.5555555555555556,
              "#d8576b"
             ],
             [
              0.6666666666666666,
              "#ed7953"
             ],
             [
              0.7777777777777778,
              "#fb9f3a"
             ],
             [
              0.8888888888888888,
              "#fdca26"
             ],
             [
              1,
              "#f0f921"
             ]
            ],
            "type": "contour"
           }
          ],
          "contourcarpet": [
           {
            "colorbar": {
             "outlinewidth": 0,
             "ticks": ""
            },
            "type": "contourcarpet"
           }
          ],
          "heatmap": [
           {
            "colorbar": {
             "outlinewidth": 0,
             "ticks": ""
            },
            "colorscale": [
             [
              0,
              "#0d0887"
             ],
             [
              0.1111111111111111,
              "#46039f"
             ],
             [
              0.2222222222222222,
              "#7201a8"
             ],
             [
              0.3333333333333333,
              "#9c179e"
             ],
             [
              0.4444444444444444,
              "#bd3786"
             ],
             [
              0.5555555555555556,
              "#d8576b"
             ],
             [
              0.6666666666666666,
              "#ed7953"
             ],
             [
              0.7777777777777778,
              "#fb9f3a"
             ],
             [
              0.8888888888888888,
              "#fdca26"
             ],
             [
              1,
              "#f0f921"
             ]
            ],
            "type": "heatmap"
           }
          ],
          "heatmapgl": [
           {
            "colorbar": {
             "outlinewidth": 0,
             "ticks": ""
            },
            "colorscale": [
             [
              0,
              "#0d0887"
             ],
             [
              0.1111111111111111,
              "#46039f"
             ],
             [
              0.2222222222222222,
              "#7201a8"
             ],
             [
              0.3333333333333333,
              "#9c179e"
             ],
             [
              0.4444444444444444,
              "#bd3786"
             ],
             [
              0.5555555555555556,
              "#d8576b"
             ],
             [
              0.6666666666666666,
              "#ed7953"
             ],
             [
              0.7777777777777778,
              "#fb9f3a"
             ],
             [
              0.8888888888888888,
              "#fdca26"
             ],
             [
              1,
              "#f0f921"
             ]
            ],
            "type": "heatmapgl"
           }
          ],
          "histogram": [
           {
            "marker": {
             "pattern": {
              "fillmode": "overlay",
              "size": 10,
              "solidity": 0.2
             }
            },
            "type": "histogram"
           }
          ],
          "histogram2d": [
           {
            "colorbar": {
             "outlinewidth": 0,
             "ticks": ""
            },
            "colorscale": [
             [
              0,
              "#0d0887"
             ],
             [
              0.1111111111111111,
              "#46039f"
             ],
             [
              0.2222222222222222,
              "#7201a8"
             ],
             [
              0.3333333333333333,
              "#9c179e"
             ],
             [
              0.4444444444444444,
              "#bd3786"
             ],
             [
              0.5555555555555556,
              "#d8576b"
             ],
             [
              0.6666666666666666,
              "#ed7953"
             ],
             [
              0.7777777777777778,
              "#fb9f3a"
             ],
             [
              0.8888888888888888,
              "#fdca26"
             ],
             [
              1,
              "#f0f921"
             ]
            ],
            "type": "histogram2d"
           }
          ],
          "histogram2dcontour": [
           {
            "colorbar": {
             "outlinewidth": 0,
             "ticks": ""
            },
            "colorscale": [
             [
              0,
              "#0d0887"
             ],
             [
              0.1111111111111111,
              "#46039f"
             ],
             [
              0.2222222222222222,
              "#7201a8"
             ],
             [
              0.3333333333333333,
              "#9c179e"
             ],
             [
              0.4444444444444444,
              "#bd3786"
             ],
             [
              0.5555555555555556,
              "#d8576b"
             ],
             [
              0.6666666666666666,
              "#ed7953"
             ],
             [
              0.7777777777777778,
              "#fb9f3a"
             ],
             [
              0.8888888888888888,
              "#fdca26"
             ],
             [
              1,
              "#f0f921"
             ]
            ],
            "type": "histogram2dcontour"
           }
          ],
          "mesh3d": [
           {
            "colorbar": {
             "outlinewidth": 0,
             "ticks": ""
            },
            "type": "mesh3d"
           }
          ],
          "parcoords": [
           {
            "line": {
             "colorbar": {
              "outlinewidth": 0,
              "ticks": ""
             }
            },
            "type": "parcoords"
           }
          ],
          "pie": [
           {
            "automargin": true,
            "type": "pie"
           }
          ],
          "scatter": [
           {
            "fillpattern": {
             "fillmode": "overlay",
             "size": 10,
             "solidity": 0.2
            },
            "type": "scatter"
           }
          ],
          "scatter3d": [
           {
            "line": {
             "colorbar": {
              "outlinewidth": 0,
              "ticks": ""
             }
            },
            "marker": {
             "colorbar": {
              "outlinewidth": 0,
              "ticks": ""
             }
            },
            "type": "scatter3d"
           }
          ],
          "scattercarpet": [
           {
            "marker": {
             "colorbar": {
              "outlinewidth": 0,
              "ticks": ""
             }
            },
            "type": "scattercarpet"
           }
          ],
          "scattergeo": [
           {
            "marker": {
             "colorbar": {
              "outlinewidth": 0,
              "ticks": ""
             }
            },
            "type": "scattergeo"
           }
          ],
          "scattergl": [
           {
            "marker": {
             "colorbar": {
              "outlinewidth": 0,
              "ticks": ""
             }
            },
            "type": "scattergl"
           }
          ],
          "scattermapbox": [
           {
            "marker": {
             "colorbar": {
              "outlinewidth": 0,
              "ticks": ""
             }
            },
            "type": "scattermapbox"
           }
          ],
          "scatterpolar": [
           {
            "marker": {
             "colorbar": {
              "outlinewidth": 0,
              "ticks": ""
             }
            },
            "type": "scatterpolar"
           }
          ],
          "scatterpolargl": [
           {
            "marker": {
             "colorbar": {
              "outlinewidth": 0,
              "ticks": ""
             }
            },
            "type": "scatterpolargl"
           }
          ],
          "scatterternary": [
           {
            "marker": {
             "colorbar": {
              "outlinewidth": 0,
              "ticks": ""
             }
            },
            "type": "scatterternary"
           }
          ],
          "surface": [
           {
            "colorbar": {
             "outlinewidth": 0,
             "ticks": ""
            },
            "colorscale": [
             [
              0,
              "#0d0887"
             ],
             [
              0.1111111111111111,
              "#46039f"
             ],
             [
              0.2222222222222222,
              "#7201a8"
             ],
             [
              0.3333333333333333,
              "#9c179e"
             ],
             [
              0.4444444444444444,
              "#bd3786"
             ],
             [
              0.5555555555555556,
              "#d8576b"
             ],
             [
              0.6666666666666666,
              "#ed7953"
             ],
             [
              0.7777777777777778,
              "#fb9f3a"
             ],
             [
              0.8888888888888888,
              "#fdca26"
             ],
             [
              1,
              "#f0f921"
             ]
            ],
            "type": "surface"
           }
          ],
          "table": [
           {
            "cells": {
             "fill": {
              "color": "#EBF0F8"
             },
             "line": {
              "color": "white"
             }
            },
            "header": {
             "fill": {
              "color": "#C8D4E3"
             },
             "line": {
              "color": "white"
             }
            },
            "type": "table"
           }
          ]
         },
         "layout": {
          "annotationdefaults": {
           "arrowcolor": "#2a3f5f",
           "arrowhead": 0,
           "arrowwidth": 1
          },
          "autotypenumbers": "strict",
          "coloraxis": {
           "colorbar": {
            "outlinewidth": 0,
            "ticks": ""
           }
          },
          "colorscale": {
           "diverging": [
            [
             0,
             "#8e0152"
            ],
            [
             0.1,
             "#c51b7d"
            ],
            [
             0.2,
             "#de77ae"
            ],
            [
             0.3,
             "#f1b6da"
            ],
            [
             0.4,
             "#fde0ef"
            ],
            [
             0.5,
             "#f7f7f7"
            ],
            [
             0.6,
             "#e6f5d0"
            ],
            [
             0.7,
             "#b8e186"
            ],
            [
             0.8,
             "#7fbc41"
            ],
            [
             0.9,
             "#4d9221"
            ],
            [
             1,
             "#276419"
            ]
           ],
           "sequential": [
            [
             0,
             "#0d0887"
            ],
            [
             0.1111111111111111,
             "#46039f"
            ],
            [
             0.2222222222222222,
             "#7201a8"
            ],
            [
             0.3333333333333333,
             "#9c179e"
            ],
            [
             0.4444444444444444,
             "#bd3786"
            ],
            [
             0.5555555555555556,
             "#d8576b"
            ],
            [
             0.6666666666666666,
             "#ed7953"
            ],
            [
             0.7777777777777778,
             "#fb9f3a"
            ],
            [
             0.8888888888888888,
             "#fdca26"
            ],
            [
             1,
             "#f0f921"
            ]
           ],
           "sequentialminus": [
            [
             0,
             "#0d0887"
            ],
            [
             0.1111111111111111,
             "#46039f"
            ],
            [
             0.2222222222222222,
             "#7201a8"
            ],
            [
             0.3333333333333333,
             "#9c179e"
            ],
            [
             0.4444444444444444,
             "#bd3786"
            ],
            [
             0.5555555555555556,
             "#d8576b"
            ],
            [
             0.6666666666666666,
             "#ed7953"
            ],
            [
             0.7777777777777778,
             "#fb9f3a"
            ],
            [
             0.8888888888888888,
             "#fdca26"
            ],
            [
             1,
             "#f0f921"
            ]
           ]
          },
          "colorway": [
           "#636efa",
           "#EF553B",
           "#00cc96",
           "#ab63fa",
           "#FFA15A",
           "#19d3f3",
           "#FF6692",
           "#B6E880",
           "#FF97FF",
           "#FECB52"
          ],
          "font": {
           "color": "#2a3f5f"
          },
          "geo": {
           "bgcolor": "white",
           "lakecolor": "white",
           "landcolor": "#E5ECF6",
           "showlakes": true,
           "showland": true,
           "subunitcolor": "white"
          },
          "hoverlabel": {
           "align": "left"
          },
          "hovermode": "closest",
          "mapbox": {
           "style": "light"
          },
          "paper_bgcolor": "white",
          "plot_bgcolor": "#E5ECF6",
          "polar": {
           "angularaxis": {
            "gridcolor": "white",
            "linecolor": "white",
            "ticks": ""
           },
           "bgcolor": "#E5ECF6",
           "radialaxis": {
            "gridcolor": "white",
            "linecolor": "white",
            "ticks": ""
           }
          },
          "scene": {
           "xaxis": {
            "backgroundcolor": "#E5ECF6",
            "gridcolor": "white",
            "gridwidth": 2,
            "linecolor": "white",
            "showbackground": true,
            "ticks": "",
            "zerolinecolor": "white"
           },
           "yaxis": {
            "backgroundcolor": "#E5ECF6",
            "gridcolor": "white",
            "gridwidth": 2,
            "linecolor": "white",
            "showbackground": true,
            "ticks": "",
            "zerolinecolor": "white"
           },
           "zaxis": {
            "backgroundcolor": "#E5ECF6",
            "gridcolor": "white",
            "gridwidth": 2,
            "linecolor": "white",
            "showbackground": true,
            "ticks": "",
            "zerolinecolor": "white"
           }
          },
          "shapedefaults": {
           "line": {
            "color": "#2a3f5f"
           }
          },
          "ternary": {
           "aaxis": {
            "gridcolor": "white",
            "linecolor": "white",
            "ticks": ""
           },
           "baxis": {
            "gridcolor": "white",
            "linecolor": "white",
            "ticks": ""
           },
           "bgcolor": "#E5ECF6",
           "caxis": {
            "gridcolor": "white",
            "linecolor": "white",
            "ticks": ""
           }
          },
          "title": {
           "x": 0.05
          },
          "xaxis": {
           "automargin": true,
           "gridcolor": "white",
           "linecolor": "white",
           "ticks": "",
           "title": {
            "standoff": 15
           },
           "zerolinecolor": "white",
           "zerolinewidth": 2
          },
          "yaxis": {
           "automargin": true,
           "gridcolor": "white",
           "linecolor": "white",
           "ticks": "",
           "title": {
            "standoff": 15
           },
           "zerolinecolor": "white",
           "zerolinewidth": 2
          }
         }
        },
        "title": {
         "text": "ACP Digital Cliff"
        },
        "xaxis": {
         "anchor": "y",
         "domain": [
          0,
          0.94
         ],
         "range": [
          "2022-01-01",
          "2025-01-01"
         ]
        },
        "yaxis": {
         "anchor": "x",
         "domain": [
          0,
          1
         ],
         "range": [
          0,
          120
         ],
         "title": {
          "text": "% Total Funds"
         }
        },
        "yaxis2": {
         "anchor": "x",
         "overlaying": "y",
         "side": "right",
         "title": {
          "text": "% Enrollment"
         }
        }
       }
      },
      "text/html": [
       "<div>                            <div id=\"cf951961-4033-4693-9ff1-3d445a5897c7\" class=\"plotly-graph-div\" style=\"height:525px; width:100%;\"></div>            <script type=\"text/javascript\">                require([\"plotly\"], function(Plotly) {                    window.PLOTLYENV=window.PLOTLYENV || {};                                    if (document.getElementById(\"cf951961-4033-4693-9ff1-3d445a5897c7\")) {                    Plotly.newPlot(                        \"cf951961-4033-4693-9ff1-3d445a5897c7\",                        [{\"name\":\"% Total Funds\",\"x\":[\"2022-01-01T00:00:00\",\"2022-02-01T00:00:00\",\"2022-03-01T00:00:00\",\"2022-04-01T00:00:00\",\"2022-05-01T00:00:00\",\"2022-06-01T00:00:00\",\"2022-07-01T00:00:00\",\"2022-08-01T00:00:00\",\"2022-09-01T00:00:00\",\"2022-10-01T00:00:00\",\"2022-11-01T00:00:00\",\"2022-12-01T00:00:00\",\"2023-01-01T00:00:00\",\"2023-02-01T00:00:00\",\"2023-03-01T00:00:00\",\"2023-04-01T00:00:00\",\"2023-05-01T00:00:00\",\"2023-06-01T00:00:00\",\"2023-07-01T00:00:00\",\"2023-08-01T00:00:00\",\"2023-09-01T00:00:00\",\"2023-10-01T00:00:00\",\"2023-11-01T00:00:00\",\"2023-12-01T00:00:00\",\"2024-01-01T00:00:00\",\"2024-02-01T00:00:00\",\"2024-03-01T00:00:00\",\"2024-04-01T00:00:00\",\"2024-05-01T00:00:00\",\"2024-06-01T00:00:00\",\"2024-07-01T00:00:00\",\"2024-08-01T00:00:00\",\"2024-09-01T00:00:00\",\"2024-10-01T00:00:00\",\"2024-11-01T00:00:00\",\"2024-12-01T00:00:00\",\"2025-01-01T00:00:00\",\"2025-02-01T00:00:00\",\"2025-03-01T00:00:00\",\"2025-04-01T00:00:00\",\"2025-05-01T00:00:00\",\"2025-06-01T00:00:00\",\"2025-07-01T00:00:00\",\"2025-08-01T00:00:00\",\"2025-09-01T00:00:00\",\"2025-10-01T00:00:00\",\"2025-11-01T00:00:00\",\"2025-12-01T00:00:00\"],\"y\":[1.889525150612805,3.8895872235368203,6.063445540273687,8.31905653514332,10.687390881096242,13.162335696621208,15.715911084565104,18.349297845066843,21.097549179874076,23.960517781246693,26.90262064618661,29.97576228398652,33.17597310001199,36.49928349962861,39.94172388820195,43.499324671097575,47.16811625368106,50.944129041318,54.823393439373945,58.80193985321448,62.87579868820519,67.04100034971164,71.29357524309938,75.62955377373403,80.04496634698113,84.53584336820626,89.09821524277503,93.72811237605296,98.42156517340565,103.17460404019869,107.98325938179762,112.84356160356805,117.75154111087554,122.70322830908565,127.69465360356395,132.72184739967608,137.78084010278752,142.86766211826392,147.9783438514708,153.10891570777378,158.2554080925384,163.41385141113022,168.58027606891488,173.7507124712579,178.9211910235249,184.0877421310814,189.246396199293,194.39318363352527],\"type\":\"scatter\",\"xaxis\":\"x\",\"yaxis\":\"y\"},{\"name\":\"Date for Funds Running Out\",\"x\":[\"2024-05-01T00:00:00\",\"2024-05-01T00:00:00\"],\"y\":[0,200],\"type\":\"scatter\",\"xaxis\":\"x\",\"yaxis\":\"y\"},{\"name\":\"% Enrollment\",\"x\":[\"2022-01-01T00:00:00\",\"2022-02-01T00:00:00\",\"2022-03-01T00:00:00\",\"2022-04-01T00:00:00\",\"2022-05-01T00:00:00\",\"2022-06-01T00:00:00\",\"2022-07-01T00:00:00\",\"2022-08-01T00:00:00\",\"2022-09-01T00:00:00\",\"2022-10-01T00:00:00\",\"2022-11-01T00:00:00\",\"2022-12-01T00:00:00\",\"2023-01-01T00:00:00\",\"2023-02-01T00:00:00\",\"2023-03-01T00:00:00\",\"2023-04-01T00:00:00\",\"2023-05-01T00:00:00\",\"2023-06-01T00:00:00\",\"2023-07-01T00:00:00\",\"2023-08-01T00:00:00\",\"2023-09-01T00:00:00\",\"2023-10-01T00:00:00\",\"2023-11-01T00:00:00\",\"2023-12-01T00:00:00\",\"2024-01-01T00:00:00\",\"2024-02-01T00:00:00\",\"2024-03-01T00:00:00\",\"2024-04-01T00:00:00\",\"2024-05-01T00:00:00\",\"2024-06-01T00:00:00\",\"2024-07-01T00:00:00\",\"2024-08-01T00:00:00\",\"2024-09-01T00:00:00\",\"2024-10-01T00:00:00\",\"2024-11-01T00:00:00\",\"2024-12-01T00:00:00\",\"2025-01-01T00:00:00\",\"2025-02-01T00:00:00\",\"2025-03-01T00:00:00\",\"2025-04-01T00:00:00\",\"2025-05-01T00:00:00\",\"2025-06-01T00:00:00\",\"2025-07-01T00:00:00\",\"2025-08-01T00:00:00\",\"2025-09-01T00:00:00\",\"2025-10-01T00:00:00\",\"2025-11-01T00:00:00\",\"2025-12-01T00:00:00\"],\"y\":[18.465836432520085,19.546084941777032,21.244550299485383,22.043497898478982,23.145113805816568,24.186990116631033,24.955426190854453,25.735401916835176,26.857943440205933,27.97904536345647,28.752403879889897,30.033011626850048,31.274825560878444,32.47784568197509,33.642071990139996,34.76750448537314,35.854143167674536,36.901988037044184,37.91103909348208,38.88129633698822,39.81275976756261,40.70542938520525,41.55930518991614,42.374387181695276,43.150675360542664,43.8881697264583,44.58687027944219,45.246777019494324,45.86788994661471,46.450209060803346,46.99373436206022,47.49846585038536,47.964403525778735,48.39154738824037,48.779897437770245,49.12945367436837,49.440216098034746,49.71218470876937,49.945359506572245,50.139740491443376,50.295327663382736,50.412121022390366,50.49012056846623,50.529326301610354,50.52973822182272,50.49135632910334,50.41418062345221,50.29821110486932],\"type\":\"scatter\",\"xaxis\":\"x\",\"yaxis\":\"y2\"}],                        {\"template\":{\"data\":{\"histogram2dcontour\":[{\"type\":\"histogram2dcontour\",\"colorbar\":{\"outlinewidth\":0,\"ticks\":\"\"},\"colorscale\":[[0.0,\"#0d0887\"],[0.1111111111111111,\"#46039f\"],[0.2222222222222222,\"#7201a8\"],[0.3333333333333333,\"#9c179e\"],[0.4444444444444444,\"#bd3786\"],[0.5555555555555556,\"#d8576b\"],[0.6666666666666666,\"#ed7953\"],[0.7777777777777778,\"#fb9f3a\"],[0.8888888888888888,\"#fdca26\"],[1.0,\"#f0f921\"]]}],\"choropleth\":[{\"type\":\"choropleth\",\"colorbar\":{\"outlinewidth\":0,\"ticks\":\"\"}}],\"histogram2d\":[{\"type\":\"histogram2d\",\"colorbar\":{\"outlinewidth\":0,\"ticks\":\"\"},\"colorscale\":[[0.0,\"#0d0887\"],[0.1111111111111111,\"#46039f\"],[0.2222222222222222,\"#7201a8\"],[0.3333333333333333,\"#9c179e\"],[0.4444444444444444,\"#bd3786\"],[0.5555555555555556,\"#d8576b\"],[0.6666666666666666,\"#ed7953\"],[0.7777777777777778,\"#fb9f3a\"],[0.8888888888888888,\"#fdca26\"],[1.0,\"#f0f921\"]]}],\"heatmap\":[{\"type\":\"heatmap\",\"colorbar\":{\"outlinewidth\":0,\"ticks\":\"\"},\"colorscale\":[[0.0,\"#0d0887\"],[0.1111111111111111,\"#46039f\"],[0.2222222222222222,\"#7201a8\"],[0.3333333333333333,\"#9c179e\"],[0.4444444444444444,\"#bd3786\"],[0.5555555555555556,\"#d8576b\"],[0.6666666666666666,\"#ed7953\"],[0.7777777777777778,\"#fb9f3a\"],[0.8888888888888888,\"#fdca26\"],[1.0,\"#f0f921\"]]}],\"heatmapgl\":[{\"type\":\"heatmapgl\",\"colorbar\":{\"outlinewidth\":0,\"ticks\":\"\"},\"colorscale\":[[0.0,\"#0d0887\"],[0.1111111111111111,\"#46039f\"],[0.2222222222222222,\"#7201a8\"],[0.3333333333333333,\"#9c179e\"],[0.4444444444444444,\"#bd3786\"],[0.5555555555555556,\"#d8576b\"],[0.6666666666666666,\"#ed7953\"],[0.7777777777777778,\"#fb9f3a\"],[0.8888888888888888,\"#fdca26\"],[1.0,\"#f0f921\"]]}],\"contourcarpet\":[{\"type\":\"contourcarpet\",\"colorbar\":{\"outlinewidth\":0,\"ticks\":\"\"}}],\"contour\":[{\"type\":\"contour\",\"colorbar\":{\"outlinewidth\":0,\"ticks\":\"\"},\"colorscale\":[[0.0,\"#0d0887\"],[0.1111111111111111,\"#46039f\"],[0.2222222222222222,\"#7201a8\"],[0.3333333333333333,\"#9c179e\"],[0.4444444444444444,\"#bd3786\"],[0.5555555555555556,\"#d8576b\"],[0.6666666666666666,\"#ed7953\"],[0.7777777777777778,\"#fb9f3a\"],[0.8888888888888888,\"#fdca26\"],[1.0,\"#f0f921\"]]}],\"surface\":[{\"type\":\"surface\",\"colorbar\":{\"outlinewidth\":0,\"ticks\":\"\"},\"colorscale\":[[0.0,\"#0d0887\"],[0.1111111111111111,\"#46039f\"],[0.2222222222222222,\"#7201a8\"],[0.3333333333333333,\"#9c179e\"],[0.4444444444444444,\"#bd3786\"],[0.5555555555555556,\"#d8576b\"],[0.6666666666666666,\"#ed7953\"],[0.7777777777777778,\"#fb9f3a\"],[0.8888888888888888,\"#fdca26\"],[1.0,\"#f0f921\"]]}],\"mesh3d\":[{\"type\":\"mesh3d\",\"colorbar\":{\"outlinewidth\":0,\"ticks\":\"\"}}],\"scatter\":[{\"fillpattern\":{\"fillmode\":\"overlay\",\"size\":10,\"solidity\":0.2},\"type\":\"scatter\"}],\"parcoords\":[{\"type\":\"parcoords\",\"line\":{\"colorbar\":{\"outlinewidth\":0,\"ticks\":\"\"}}}],\"scatterpolargl\":[{\"type\":\"scatterpolargl\",\"marker\":{\"colorbar\":{\"outlinewidth\":0,\"ticks\":\"\"}}}],\"bar\":[{\"error_x\":{\"color\":\"#2a3f5f\"},\"error_y\":{\"color\":\"#2a3f5f\"},\"marker\":{\"line\":{\"color\":\"#E5ECF6\",\"width\":0.5},\"pattern\":{\"fillmode\":\"overlay\",\"size\":10,\"solidity\":0.2}},\"type\":\"bar\"}],\"scattergeo\":[{\"type\":\"scattergeo\",\"marker\":{\"colorbar\":{\"outlinewidth\":0,\"ticks\":\"\"}}}],\"scatterpolar\":[{\"type\":\"scatterpolar\",\"marker\":{\"colorbar\":{\"outlinewidth\":0,\"ticks\":\"\"}}}],\"histogram\":[{\"marker\":{\"pattern\":{\"fillmode\":\"overlay\",\"size\":10,\"solidity\":0.2}},\"type\":\"histogram\"}],\"scattergl\":[{\"type\":\"scattergl\",\"marker\":{\"colorbar\":{\"outlinewidth\":0,\"ticks\":\"\"}}}],\"scatter3d\":[{\"type\":\"scatter3d\",\"line\":{\"colorbar\":{\"outlinewidth\":0,\"ticks\":\"\"}},\"marker\":{\"colorbar\":{\"outlinewidth\":0,\"ticks\":\"\"}}}],\"scattermapbox\":[{\"type\":\"scattermapbox\",\"marker\":{\"colorbar\":{\"outlinewidth\":0,\"ticks\":\"\"}}}],\"scatterternary\":[{\"type\":\"scatterternary\",\"marker\":{\"colorbar\":{\"outlinewidth\":0,\"ticks\":\"\"}}}],\"scattercarpet\":[{\"type\":\"scattercarpet\",\"marker\":{\"colorbar\":{\"outlinewidth\":0,\"ticks\":\"\"}}}],\"carpet\":[{\"aaxis\":{\"endlinecolor\":\"#2a3f5f\",\"gridcolor\":\"white\",\"linecolor\":\"white\",\"minorgridcolor\":\"white\",\"startlinecolor\":\"#2a3f5f\"},\"baxis\":{\"endlinecolor\":\"#2a3f5f\",\"gridcolor\":\"white\",\"linecolor\":\"white\",\"minorgridcolor\":\"white\",\"startlinecolor\":\"#2a3f5f\"},\"type\":\"carpet\"}],\"table\":[{\"cells\":{\"fill\":{\"color\":\"#EBF0F8\"},\"line\":{\"color\":\"white\"}},\"header\":{\"fill\":{\"color\":\"#C8D4E3\"},\"line\":{\"color\":\"white\"}},\"type\":\"table\"}],\"barpolar\":[{\"marker\":{\"line\":{\"color\":\"#E5ECF6\",\"width\":0.5},\"pattern\":{\"fillmode\":\"overlay\",\"size\":10,\"solidity\":0.2}},\"type\":\"barpolar\"}],\"pie\":[{\"automargin\":true,\"type\":\"pie\"}]},\"layout\":{\"autotypenumbers\":\"strict\",\"colorway\":[\"#636efa\",\"#EF553B\",\"#00cc96\",\"#ab63fa\",\"#FFA15A\",\"#19d3f3\",\"#FF6692\",\"#B6E880\",\"#FF97FF\",\"#FECB52\"],\"font\":{\"color\":\"#2a3f5f\"},\"hovermode\":\"closest\",\"hoverlabel\":{\"align\":\"left\"},\"paper_bgcolor\":\"white\",\"plot_bgcolor\":\"#E5ECF6\",\"polar\":{\"bgcolor\":\"#E5ECF6\",\"angularaxis\":{\"gridcolor\":\"white\",\"linecolor\":\"white\",\"ticks\":\"\"},\"radialaxis\":{\"gridcolor\":\"white\",\"linecolor\":\"white\",\"ticks\":\"\"}},\"ternary\":{\"bgcolor\":\"#E5ECF6\",\"aaxis\":{\"gridcolor\":\"white\",\"linecolor\":\"white\",\"ticks\":\"\"},\"baxis\":{\"gridcolor\":\"white\",\"linecolor\":\"white\",\"ticks\":\"\"},\"caxis\":{\"gridcolor\":\"white\",\"linecolor\":\"white\",\"ticks\":\"\"}},\"coloraxis\":{\"colorbar\":{\"outlinewidth\":0,\"ticks\":\"\"}},\"colorscale\":{\"sequential\":[[0.0,\"#0d0887\"],[0.1111111111111111,\"#46039f\"],[0.2222222222222222,\"#7201a8\"],[0.3333333333333333,\"#9c179e\"],[0.4444444444444444,\"#bd3786\"],[0.5555555555555556,\"#d8576b\"],[0.6666666666666666,\"#ed7953\"],[0.7777777777777778,\"#fb9f3a\"],[0.8888888888888888,\"#fdca26\"],[1.0,\"#f0f921\"]],\"sequentialminus\":[[0.0,\"#0d0887\"],[0.1111111111111111,\"#46039f\"],[0.2222222222222222,\"#7201a8\"],[0.3333333333333333,\"#9c179e\"],[0.4444444444444444,\"#bd3786\"],[0.5555555555555556,\"#d8576b\"],[0.6666666666666666,\"#ed7953\"],[0.7777777777777778,\"#fb9f3a\"],[0.8888888888888888,\"#fdca26\"],[1.0,\"#f0f921\"]],\"diverging\":[[0,\"#8e0152\"],[0.1,\"#c51b7d\"],[0.2,\"#de77ae\"],[0.3,\"#f1b6da\"],[0.4,\"#fde0ef\"],[0.5,\"#f7f7f7\"],[0.6,\"#e6f5d0\"],[0.7,\"#b8e186\"],[0.8,\"#7fbc41\"],[0.9,\"#4d9221\"],[1,\"#276419\"]]},\"xaxis\":{\"gridcolor\":\"white\",\"linecolor\":\"white\",\"ticks\":\"\",\"title\":{\"standoff\":15},\"zerolinecolor\":\"white\",\"automargin\":true,\"zerolinewidth\":2},\"yaxis\":{\"gridcolor\":\"white\",\"linecolor\":\"white\",\"ticks\":\"\",\"title\":{\"standoff\":15},\"zerolinecolor\":\"white\",\"automargin\":true,\"zerolinewidth\":2},\"scene\":{\"xaxis\":{\"backgroundcolor\":\"#E5ECF6\",\"gridcolor\":\"white\",\"linecolor\":\"white\",\"showbackground\":true,\"ticks\":\"\",\"zerolinecolor\":\"white\",\"gridwidth\":2},\"yaxis\":{\"backgroundcolor\":\"#E5ECF6\",\"gridcolor\":\"white\",\"linecolor\":\"white\",\"showbackground\":true,\"ticks\":\"\",\"zerolinecolor\":\"white\",\"gridwidth\":2},\"zaxis\":{\"backgroundcolor\":\"#E5ECF6\",\"gridcolor\":\"white\",\"linecolor\":\"white\",\"showbackground\":true,\"ticks\":\"\",\"zerolinecolor\":\"white\",\"gridwidth\":2}},\"shapedefaults\":{\"line\":{\"color\":\"#2a3f5f\"}},\"annotationdefaults\":{\"arrowcolor\":\"#2a3f5f\",\"arrowhead\":0,\"arrowwidth\":1},\"geo\":{\"bgcolor\":\"white\",\"landcolor\":\"#E5ECF6\",\"subunitcolor\":\"white\",\"showland\":true,\"showlakes\":true,\"lakecolor\":\"white\"},\"title\":{\"x\":0.05},\"mapbox\":{\"style\":\"light\"}}},\"xaxis\":{\"anchor\":\"y\",\"domain\":[0.0,0.94],\"range\":[\"2022-01-01\",\"2025-01-01\"]},\"yaxis\":{\"anchor\":\"x\",\"domain\":[0.0,1.0],\"range\":[0,120],\"title\":{\"text\":\"% Total Funds\"}},\"yaxis2\":{\"anchor\":\"x\",\"overlaying\":\"y\",\"side\":\"right\",\"title\":{\"text\":\"% Enrollment\"}},\"title\":{\"text\":\"ACP Digital Cliff\"}},                        {\"responsive\": true}                    ).then(function(){\n",
       "                            \n",
       "var gd = document.getElementById('cf951961-4033-4693-9ff1-3d445a5897c7');\n",
       "var x = new MutationObserver(function (mutations, observer) {{\n",
       "        var display = window.getComputedStyle(gd).display;\n",
       "        if (!display || display === 'none') {{\n",
       "            console.log([gd, 'removed!']);\n",
       "            Plotly.purge(gd);\n",
       "            observer.disconnect();\n",
       "        }}\n",
       "}});\n",
       "\n",
       "// Listen for the removal of the full notebook cells\n",
       "var notebookContainer = gd.closest('#notebook-container');\n",
       "if (notebookContainer) {{\n",
       "    x.observe(notebookContainer, {childList: true});\n",
       "}}\n",
       "\n",
       "// Listen for the clearing of the current output cell\n",
       "var outputEl = gd.closest('.output');\n",
       "if (outputEl) {{\n",
       "    x.observe(outputEl, {childList: true});\n",
       "}}\n",
       "\n",
       "                        })                };                });            </script>        </div>"
      ]
     },
     "metadata": {},
     "output_type": "display_data"
    }
   ],
   "source": [
    "primary=\"% Total Funds\"\n",
    "secondary=\"% Enrollment\"\n",
    "\n",
    "fig = make_subplots(specs=[[{\"secondary_y\": True}]])\n",
    "col_1='Total Support cum norm'\n",
    "fig.add_trace(\n",
    "    go.Scatter(x=df_p['Data Month'],y=df_p[col_1],name=primary),\n",
    "    secondary_y=False,\n",
    ")\n",
    "fig.add_trace(\n",
    "    go.Scatter(x=[p[0],p[0]],y=[0,200],name=\"Date for Funds Running Out\"),\n",
    "    secondary_y=False,\n",
    ")\n",
    "col_2='Enrollment Pct'\n",
    "fig.add_trace(\n",
    "    go.Scatter(x=df_p['Data Month'],y=df_p[col_2], name=secondary),\n",
    "    secondary_y=True,\n",
    ")\n",
    "fig.update_layout(xaxis_range=['2022-01-01','2025-01-01'],yaxis_range=[0,120],title_text=\"ACP Digital Cliff\")\n",
    "\n",
    "fig.update_yaxes(\n",
    "        title_text=primary, \n",
    "        secondary_y=False)\n",
    "fig.update_yaxes(\n",
    "        title_text=secondary, \n",
    "        secondary_y=True)\n"
   ]
  },
  {
   "cell_type": "markdown",
   "id": "6ce5ec7d",
   "metadata": {},
   "source": [
    "### The with the linear growht of monthly new enrollments as a parameter\n",
    "\n",
    "As an ilustration, the following model assumes a linear growth for the monthly new enrollments\n",
    "with:\n",
    "\n",
    "- y-intercept: average of monthly new enrollments as of November 2022\n",
    "- slope: a positive growth from the previous linear extrapolation described in the past section"
   ]
  },
  {
   "cell_type": "code",
   "execution_count": 40,
   "id": "87e613bb",
   "metadata": {},
   "outputs": [
    {
     "name": "stdout",
     "output_type": "stream",
     "text": [
      "<class 'pandas.core.frame.DataFrame'>\n",
      "RangeIndex: 48 entries, 0 to 47\n",
      "Data columns (total 7 columns):\n",
      " #   Column                     Non-Null Count  Dtype         \n",
      "---  ------                     --------------  -----         \n",
      " 0   Data Month                 48 non-null     datetime64[ns]\n",
      " 1   Net New Enrollments total  48 non-null     float64       \n",
      " 2   Total Subscribers          48 non-null     float64       \n",
      " 3   Totat Support              48 non-null     float64       \n",
      " 4   Totat Support cum          48 non-null     float64       \n",
      " 5   Total Support cum norm     48 non-null     float64       \n",
      " 6   Enrollment Pct             48 non-null     float64       \n",
      "dtypes: datetime64[ns](1), float64(6)\n",
      "memory usage: 2.8 KB\n"
     ]
    },
    {
     "name": "stderr",
     "output_type": "stream",
     "text": [
      "/var/folders/rh/4xd1337512l1025llqtt0d2h0000gn/T/ipykernel_1817/1965109831.py:20: FutureWarning:\n",
      "\n",
      "The frame.append method is deprecated and will be removed from pandas in a future version. Use pandas.concat instead.\n",
      "\n"
     ]
    },
    {
     "data": {
      "text/html": [
       "<div>\n",
       "<style scoped>\n",
       "    .dataframe tbody tr th:only-of-type {\n",
       "        vertical-align: middle;\n",
       "    }\n",
       "\n",
       "    .dataframe tbody tr th {\n",
       "        vertical-align: top;\n",
       "    }\n",
       "\n",
       "    .dataframe thead th {\n",
       "        text-align: right;\n",
       "    }\n",
       "</style>\n",
       "<table border=\"1\" class=\"dataframe\">\n",
       "  <thead>\n",
       "    <tr style=\"text-align: right;\">\n",
       "      <th></th>\n",
       "      <th>Data Month</th>\n",
       "      <th>Net New Enrollments total</th>\n",
       "      <th>Total Subscribers</th>\n",
       "      <th>Totat Support</th>\n",
       "      <th>Totat Support cum</th>\n",
       "      <th>Total Support cum norm</th>\n",
       "      <th>Enrollment Pct</th>\n",
       "    </tr>\n",
       "  </thead>\n",
       "  <tbody>\n",
       "    <tr>\n",
       "      <th>0</th>\n",
       "      <td>2022-01-01</td>\n",
       "      <td>651037.000000</td>\n",
       "      <td>9.697257e+06</td>\n",
       "      <td>3.098821e+08</td>\n",
       "      <td>3.098821e+08</td>\n",
       "      <td>1.889525</td>\n",
       "      <td>18.465836</td>\n",
       "    </tr>\n",
       "    <tr>\n",
       "      <th>1</th>\n",
       "      <td>2022-02-01</td>\n",
       "      <td>567288.000000</td>\n",
       "      <td>1.026454e+07</td>\n",
       "      <td>3.280102e+08</td>\n",
       "      <td>6.378923e+08</td>\n",
       "      <td>3.889587</td>\n",
       "      <td>19.546085</td>\n",
       "    </tr>\n",
       "    <tr>\n",
       "      <th>2</th>\n",
       "      <td>2022-03-01</td>\n",
       "      <td>891942.000000</td>\n",
       "      <td>1.115649e+07</td>\n",
       "      <td>3.565128e+08</td>\n",
       "      <td>9.944051e+08</td>\n",
       "      <td>6.063446</td>\n",
       "      <td>21.244550</td>\n",
       "    </tr>\n",
       "    <tr>\n",
       "      <th>3</th>\n",
       "      <td>2022-04-01</td>\n",
       "      <td>419564.000000</td>\n",
       "      <td>1.157605e+07</td>\n",
       "      <td>3.699202e+08</td>\n",
       "      <td>1.364325e+09</td>\n",
       "      <td>8.319057</td>\n",
       "      <td>22.043498</td>\n",
       "    </tr>\n",
       "    <tr>\n",
       "      <th>4</th>\n",
       "      <td>2022-05-01</td>\n",
       "      <td>578509.000000</td>\n",
       "      <td>1.215456e+07</td>\n",
       "      <td>3.884068e+08</td>\n",
       "      <td>1.752732e+09</td>\n",
       "      <td>10.687391</td>\n",
       "      <td>23.145114</td>\n",
       "    </tr>\n",
       "    <tr>\n",
       "      <th>5</th>\n",
       "      <td>2022-06-01</td>\n",
       "      <td>547137.000000</td>\n",
       "      <td>1.270170e+07</td>\n",
       "      <td>4.058909e+08</td>\n",
       "      <td>2.158623e+09</td>\n",
       "      <td>13.162336</td>\n",
       "      <td>24.186990</td>\n",
       "    </tr>\n",
       "    <tr>\n",
       "      <th>6</th>\n",
       "      <td>2022-07-01</td>\n",
       "      <td>403541.000000</td>\n",
       "      <td>1.310524e+07</td>\n",
       "      <td>4.187864e+08</td>\n",
       "      <td>2.577409e+09</td>\n",
       "      <td>15.715911</td>\n",
       "      <td>24.955426</td>\n",
       "    </tr>\n",
       "    <tr>\n",
       "      <th>7</th>\n",
       "      <td>2022-08-01</td>\n",
       "      <td>409601.000000</td>\n",
       "      <td>1.351484e+07</td>\n",
       "      <td>4.318754e+08</td>\n",
       "      <td>3.009285e+09</td>\n",
       "      <td>18.349298</td>\n",
       "      <td>25.735402</td>\n",
       "    </tr>\n",
       "    <tr>\n",
       "      <th>8</th>\n",
       "      <td>2022-09-01</td>\n",
       "      <td>589498.000000</td>\n",
       "      <td>1.410434e+07</td>\n",
       "      <td>4.507132e+08</td>\n",
       "      <td>3.459998e+09</td>\n",
       "      <td>21.097549</td>\n",
       "      <td>26.857943</td>\n",
       "    </tr>\n",
       "    <tr>\n",
       "      <th>9</th>\n",
       "      <td>2022-10-01</td>\n",
       "      <td>588742.000000</td>\n",
       "      <td>1.469308e+07</td>\n",
       "      <td>4.695269e+08</td>\n",
       "      <td>3.929525e+09</td>\n",
       "      <td>23.960518</td>\n",
       "      <td>27.979045</td>\n",
       "    </tr>\n",
       "    <tr>\n",
       "      <th>10</th>\n",
       "      <td>2022-11-01</td>\n",
       "      <td>406126.000000</td>\n",
       "      <td>1.509920e+07</td>\n",
       "      <td>4.825049e+08</td>\n",
       "      <td>4.412030e+09</td>\n",
       "      <td>26.902621</td>\n",
       "      <td>28.752404</td>\n",
       "    </tr>\n",
       "    <tr>\n",
       "      <th>11</th>\n",
       "      <td>2022-12-01</td>\n",
       "      <td>550271.363636</td>\n",
       "      <td>1.564948e+07</td>\n",
       "      <td>5.000891e+08</td>\n",
       "      <td>4.912119e+09</td>\n",
       "      <td>29.951945</td>\n",
       "      <td>29.800249</td>\n",
       "    </tr>\n",
       "    <tr>\n",
       "      <th>12</th>\n",
       "      <td>2023-01-01</td>\n",
       "      <td>570643.772727</td>\n",
       "      <td>1.622012e+07</td>\n",
       "      <td>5.183244e+08</td>\n",
       "      <td>5.430443e+09</td>\n",
       "      <td>33.112460</td>\n",
       "      <td>30.886887</td>\n",
       "    </tr>\n",
       "    <tr>\n",
       "      <th>13</th>\n",
       "      <td>2023-02-01</td>\n",
       "      <td>591016.181818</td>\n",
       "      <td>1.681114e+07</td>\n",
       "      <td>5.372107e+08</td>\n",
       "      <td>5.967654e+09</td>\n",
       "      <td>36.388135</td>\n",
       "      <td>32.012320</td>\n",
       "    </tr>\n",
       "    <tr>\n",
       "      <th>14</th>\n",
       "      <td>2023-03-01</td>\n",
       "      <td>611388.590909</td>\n",
       "      <td>1.742252e+07</td>\n",
       "      <td>5.567481e+08</td>\n",
       "      <td>6.524402e+09</td>\n",
       "      <td>39.782940</td>\n",
       "      <td>33.176546</td>\n",
       "    </tr>\n",
       "    <tr>\n",
       "      <th>15</th>\n",
       "      <td>2023-04-01</td>\n",
       "      <td>631761.000000</td>\n",
       "      <td>1.805429e+07</td>\n",
       "      <td>5.769364e+08</td>\n",
       "      <td>7.101339e+09</td>\n",
       "      <td>43.300845</td>\n",
       "      <td>34.379566</td>\n",
       "    </tr>\n",
       "    <tr>\n",
       "      <th>16</th>\n",
       "      <td>2023-05-01</td>\n",
       "      <td>652133.409091</td>\n",
       "      <td>1.870642e+07</td>\n",
       "      <td>5.977757e+08</td>\n",
       "      <td>7.699114e+09</td>\n",
       "      <td>46.945819</td>\n",
       "      <td>35.621380</td>\n",
       "    </tr>\n",
       "    <tr>\n",
       "      <th>17</th>\n",
       "      <td>2023-06-01</td>\n",
       "      <td>672505.818182</td>\n",
       "      <td>1.937893e+07</td>\n",
       "      <td>6.192661e+08</td>\n",
       "      <td>8.318380e+09</td>\n",
       "      <td>50.721832</td>\n",
       "      <td>36.901988</td>\n",
       "    </tr>\n",
       "    <tr>\n",
       "      <th>18</th>\n",
       "      <td>2023-07-01</td>\n",
       "      <td>692878.227273</td>\n",
       "      <td>2.007180e+07</td>\n",
       "      <td>6.414075e+08</td>\n",
       "      <td>8.959788e+09</td>\n",
       "      <td>54.632853</td>\n",
       "      <td>38.221390</td>\n",
       "    </tr>\n",
       "    <tr>\n",
       "      <th>19</th>\n",
       "      <td>2023-08-01</td>\n",
       "      <td>713250.636364</td>\n",
       "      <td>2.078505e+07</td>\n",
       "      <td>6.641999e+08</td>\n",
       "      <td>9.623988e+09</td>\n",
       "      <td>58.682852</td>\n",
       "      <td>39.579585</td>\n",
       "    </tr>\n",
       "  </tbody>\n",
       "</table>\n",
       "</div>"
      ],
      "text/plain": [
       "   Data Month  Net New Enrollments total  Total Subscribers  Totat Support  \\\n",
       "0  2022-01-01              651037.000000       9.697257e+06   3.098821e+08   \n",
       "1  2022-02-01              567288.000000       1.026454e+07   3.280102e+08   \n",
       "2  2022-03-01              891942.000000       1.115649e+07   3.565128e+08   \n",
       "3  2022-04-01              419564.000000       1.157605e+07   3.699202e+08   \n",
       "4  2022-05-01              578509.000000       1.215456e+07   3.884068e+08   \n",
       "5  2022-06-01              547137.000000       1.270170e+07   4.058909e+08   \n",
       "6  2022-07-01              403541.000000       1.310524e+07   4.187864e+08   \n",
       "7  2022-08-01              409601.000000       1.351484e+07   4.318754e+08   \n",
       "8  2022-09-01              589498.000000       1.410434e+07   4.507132e+08   \n",
       "9  2022-10-01              588742.000000       1.469308e+07   4.695269e+08   \n",
       "10 2022-11-01              406126.000000       1.509920e+07   4.825049e+08   \n",
       "11 2022-12-01              550271.363636       1.564948e+07   5.000891e+08   \n",
       "12 2023-01-01              570643.772727       1.622012e+07   5.183244e+08   \n",
       "13 2023-02-01              591016.181818       1.681114e+07   5.372107e+08   \n",
       "14 2023-03-01              611388.590909       1.742252e+07   5.567481e+08   \n",
       "15 2023-04-01              631761.000000       1.805429e+07   5.769364e+08   \n",
       "16 2023-05-01              652133.409091       1.870642e+07   5.977757e+08   \n",
       "17 2023-06-01              672505.818182       1.937893e+07   6.192661e+08   \n",
       "18 2023-07-01              692878.227273       2.007180e+07   6.414075e+08   \n",
       "19 2023-08-01              713250.636364       2.078505e+07   6.641999e+08   \n",
       "\n",
       "    Totat Support cum  Total Support cum norm  Enrollment Pct  \n",
       "0        3.098821e+08                1.889525       18.465836  \n",
       "1        6.378923e+08                3.889587       19.546085  \n",
       "2        9.944051e+08                6.063446       21.244550  \n",
       "3        1.364325e+09                8.319057       22.043498  \n",
       "4        1.752732e+09               10.687391       23.145114  \n",
       "5        2.158623e+09               13.162336       24.186990  \n",
       "6        2.577409e+09               15.715911       24.955426  \n",
       "7        3.009285e+09               18.349298       25.735402  \n",
       "8        3.459998e+09               21.097549       26.857943  \n",
       "9        3.929525e+09               23.960518       27.979045  \n",
       "10       4.412030e+09               26.902621       28.752404  \n",
       "11       4.912119e+09               29.951945       29.800249  \n",
       "12       5.430443e+09               33.112460       30.886887  \n",
       "13       5.967654e+09               36.388135       32.012320  \n",
       "14       6.524402e+09               39.782940       33.176546  \n",
       "15       7.101339e+09               43.300845       34.379566  \n",
       "16       7.699114e+09               46.945819       35.621380  \n",
       "17       8.318380e+09               50.721832       36.901988  \n",
       "18       8.959788e+09               54.632853       38.221390  \n",
       "19       9.623988e+09               58.682852       39.579585  "
      ]
     },
     "execution_count": 40,
     "metadata": {},
     "output_type": "execute_result"
    }
   ],
   "source": [
    "df_p=pd.DataFrame()\n",
    "df_p['Data Month']=df_e['Data Month']\n",
    "df_p['Net New Enrollments total']=df_e['Net New Enrollments total']\n",
    "df_p.reset_index()\n",
    "\n",
    "sdate = date(2022,12,1)   # start date\n",
    "edate = date(2026,1,1)\n",
    "months= pd.date_range(sdate,edate , freq='1M')-pd.offsets.MonthBegin(1)\n",
    "\n",
    "#new_enroll=months.shape[0]*[monthly_enroll]\n",
    "y02=monthly_enroll\n",
    "m2=-m\n",
    "\n",
    "new_enroll=y02+m2*np.array(list(range(0,months.shape[0])))\n",
    "\n",
    "df_a=pd.DataFrame()\n",
    "df_a['Data Month']=months\n",
    "df_a['Net New Enrollments total']=new_enroll\n",
    "\n",
    "df_p=df_p.append(df_a).reset_index(drop=True)\n",
    "\n",
    "\n",
    "\n",
    "df_p['Total Subscribers']=df_p['Net New Enrollments total'].cumsum()+ebb_enrol\n",
    "df_p['Totat Support']=df_p['Total Subscribers']*monthly_ben\n",
    "df_p['Totat Support cum']=df_p['Totat Support'].cumsum()\n",
    "df_p['Total Support cum norm']=df_p['Totat Support cum']/funds*100\n",
    "df_p['Enrollment Pct']=df_p['Total Subscribers']/total_elig*100\n",
    "\n",
    "#outfile='acp_digital_cliff_linear.csv'\n",
    "#df_p.to_csv(outfile,index=False)\n",
    "\n",
    "df_p.info()\n",
    "df_p.head(20)"
   ]
  },
  {
   "cell_type": "code",
   "execution_count": 41,
   "id": "de264dff",
   "metadata": {},
   "outputs": [
    {
     "data": {
      "text/plain": [
       "Data Month                   2024-04-01 00:00:00\n",
       "Net New Enrollments total          876229.909091\n",
       "Total Subscribers                27224465.818182\n",
       "Totat Support                   869975428.265366\n",
       "Totat Support cum             15836234082.985376\n",
       "Total Support cum norm                 96.562403\n",
       "Enrollment Pct                         51.841725\n",
       "Name: 27, dtype: object"
      ]
     },
     "execution_count": 41,
     "metadata": {},
     "output_type": "execute_result"
    }
   ],
   "source": [
    "ro=df_p[df_p['Total Support cum norm']<=100]\n",
    "p=df_p.iloc[ro.shape[0]-1]\n",
    "p"
   ]
  },
  {
   "cell_type": "code",
   "execution_count": 42,
   "id": "1c33a5fa",
   "metadata": {},
   "outputs": [
    {
     "data": {
      "application/vnd.plotly.v1+json": {
       "config": {
        "plotlyServerURL": "https://plot.ly"
       },
       "data": [
        {
         "name": "% Total Funds",
         "type": "scatter",
         "x": [
          "2022-01-01T00:00:00",
          "2022-02-01T00:00:00",
          "2022-03-01T00:00:00",
          "2022-04-01T00:00:00",
          "2022-05-01T00:00:00",
          "2022-06-01T00:00:00",
          "2022-07-01T00:00:00",
          "2022-08-01T00:00:00",
          "2022-09-01T00:00:00",
          "2022-10-01T00:00:00",
          "2022-11-01T00:00:00",
          "2022-12-01T00:00:00",
          "2023-01-01T00:00:00",
          "2023-02-01T00:00:00",
          "2023-03-01T00:00:00",
          "2023-04-01T00:00:00",
          "2023-05-01T00:00:00",
          "2023-06-01T00:00:00",
          "2023-07-01T00:00:00",
          "2023-08-01T00:00:00",
          "2023-09-01T00:00:00",
          "2023-10-01T00:00:00",
          "2023-11-01T00:00:00",
          "2023-12-01T00:00:00",
          "2024-01-01T00:00:00",
          "2024-02-01T00:00:00",
          "2024-03-01T00:00:00",
          "2024-04-01T00:00:00",
          "2024-05-01T00:00:00",
          "2024-06-01T00:00:00",
          "2024-07-01T00:00:00",
          "2024-08-01T00:00:00",
          "2024-09-01T00:00:00",
          "2024-10-01T00:00:00",
          "2024-11-01T00:00:00",
          "2024-12-01T00:00:00",
          "2025-01-01T00:00:00",
          "2025-02-01T00:00:00",
          "2025-03-01T00:00:00",
          "2025-04-01T00:00:00",
          "2025-05-01T00:00:00",
          "2025-06-01T00:00:00",
          "2025-07-01T00:00:00",
          "2025-08-01T00:00:00",
          "2025-09-01T00:00:00",
          "2025-10-01T00:00:00",
          "2025-11-01T00:00:00",
          "2025-12-01T00:00:00"
         ],
         "xaxis": "x",
         "y": [
          1.889525150612805,
          3.8895872235368203,
          6.063445540273687,
          8.31905653514332,
          10.687390881096242,
          13.162335696621208,
          15.715911084565104,
          18.349297845066843,
          21.097549179874076,
          23.960517781246693,
          26.90262064618661,
          29.951944716179955,
          33.112459585861174,
          36.388134849864684,
          39.78294010282492,
          43.30084493937628,
          46.945818954153225,
          50.721831741790155,
          54.632852896921506,
          58.682852014181705,
          62.87579868820517,
          67.21566251362634,
          71.70641308507963,
          76.35201999719946,
          81.15645284462028,
          86.12368122197648,
          91.25767472390251,
          96.56240294503279,
          102.04183548000174,
          107.69994192344379,
          113.54069186999338,
          119.5680549142849,
          125.78600065095283,
          132.19849867463154,
          138.80951857995547,
          145.62302996155907,
          152.64300241407673,
          159.8734055321429,
          167.31820891039203,
          174.98138214345852,
          182.86689482597677,
          190.97871655258123,
          199.32081691790634,
          207.89716551658648,
          216.7117319432561,
          225.76848579254965,
          235.07139665910154,
          244.6244341375462
         ],
         "yaxis": "y"
        },
        {
         "name": "Date for Funds Running Out",
         "type": "scatter",
         "x": [
          "2024-04-01T00:00:00",
          "2024-04-01T00:00:00"
         ],
         "xaxis": "x",
         "y": [
          0,
          200
         ],
         "yaxis": "y"
        },
        {
         "name": "% Enrollment",
         "type": "scatter",
         "x": [
          "2022-01-01T00:00:00",
          "2022-02-01T00:00:00",
          "2022-03-01T00:00:00",
          "2022-04-01T00:00:00",
          "2022-05-01T00:00:00",
          "2022-06-01T00:00:00",
          "2022-07-01T00:00:00",
          "2022-08-01T00:00:00",
          "2022-09-01T00:00:00",
          "2022-10-01T00:00:00",
          "2022-11-01T00:00:00",
          "2022-12-01T00:00:00",
          "2023-01-01T00:00:00",
          "2023-02-01T00:00:00",
          "2023-03-01T00:00:00",
          "2023-04-01T00:00:00",
          "2023-05-01T00:00:00",
          "2023-06-01T00:00:00",
          "2023-07-01T00:00:00",
          "2023-08-01T00:00:00",
          "2023-09-01T00:00:00",
          "2023-10-01T00:00:00",
          "2023-11-01T00:00:00",
          "2023-12-01T00:00:00",
          "2024-01-01T00:00:00",
          "2024-02-01T00:00:00",
          "2024-03-01T00:00:00",
          "2024-04-01T00:00:00",
          "2024-05-01T00:00:00",
          "2024-06-01T00:00:00",
          "2024-07-01T00:00:00",
          "2024-08-01T00:00:00",
          "2024-09-01T00:00:00",
          "2024-10-01T00:00:00",
          "2024-11-01T00:00:00",
          "2024-12-01T00:00:00",
          "2025-01-01T00:00:00",
          "2025-02-01T00:00:00",
          "2025-03-01T00:00:00",
          "2025-04-01T00:00:00",
          "2025-05-01T00:00:00",
          "2025-06-01T00:00:00",
          "2025-07-01T00:00:00",
          "2025-08-01T00:00:00",
          "2025-09-01T00:00:00",
          "2025-10-01T00:00:00",
          "2025-11-01T00:00:00",
          "2025-12-01T00:00:00"
         ],
         "xaxis": "x",
         "y": [
          18.465836432520085,
          19.546084941777032,
          21.244550299485383,
          22.043497898478982,
          23.145113805816568,
          24.186990116631033,
          24.955426190854453,
          25.735401916835176,
          26.857943440205933,
          27.97904536345647,
          28.752403879889897,
          29.800248749259538,
          30.88688743156094,
          32.01231992679408,
          33.17654623495898,
          34.379566356055626,
          35.621380290084026,
          36.90198803704418,
          38.22138959693607,
          39.579584969759736,
          40.97657415551513,
          42.41235715420229,
          43.88693396582119,
          45.400304590371846,
          46.95246902785426,
          48.54342727826841,
          50.17317934161433,
          51.84172521789199,
          53.549064907101396,
          55.29519840924255,
          57.080125724315465,
          58.90384685232013,
          60.76636179325654,
          62.66767054712471,
          64.60777311392462,
          66.58666949365629,
          68.60435968631971,
          70.66084369191489,
          72.7561215104418,
          74.89019314190047,
          77.06305858629091,
          79.27471784361308,
          81.525170913867,
          83.81441779705267,
          86.1424584931701,
          88.50929300221928,
          90.91492132420021,
          93.35934345911289
         ],
         "yaxis": "y2"
        }
       ],
       "layout": {
        "template": {
         "data": {
          "bar": [
           {
            "error_x": {
             "color": "#2a3f5f"
            },
            "error_y": {
             "color": "#2a3f5f"
            },
            "marker": {
             "line": {
              "color": "#E5ECF6",
              "width": 0.5
             },
             "pattern": {
              "fillmode": "overlay",
              "size": 10,
              "solidity": 0.2
             }
            },
            "type": "bar"
           }
          ],
          "barpolar": [
           {
            "marker": {
             "line": {
              "color": "#E5ECF6",
              "width": 0.5
             },
             "pattern": {
              "fillmode": "overlay",
              "size": 10,
              "solidity": 0.2
             }
            },
            "type": "barpolar"
           }
          ],
          "carpet": [
           {
            "aaxis": {
             "endlinecolor": "#2a3f5f",
             "gridcolor": "white",
             "linecolor": "white",
             "minorgridcolor": "white",
             "startlinecolor": "#2a3f5f"
            },
            "baxis": {
             "endlinecolor": "#2a3f5f",
             "gridcolor": "white",
             "linecolor": "white",
             "minorgridcolor": "white",
             "startlinecolor": "#2a3f5f"
            },
            "type": "carpet"
           }
          ],
          "choropleth": [
           {
            "colorbar": {
             "outlinewidth": 0,
             "ticks": ""
            },
            "type": "choropleth"
           }
          ],
          "contour": [
           {
            "colorbar": {
             "outlinewidth": 0,
             "ticks": ""
            },
            "colorscale": [
             [
              0,
              "#0d0887"
             ],
             [
              0.1111111111111111,
              "#46039f"
             ],
             [
              0.2222222222222222,
              "#7201a8"
             ],
             [
              0.3333333333333333,
              "#9c179e"
             ],
             [
              0.4444444444444444,
              "#bd3786"
             ],
             [
              0.5555555555555556,
              "#d8576b"
             ],
             [
              0.6666666666666666,
              "#ed7953"
             ],
             [
              0.7777777777777778,
              "#fb9f3a"
             ],
             [
              0.8888888888888888,
              "#fdca26"
             ],
             [
              1,
              "#f0f921"
             ]
            ],
            "type": "contour"
           }
          ],
          "contourcarpet": [
           {
            "colorbar": {
             "outlinewidth": 0,
             "ticks": ""
            },
            "type": "contourcarpet"
           }
          ],
          "heatmap": [
           {
            "colorbar": {
             "outlinewidth": 0,
             "ticks": ""
            },
            "colorscale": [
             [
              0,
              "#0d0887"
             ],
             [
              0.1111111111111111,
              "#46039f"
             ],
             [
              0.2222222222222222,
              "#7201a8"
             ],
             [
              0.3333333333333333,
              "#9c179e"
             ],
             [
              0.4444444444444444,
              "#bd3786"
             ],
             [
              0.5555555555555556,
              "#d8576b"
             ],
             [
              0.6666666666666666,
              "#ed7953"
             ],
             [
              0.7777777777777778,
              "#fb9f3a"
             ],
             [
              0.8888888888888888,
              "#fdca26"
             ],
             [
              1,
              "#f0f921"
             ]
            ],
            "type": "heatmap"
           }
          ],
          "heatmapgl": [
           {
            "colorbar": {
             "outlinewidth": 0,
             "ticks": ""
            },
            "colorscale": [
             [
              0,
              "#0d0887"
             ],
             [
              0.1111111111111111,
              "#46039f"
             ],
             [
              0.2222222222222222,
              "#7201a8"
             ],
             [
              0.3333333333333333,
              "#9c179e"
             ],
             [
              0.4444444444444444,
              "#bd3786"
             ],
             [
              0.5555555555555556,
              "#d8576b"
             ],
             [
              0.6666666666666666,
              "#ed7953"
             ],
             [
              0.7777777777777778,
              "#fb9f3a"
             ],
             [
              0.8888888888888888,
              "#fdca26"
             ],
             [
              1,
              "#f0f921"
             ]
            ],
            "type": "heatmapgl"
           }
          ],
          "histogram": [
           {
            "marker": {
             "pattern": {
              "fillmode": "overlay",
              "size": 10,
              "solidity": 0.2
             }
            },
            "type": "histogram"
           }
          ],
          "histogram2d": [
           {
            "colorbar": {
             "outlinewidth": 0,
             "ticks": ""
            },
            "colorscale": [
             [
              0,
              "#0d0887"
             ],
             [
              0.1111111111111111,
              "#46039f"
             ],
             [
              0.2222222222222222,
              "#7201a8"
             ],
             [
              0.3333333333333333,
              "#9c179e"
             ],
             [
              0.4444444444444444,
              "#bd3786"
             ],
             [
              0.5555555555555556,
              "#d8576b"
             ],
             [
              0.6666666666666666,
              "#ed7953"
             ],
             [
              0.7777777777777778,
              "#fb9f3a"
             ],
             [
              0.8888888888888888,
              "#fdca26"
             ],
             [
              1,
              "#f0f921"
             ]
            ],
            "type": "histogram2d"
           }
          ],
          "histogram2dcontour": [
           {
            "colorbar": {
             "outlinewidth": 0,
             "ticks": ""
            },
            "colorscale": [
             [
              0,
              "#0d0887"
             ],
             [
              0.1111111111111111,
              "#46039f"
             ],
             [
              0.2222222222222222,
              "#7201a8"
             ],
             [
              0.3333333333333333,
              "#9c179e"
             ],
             [
              0.4444444444444444,
              "#bd3786"
             ],
             [
              0.5555555555555556,
              "#d8576b"
             ],
             [
              0.6666666666666666,
              "#ed7953"
             ],
             [
              0.7777777777777778,
              "#fb9f3a"
             ],
             [
              0.8888888888888888,
              "#fdca26"
             ],
             [
              1,
              "#f0f921"
             ]
            ],
            "type": "histogram2dcontour"
           }
          ],
          "mesh3d": [
           {
            "colorbar": {
             "outlinewidth": 0,
             "ticks": ""
            },
            "type": "mesh3d"
           }
          ],
          "parcoords": [
           {
            "line": {
             "colorbar": {
              "outlinewidth": 0,
              "ticks": ""
             }
            },
            "type": "parcoords"
           }
          ],
          "pie": [
           {
            "automargin": true,
            "type": "pie"
           }
          ],
          "scatter": [
           {
            "fillpattern": {
             "fillmode": "overlay",
             "size": 10,
             "solidity": 0.2
            },
            "type": "scatter"
           }
          ],
          "scatter3d": [
           {
            "line": {
             "colorbar": {
              "outlinewidth": 0,
              "ticks": ""
             }
            },
            "marker": {
             "colorbar": {
              "outlinewidth": 0,
              "ticks": ""
             }
            },
            "type": "scatter3d"
           }
          ],
          "scattercarpet": [
           {
            "marker": {
             "colorbar": {
              "outlinewidth": 0,
              "ticks": ""
             }
            },
            "type": "scattercarpet"
           }
          ],
          "scattergeo": [
           {
            "marker": {
             "colorbar": {
              "outlinewidth": 0,
              "ticks": ""
             }
            },
            "type": "scattergeo"
           }
          ],
          "scattergl": [
           {
            "marker": {
             "colorbar": {
              "outlinewidth": 0,
              "ticks": ""
             }
            },
            "type": "scattergl"
           }
          ],
          "scattermapbox": [
           {
            "marker": {
             "colorbar": {
              "outlinewidth": 0,
              "ticks": ""
             }
            },
            "type": "scattermapbox"
           }
          ],
          "scatterpolar": [
           {
            "marker": {
             "colorbar": {
              "outlinewidth": 0,
              "ticks": ""
             }
            },
            "type": "scatterpolar"
           }
          ],
          "scatterpolargl": [
           {
            "marker": {
             "colorbar": {
              "outlinewidth": 0,
              "ticks": ""
             }
            },
            "type": "scatterpolargl"
           }
          ],
          "scatterternary": [
           {
            "marker": {
             "colorbar": {
              "outlinewidth": 0,
              "ticks": ""
             }
            },
            "type": "scatterternary"
           }
          ],
          "surface": [
           {
            "colorbar": {
             "outlinewidth": 0,
             "ticks": ""
            },
            "colorscale": [
             [
              0,
              "#0d0887"
             ],
             [
              0.1111111111111111,
              "#46039f"
             ],
             [
              0.2222222222222222,
              "#7201a8"
             ],
             [
              0.3333333333333333,
              "#9c179e"
             ],
             [
              0.4444444444444444,
              "#bd3786"
             ],
             [
              0.5555555555555556,
              "#d8576b"
             ],
             [
              0.6666666666666666,
              "#ed7953"
             ],
             [
              0.7777777777777778,
              "#fb9f3a"
             ],
             [
              0.8888888888888888,
              "#fdca26"
             ],
             [
              1,
              "#f0f921"
             ]
            ],
            "type": "surface"
           }
          ],
          "table": [
           {
            "cells": {
             "fill": {
              "color": "#EBF0F8"
             },
             "line": {
              "color": "white"
             }
            },
            "header": {
             "fill": {
              "color": "#C8D4E3"
             },
             "line": {
              "color": "white"
             }
            },
            "type": "table"
           }
          ]
         },
         "layout": {
          "annotationdefaults": {
           "arrowcolor": "#2a3f5f",
           "arrowhead": 0,
           "arrowwidth": 1
          },
          "autotypenumbers": "strict",
          "coloraxis": {
           "colorbar": {
            "outlinewidth": 0,
            "ticks": ""
           }
          },
          "colorscale": {
           "diverging": [
            [
             0,
             "#8e0152"
            ],
            [
             0.1,
             "#c51b7d"
            ],
            [
             0.2,
             "#de77ae"
            ],
            [
             0.3,
             "#f1b6da"
            ],
            [
             0.4,
             "#fde0ef"
            ],
            [
             0.5,
             "#f7f7f7"
            ],
            [
             0.6,
             "#e6f5d0"
            ],
            [
             0.7,
             "#b8e186"
            ],
            [
             0.8,
             "#7fbc41"
            ],
            [
             0.9,
             "#4d9221"
            ],
            [
             1,
             "#276419"
            ]
           ],
           "sequential": [
            [
             0,
             "#0d0887"
            ],
            [
             0.1111111111111111,
             "#46039f"
            ],
            [
             0.2222222222222222,
             "#7201a8"
            ],
            [
             0.3333333333333333,
             "#9c179e"
            ],
            [
             0.4444444444444444,
             "#bd3786"
            ],
            [
             0.5555555555555556,
             "#d8576b"
            ],
            [
             0.6666666666666666,
             "#ed7953"
            ],
            [
             0.7777777777777778,
             "#fb9f3a"
            ],
            [
             0.8888888888888888,
             "#fdca26"
            ],
            [
             1,
             "#f0f921"
            ]
           ],
           "sequentialminus": [
            [
             0,
             "#0d0887"
            ],
            [
             0.1111111111111111,
             "#46039f"
            ],
            [
             0.2222222222222222,
             "#7201a8"
            ],
            [
             0.3333333333333333,
             "#9c179e"
            ],
            [
             0.4444444444444444,
             "#bd3786"
            ],
            [
             0.5555555555555556,
             "#d8576b"
            ],
            [
             0.6666666666666666,
             "#ed7953"
            ],
            [
             0.7777777777777778,
             "#fb9f3a"
            ],
            [
             0.8888888888888888,
             "#fdca26"
            ],
            [
             1,
             "#f0f921"
            ]
           ]
          },
          "colorway": [
           "#636efa",
           "#EF553B",
           "#00cc96",
           "#ab63fa",
           "#FFA15A",
           "#19d3f3",
           "#FF6692",
           "#B6E880",
           "#FF97FF",
           "#FECB52"
          ],
          "font": {
           "color": "#2a3f5f"
          },
          "geo": {
           "bgcolor": "white",
           "lakecolor": "white",
           "landcolor": "#E5ECF6",
           "showlakes": true,
           "showland": true,
           "subunitcolor": "white"
          },
          "hoverlabel": {
           "align": "left"
          },
          "hovermode": "closest",
          "mapbox": {
           "style": "light"
          },
          "paper_bgcolor": "white",
          "plot_bgcolor": "#E5ECF6",
          "polar": {
           "angularaxis": {
            "gridcolor": "white",
            "linecolor": "white",
            "ticks": ""
           },
           "bgcolor": "#E5ECF6",
           "radialaxis": {
            "gridcolor": "white",
            "linecolor": "white",
            "ticks": ""
           }
          },
          "scene": {
           "xaxis": {
            "backgroundcolor": "#E5ECF6",
            "gridcolor": "white",
            "gridwidth": 2,
            "linecolor": "white",
            "showbackground": true,
            "ticks": "",
            "zerolinecolor": "white"
           },
           "yaxis": {
            "backgroundcolor": "#E5ECF6",
            "gridcolor": "white",
            "gridwidth": 2,
            "linecolor": "white",
            "showbackground": true,
            "ticks": "",
            "zerolinecolor": "white"
           },
           "zaxis": {
            "backgroundcolor": "#E5ECF6",
            "gridcolor": "white",
            "gridwidth": 2,
            "linecolor": "white",
            "showbackground": true,
            "ticks": "",
            "zerolinecolor": "white"
           }
          },
          "shapedefaults": {
           "line": {
            "color": "#2a3f5f"
           }
          },
          "ternary": {
           "aaxis": {
            "gridcolor": "white",
            "linecolor": "white",
            "ticks": ""
           },
           "baxis": {
            "gridcolor": "white",
            "linecolor": "white",
            "ticks": ""
           },
           "bgcolor": "#E5ECF6",
           "caxis": {
            "gridcolor": "white",
            "linecolor": "white",
            "ticks": ""
           }
          },
          "title": {
           "x": 0.05
          },
          "xaxis": {
           "automargin": true,
           "gridcolor": "white",
           "linecolor": "white",
           "ticks": "",
           "title": {
            "standoff": 15
           },
           "zerolinecolor": "white",
           "zerolinewidth": 2
          },
          "yaxis": {
           "automargin": true,
           "gridcolor": "white",
           "linecolor": "white",
           "ticks": "",
           "title": {
            "standoff": 15
           },
           "zerolinecolor": "white",
           "zerolinewidth": 2
          }
         }
        },
        "title": {
         "text": "ACP Digital Cliff"
        },
        "xaxis": {
         "anchor": "y",
         "domain": [
          0,
          0.94
         ],
         "range": [
          "2022-01-01",
          "2025-01-01"
         ]
        },
        "yaxis": {
         "anchor": "x",
         "domain": [
          0,
          1
         ],
         "range": [
          0,
          120
         ],
         "title": {
          "text": "% Total Funds"
         }
        },
        "yaxis2": {
         "anchor": "x",
         "overlaying": "y",
         "side": "right",
         "title": {
          "text": "% Enrollment"
         }
        }
       }
      },
      "text/html": [
       "<div>                            <div id=\"8912efac-de2a-4210-9474-273a0638d8a0\" class=\"plotly-graph-div\" style=\"height:525px; width:100%;\"></div>            <script type=\"text/javascript\">                require([\"plotly\"], function(Plotly) {                    window.PLOTLYENV=window.PLOTLYENV || {};                                    if (document.getElementById(\"8912efac-de2a-4210-9474-273a0638d8a0\")) {                    Plotly.newPlot(                        \"8912efac-de2a-4210-9474-273a0638d8a0\",                        [{\"name\":\"% Total Funds\",\"x\":[\"2022-01-01T00:00:00\",\"2022-02-01T00:00:00\",\"2022-03-01T00:00:00\",\"2022-04-01T00:00:00\",\"2022-05-01T00:00:00\",\"2022-06-01T00:00:00\",\"2022-07-01T00:00:00\",\"2022-08-01T00:00:00\",\"2022-09-01T00:00:00\",\"2022-10-01T00:00:00\",\"2022-11-01T00:00:00\",\"2022-12-01T00:00:00\",\"2023-01-01T00:00:00\",\"2023-02-01T00:00:00\",\"2023-03-01T00:00:00\",\"2023-04-01T00:00:00\",\"2023-05-01T00:00:00\",\"2023-06-01T00:00:00\",\"2023-07-01T00:00:00\",\"2023-08-01T00:00:00\",\"2023-09-01T00:00:00\",\"2023-10-01T00:00:00\",\"2023-11-01T00:00:00\",\"2023-12-01T00:00:00\",\"2024-01-01T00:00:00\",\"2024-02-01T00:00:00\",\"2024-03-01T00:00:00\",\"2024-04-01T00:00:00\",\"2024-05-01T00:00:00\",\"2024-06-01T00:00:00\",\"2024-07-01T00:00:00\",\"2024-08-01T00:00:00\",\"2024-09-01T00:00:00\",\"2024-10-01T00:00:00\",\"2024-11-01T00:00:00\",\"2024-12-01T00:00:00\",\"2025-01-01T00:00:00\",\"2025-02-01T00:00:00\",\"2025-03-01T00:00:00\",\"2025-04-01T00:00:00\",\"2025-05-01T00:00:00\",\"2025-06-01T00:00:00\",\"2025-07-01T00:00:00\",\"2025-08-01T00:00:00\",\"2025-09-01T00:00:00\",\"2025-10-01T00:00:00\",\"2025-11-01T00:00:00\",\"2025-12-01T00:00:00\"],\"y\":[1.889525150612805,3.8895872235368203,6.063445540273687,8.31905653514332,10.687390881096242,13.162335696621208,15.715911084565104,18.349297845066843,21.097549179874076,23.960517781246693,26.90262064618661,29.951944716179955,33.112459585861174,36.388134849864684,39.78294010282492,43.30084493937628,46.945818954153225,50.721831741790155,54.632852896921506,58.682852014181705,62.87579868820517,67.21566251362634,71.70641308507963,76.35201999719946,81.15645284462028,86.12368122197648,91.25767472390251,96.56240294503279,102.04183548000174,107.69994192344379,113.54069186999338,119.5680549142849,125.78600065095283,132.19849867463154,138.80951857995547,145.62302996155907,152.64300241407673,159.8734055321429,167.31820891039203,174.98138214345852,182.86689482597677,190.97871655258123,199.32081691790634,207.89716551658648,216.7117319432561,225.76848579254965,235.07139665910154,244.6244341375462],\"type\":\"scatter\",\"xaxis\":\"x\",\"yaxis\":\"y\"},{\"name\":\"Date for Funds Running Out\",\"x\":[\"2024-04-01T00:00:00\",\"2024-04-01T00:00:00\"],\"y\":[0,200],\"type\":\"scatter\",\"xaxis\":\"x\",\"yaxis\":\"y\"},{\"name\":\"% Enrollment\",\"x\":[\"2022-01-01T00:00:00\",\"2022-02-01T00:00:00\",\"2022-03-01T00:00:00\",\"2022-04-01T00:00:00\",\"2022-05-01T00:00:00\",\"2022-06-01T00:00:00\",\"2022-07-01T00:00:00\",\"2022-08-01T00:00:00\",\"2022-09-01T00:00:00\",\"2022-10-01T00:00:00\",\"2022-11-01T00:00:00\",\"2022-12-01T00:00:00\",\"2023-01-01T00:00:00\",\"2023-02-01T00:00:00\",\"2023-03-01T00:00:00\",\"2023-04-01T00:00:00\",\"2023-05-01T00:00:00\",\"2023-06-01T00:00:00\",\"2023-07-01T00:00:00\",\"2023-08-01T00:00:00\",\"2023-09-01T00:00:00\",\"2023-10-01T00:00:00\",\"2023-11-01T00:00:00\",\"2023-12-01T00:00:00\",\"2024-01-01T00:00:00\",\"2024-02-01T00:00:00\",\"2024-03-01T00:00:00\",\"2024-04-01T00:00:00\",\"2024-05-01T00:00:00\",\"2024-06-01T00:00:00\",\"2024-07-01T00:00:00\",\"2024-08-01T00:00:00\",\"2024-09-01T00:00:00\",\"2024-10-01T00:00:00\",\"2024-11-01T00:00:00\",\"2024-12-01T00:00:00\",\"2025-01-01T00:00:00\",\"2025-02-01T00:00:00\",\"2025-03-01T00:00:00\",\"2025-04-01T00:00:00\",\"2025-05-01T00:00:00\",\"2025-06-01T00:00:00\",\"2025-07-01T00:00:00\",\"2025-08-01T00:00:00\",\"2025-09-01T00:00:00\",\"2025-10-01T00:00:00\",\"2025-11-01T00:00:00\",\"2025-12-01T00:00:00\"],\"y\":[18.465836432520085,19.546084941777032,21.244550299485383,22.043497898478982,23.145113805816568,24.186990116631033,24.955426190854453,25.735401916835176,26.857943440205933,27.97904536345647,28.752403879889897,29.800248749259538,30.88688743156094,32.01231992679408,33.17654623495898,34.379566356055626,35.621380290084026,36.90198803704418,38.22138959693607,39.579584969759736,40.97657415551513,42.41235715420229,43.88693396582119,45.400304590371846,46.95246902785426,48.54342727826841,50.17317934161433,51.84172521789199,53.549064907101396,55.29519840924255,57.080125724315465,58.90384685232013,60.76636179325654,62.66767054712471,64.60777311392462,66.58666949365629,68.60435968631971,70.66084369191489,72.7561215104418,74.89019314190047,77.06305858629091,79.27471784361308,81.525170913867,83.81441779705267,86.1424584931701,88.50929300221928,90.91492132420021,93.35934345911289],\"type\":\"scatter\",\"xaxis\":\"x\",\"yaxis\":\"y2\"}],                        {\"template\":{\"data\":{\"histogram2dcontour\":[{\"type\":\"histogram2dcontour\",\"colorbar\":{\"outlinewidth\":0,\"ticks\":\"\"},\"colorscale\":[[0.0,\"#0d0887\"],[0.1111111111111111,\"#46039f\"],[0.2222222222222222,\"#7201a8\"],[0.3333333333333333,\"#9c179e\"],[0.4444444444444444,\"#bd3786\"],[0.5555555555555556,\"#d8576b\"],[0.6666666666666666,\"#ed7953\"],[0.7777777777777778,\"#fb9f3a\"],[0.8888888888888888,\"#fdca26\"],[1.0,\"#f0f921\"]]}],\"choropleth\":[{\"type\":\"choropleth\",\"colorbar\":{\"outlinewidth\":0,\"ticks\":\"\"}}],\"histogram2d\":[{\"type\":\"histogram2d\",\"colorbar\":{\"outlinewidth\":0,\"ticks\":\"\"},\"colorscale\":[[0.0,\"#0d0887\"],[0.1111111111111111,\"#46039f\"],[0.2222222222222222,\"#7201a8\"],[0.3333333333333333,\"#9c179e\"],[0.4444444444444444,\"#bd3786\"],[0.5555555555555556,\"#d8576b\"],[0.6666666666666666,\"#ed7953\"],[0.7777777777777778,\"#fb9f3a\"],[0.8888888888888888,\"#fdca26\"],[1.0,\"#f0f921\"]]}],\"heatmap\":[{\"type\":\"heatmap\",\"colorbar\":{\"outlinewidth\":0,\"ticks\":\"\"},\"colorscale\":[[0.0,\"#0d0887\"],[0.1111111111111111,\"#46039f\"],[0.2222222222222222,\"#7201a8\"],[0.3333333333333333,\"#9c179e\"],[0.4444444444444444,\"#bd3786\"],[0.5555555555555556,\"#d8576b\"],[0.6666666666666666,\"#ed7953\"],[0.7777777777777778,\"#fb9f3a\"],[0.8888888888888888,\"#fdca26\"],[1.0,\"#f0f921\"]]}],\"heatmapgl\":[{\"type\":\"heatmapgl\",\"colorbar\":{\"outlinewidth\":0,\"ticks\":\"\"},\"colorscale\":[[0.0,\"#0d0887\"],[0.1111111111111111,\"#46039f\"],[0.2222222222222222,\"#7201a8\"],[0.3333333333333333,\"#9c179e\"],[0.4444444444444444,\"#bd3786\"],[0.5555555555555556,\"#d8576b\"],[0.6666666666666666,\"#ed7953\"],[0.7777777777777778,\"#fb9f3a\"],[0.8888888888888888,\"#fdca26\"],[1.0,\"#f0f921\"]]}],\"contourcarpet\":[{\"type\":\"contourcarpet\",\"colorbar\":{\"outlinewidth\":0,\"ticks\":\"\"}}],\"contour\":[{\"type\":\"contour\",\"colorbar\":{\"outlinewidth\":0,\"ticks\":\"\"},\"colorscale\":[[0.0,\"#0d0887\"],[0.1111111111111111,\"#46039f\"],[0.2222222222222222,\"#7201a8\"],[0.3333333333333333,\"#9c179e\"],[0.4444444444444444,\"#bd3786\"],[0.5555555555555556,\"#d8576b\"],[0.6666666666666666,\"#ed7953\"],[0.7777777777777778,\"#fb9f3a\"],[0.8888888888888888,\"#fdca26\"],[1.0,\"#f0f921\"]]}],\"surface\":[{\"type\":\"surface\",\"colorbar\":{\"outlinewidth\":0,\"ticks\":\"\"},\"colorscale\":[[0.0,\"#0d0887\"],[0.1111111111111111,\"#46039f\"],[0.2222222222222222,\"#7201a8\"],[0.3333333333333333,\"#9c179e\"],[0.4444444444444444,\"#bd3786\"],[0.5555555555555556,\"#d8576b\"],[0.6666666666666666,\"#ed7953\"],[0.7777777777777778,\"#fb9f3a\"],[0.8888888888888888,\"#fdca26\"],[1.0,\"#f0f921\"]]}],\"mesh3d\":[{\"type\":\"mesh3d\",\"colorbar\":{\"outlinewidth\":0,\"ticks\":\"\"}}],\"scatter\":[{\"fillpattern\":{\"fillmode\":\"overlay\",\"size\":10,\"solidity\":0.2},\"type\":\"scatter\"}],\"parcoords\":[{\"type\":\"parcoords\",\"line\":{\"colorbar\":{\"outlinewidth\":0,\"ticks\":\"\"}}}],\"scatterpolargl\":[{\"type\":\"scatterpolargl\",\"marker\":{\"colorbar\":{\"outlinewidth\":0,\"ticks\":\"\"}}}],\"bar\":[{\"error_x\":{\"color\":\"#2a3f5f\"},\"error_y\":{\"color\":\"#2a3f5f\"},\"marker\":{\"line\":{\"color\":\"#E5ECF6\",\"width\":0.5},\"pattern\":{\"fillmode\":\"overlay\",\"size\":10,\"solidity\":0.2}},\"type\":\"bar\"}],\"scattergeo\":[{\"type\":\"scattergeo\",\"marker\":{\"colorbar\":{\"outlinewidth\":0,\"ticks\":\"\"}}}],\"scatterpolar\":[{\"type\":\"scatterpolar\",\"marker\":{\"colorbar\":{\"outlinewidth\":0,\"ticks\":\"\"}}}],\"histogram\":[{\"marker\":{\"pattern\":{\"fillmode\":\"overlay\",\"size\":10,\"solidity\":0.2}},\"type\":\"histogram\"}],\"scattergl\":[{\"type\":\"scattergl\",\"marker\":{\"colorbar\":{\"outlinewidth\":0,\"ticks\":\"\"}}}],\"scatter3d\":[{\"type\":\"scatter3d\",\"line\":{\"colorbar\":{\"outlinewidth\":0,\"ticks\":\"\"}},\"marker\":{\"colorbar\":{\"outlinewidth\":0,\"ticks\":\"\"}}}],\"scattermapbox\":[{\"type\":\"scattermapbox\",\"marker\":{\"colorbar\":{\"outlinewidth\":0,\"ticks\":\"\"}}}],\"scatterternary\":[{\"type\":\"scatterternary\",\"marker\":{\"colorbar\":{\"outlinewidth\":0,\"ticks\":\"\"}}}],\"scattercarpet\":[{\"type\":\"scattercarpet\",\"marker\":{\"colorbar\":{\"outlinewidth\":0,\"ticks\":\"\"}}}],\"carpet\":[{\"aaxis\":{\"endlinecolor\":\"#2a3f5f\",\"gridcolor\":\"white\",\"linecolor\":\"white\",\"minorgridcolor\":\"white\",\"startlinecolor\":\"#2a3f5f\"},\"baxis\":{\"endlinecolor\":\"#2a3f5f\",\"gridcolor\":\"white\",\"linecolor\":\"white\",\"minorgridcolor\":\"white\",\"startlinecolor\":\"#2a3f5f\"},\"type\":\"carpet\"}],\"table\":[{\"cells\":{\"fill\":{\"color\":\"#EBF0F8\"},\"line\":{\"color\":\"white\"}},\"header\":{\"fill\":{\"color\":\"#C8D4E3\"},\"line\":{\"color\":\"white\"}},\"type\":\"table\"}],\"barpolar\":[{\"marker\":{\"line\":{\"color\":\"#E5ECF6\",\"width\":0.5},\"pattern\":{\"fillmode\":\"overlay\",\"size\":10,\"solidity\":0.2}},\"type\":\"barpolar\"}],\"pie\":[{\"automargin\":true,\"type\":\"pie\"}]},\"layout\":{\"autotypenumbers\":\"strict\",\"colorway\":[\"#636efa\",\"#EF553B\",\"#00cc96\",\"#ab63fa\",\"#FFA15A\",\"#19d3f3\",\"#FF6692\",\"#B6E880\",\"#FF97FF\",\"#FECB52\"],\"font\":{\"color\":\"#2a3f5f\"},\"hovermode\":\"closest\",\"hoverlabel\":{\"align\":\"left\"},\"paper_bgcolor\":\"white\",\"plot_bgcolor\":\"#E5ECF6\",\"polar\":{\"bgcolor\":\"#E5ECF6\",\"angularaxis\":{\"gridcolor\":\"white\",\"linecolor\":\"white\",\"ticks\":\"\"},\"radialaxis\":{\"gridcolor\":\"white\",\"linecolor\":\"white\",\"ticks\":\"\"}},\"ternary\":{\"bgcolor\":\"#E5ECF6\",\"aaxis\":{\"gridcolor\":\"white\",\"linecolor\":\"white\",\"ticks\":\"\"},\"baxis\":{\"gridcolor\":\"white\",\"linecolor\":\"white\",\"ticks\":\"\"},\"caxis\":{\"gridcolor\":\"white\",\"linecolor\":\"white\",\"ticks\":\"\"}},\"coloraxis\":{\"colorbar\":{\"outlinewidth\":0,\"ticks\":\"\"}},\"colorscale\":{\"sequential\":[[0.0,\"#0d0887\"],[0.1111111111111111,\"#46039f\"],[0.2222222222222222,\"#7201a8\"],[0.3333333333333333,\"#9c179e\"],[0.4444444444444444,\"#bd3786\"],[0.5555555555555556,\"#d8576b\"],[0.6666666666666666,\"#ed7953\"],[0.7777777777777778,\"#fb9f3a\"],[0.8888888888888888,\"#fdca26\"],[1.0,\"#f0f921\"]],\"sequentialminus\":[[0.0,\"#0d0887\"],[0.1111111111111111,\"#46039f\"],[0.2222222222222222,\"#7201a8\"],[0.3333333333333333,\"#9c179e\"],[0.4444444444444444,\"#bd3786\"],[0.5555555555555556,\"#d8576b\"],[0.6666666666666666,\"#ed7953\"],[0.7777777777777778,\"#fb9f3a\"],[0.8888888888888888,\"#fdca26\"],[1.0,\"#f0f921\"]],\"diverging\":[[0,\"#8e0152\"],[0.1,\"#c51b7d\"],[0.2,\"#de77ae\"],[0.3,\"#f1b6da\"],[0.4,\"#fde0ef\"],[0.5,\"#f7f7f7\"],[0.6,\"#e6f5d0\"],[0.7,\"#b8e186\"],[0.8,\"#7fbc41\"],[0.9,\"#4d9221\"],[1,\"#276419\"]]},\"xaxis\":{\"gridcolor\":\"white\",\"linecolor\":\"white\",\"ticks\":\"\",\"title\":{\"standoff\":15},\"zerolinecolor\":\"white\",\"automargin\":true,\"zerolinewidth\":2},\"yaxis\":{\"gridcolor\":\"white\",\"linecolor\":\"white\",\"ticks\":\"\",\"title\":{\"standoff\":15},\"zerolinecolor\":\"white\",\"automargin\":true,\"zerolinewidth\":2},\"scene\":{\"xaxis\":{\"backgroundcolor\":\"#E5ECF6\",\"gridcolor\":\"white\",\"linecolor\":\"white\",\"showbackground\":true,\"ticks\":\"\",\"zerolinecolor\":\"white\",\"gridwidth\":2},\"yaxis\":{\"backgroundcolor\":\"#E5ECF6\",\"gridcolor\":\"white\",\"linecolor\":\"white\",\"showbackground\":true,\"ticks\":\"\",\"zerolinecolor\":\"white\",\"gridwidth\":2},\"zaxis\":{\"backgroundcolor\":\"#E5ECF6\",\"gridcolor\":\"white\",\"linecolor\":\"white\",\"showbackground\":true,\"ticks\":\"\",\"zerolinecolor\":\"white\",\"gridwidth\":2}},\"shapedefaults\":{\"line\":{\"color\":\"#2a3f5f\"}},\"annotationdefaults\":{\"arrowcolor\":\"#2a3f5f\",\"arrowhead\":0,\"arrowwidth\":1},\"geo\":{\"bgcolor\":\"white\",\"landcolor\":\"#E5ECF6\",\"subunitcolor\":\"white\",\"showland\":true,\"showlakes\":true,\"lakecolor\":\"white\"},\"title\":{\"x\":0.05},\"mapbox\":{\"style\":\"light\"}}},\"xaxis\":{\"anchor\":\"y\",\"domain\":[0.0,0.94],\"range\":[\"2022-01-01\",\"2025-01-01\"]},\"yaxis\":{\"anchor\":\"x\",\"domain\":[0.0,1.0],\"range\":[0,120],\"title\":{\"text\":\"% Total Funds\"}},\"yaxis2\":{\"anchor\":\"x\",\"overlaying\":\"y\",\"side\":\"right\",\"title\":{\"text\":\"% Enrollment\"}},\"title\":{\"text\":\"ACP Digital Cliff\"}},                        {\"responsive\": true}                    ).then(function(){\n",
       "                            \n",
       "var gd = document.getElementById('8912efac-de2a-4210-9474-273a0638d8a0');\n",
       "var x = new MutationObserver(function (mutations, observer) {{\n",
       "        var display = window.getComputedStyle(gd).display;\n",
       "        if (!display || display === 'none') {{\n",
       "            console.log([gd, 'removed!']);\n",
       "            Plotly.purge(gd);\n",
       "            observer.disconnect();\n",
       "        }}\n",
       "}});\n",
       "\n",
       "// Listen for the removal of the full notebook cells\n",
       "var notebookContainer = gd.closest('#notebook-container');\n",
       "if (notebookContainer) {{\n",
       "    x.observe(notebookContainer, {childList: true});\n",
       "}}\n",
       "\n",
       "// Listen for the clearing of the current output cell\n",
       "var outputEl = gd.closest('.output');\n",
       "if (outputEl) {{\n",
       "    x.observe(outputEl, {childList: true});\n",
       "}}\n",
       "\n",
       "                        })                };                });            </script>        </div>"
      ]
     },
     "metadata": {},
     "output_type": "display_data"
    }
   ],
   "source": [
    "primary=\"% Total Funds\"\n",
    "secondary=\"% Enrollment\"\n",
    "\n",
    "fig = make_subplots(specs=[[{\"secondary_y\": True}]])\n",
    "col_1='Total Support cum norm'\n",
    "fig.add_trace(\n",
    "    go.Scatter(x=df_p['Data Month'],y=df_p[col_1],name=primary),\n",
    "    secondary_y=False,\n",
    ")\n",
    "fig.add_trace(\n",
    "    go.Scatter(x=[p[0],p[0]],y=[0,200],name=\"Date for Funds Running Out\"),\n",
    "    secondary_y=False,\n",
    ")\n",
    "col_2='Enrollment Pct'\n",
    "fig.add_trace(\n",
    "    go.Scatter(x=df_p['Data Month'],y=df_p[col_2], name=secondary),\n",
    "    secondary_y=True,\n",
    ")\n",
    "fig.update_layout(xaxis_range=['2022-01-01','2025-01-01'],yaxis_range=[0,120],title_text=\"ACP Digital Cliff\")\n",
    "\n",
    "fig.update_yaxes(\n",
    "        title_text=primary, \n",
    "        secondary_y=False)\n",
    "fig.update_yaxes(\n",
    "        title_text=secondary, \n",
    "        secondary_y=True)"
   ]
  },
  {
   "cell_type": "code",
   "execution_count": null,
   "id": "98f13d0c",
   "metadata": {},
   "outputs": [],
   "source": []
  }
 ],
 "metadata": {
  "kernelspec": {
   "display_name": "Python 3 (ipykernel)",
   "language": "python",
   "name": "python3"
  },
  "language_info": {
   "codemirror_mode": {
    "name": "ipython",
    "version": 3
   },
   "file_extension": ".py",
   "mimetype": "text/x-python",
   "name": "python",
   "nbconvert_exporter": "python",
   "pygments_lexer": "ipython3",
   "version": "3.9.6"
  },
  "toc": {
   "base_numbering": 1,
   "nav_menu": {},
   "number_sections": true,
   "sideBar": true,
   "skip_h1_title": false,
   "title_cell": "Table of Contents",
   "title_sidebar": "Contents",
   "toc_cell": false,
   "toc_position": {
    "height": "calc(100% - 180px)",
    "left": "10px",
    "top": "150px",
    "width": "388.594px"
   },
   "toc_section_display": true,
   "toc_window_display": true
  }
 },
 "nbformat": 4,
 "nbformat_minor": 5
}
